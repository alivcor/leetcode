{
 "cells": [
  {
   "cell_type": "code",
   "execution_count": 8,
   "metadata": {},
   "outputs": [],
   "source": [
    "import random\n",
    "class RandomizedSet(object):\n",
    "\n",
    "    def __init__(self):\n",
    "        \"\"\"\n",
    "        Initialize your data structure here.\n",
    "        \"\"\"\n",
    "        # BASICALLY IN THIS QUESTION YOU NEED SOMETHING TO \n",
    "        # MAINTAIN INDEX OF VALUES IN THE SET BECAUSE SET FUCKING DOESN'T SUPPORT INDEXES\n",
    "        self.rset = []\n",
    "        self.ldict = {}\n",
    "        \n",
    "\n",
    "    def insert(self, val):\n",
    "        \"\"\"\n",
    "        Inserts a value to the set. Returns true if the set did not already contain the specified element.\n",
    "        :type val: int\n",
    "        :rtype: bool\n",
    "        \"\"\"\n",
    "        if val in self.ldict:\n",
    "            return False\n",
    "        else:\n",
    "            self.rset.append(val)\n",
    "            self.ldict[val] = len(self.rset)-1\n",
    "            return True\n",
    "        \n",
    "\n",
    "    def remove(self, val):\n",
    "        \"\"\"\n",
    "        Removes a value from the set. Returns true if the set contained the specified element.\n",
    "        :type val: int\n",
    "        :rtype: bool\n",
    "        \"\"\"\n",
    "        # we can't just remove an element from list in O(1) avg time but sure \n",
    "        # we can do it if we just had to pop the last element here\n",
    "        if val in self.ldict:\n",
    "            idx = self.ldict[val] # get location of element to be removed \n",
    "            last = self.rset[-1] # get the last element\n",
    "            \n",
    "            self.rset[idx] = last # set first, pop benefits later :-D\n",
    "            self.ldict[last] = idx\n",
    "            \n",
    "            self.ldict.pop(val)\n",
    "            self.rset.pop()\n",
    "            return True\n",
    "        else:\n",
    "            return False\n",
    "        \n",
    "\n",
    "    def getRandom(self):\n",
    "        \"\"\"\n",
    "        Get a random element from the set.\n",
    "        :rtype: int\n",
    "        \"\"\"\n",
    "        return self.rset[random.randint(0, len(self.rset) - 1)]\n",
    "        \n",
    "        \n",
    "\n",
    "\n",
    "# Your RandomizedSet object will be instantiated and called as such:\n",
    "# obj = RandomizedSet()\n",
    "# param_1 = obj.insert(val)\n",
    "# param_2 = obj.remove(val)\n",
    "# param_3 = obj.getRandom()"
   ]
  },
  {
   "cell_type": "code",
   "execution_count": 9,
   "metadata": {},
   "outputs": [
    {
     "name": "stdout",
     "output_type": "stream",
     "text": [
      "True\n",
      "False\n",
      "True\n",
      "1\n",
      "True\n",
      "False\n",
      "2\n"
     ]
    }
   ],
   "source": [
    "randomSet = RandomizedSet()\n",
    "\n",
    "# // Inserts 1 to the set. Returns true as 1 was inserted successfully.\n",
    "print(randomSet.insert(1))\n",
    "\n",
    "# // Returns false as 2 does not exist in the set.\n",
    "print(randomSet.remove(2))\n",
    "\n",
    "# // Inserts 2 to the set, returns true. Set now contains [1,2].\n",
    "print(randomSet.insert(2))\n",
    "\n",
    "# // getRandom should return either 1 or 2 randomly.\n",
    "print(randomSet.getRandom())\n",
    "\n",
    "# // Removes 1 from the set, returns true. Set now contains [2].\n",
    "print(randomSet.remove(1))\n",
    "\n",
    "# // 2 was already in the set, so return false.\n",
    "print(randomSet.insert(2))\n",
    "\n",
    "# // Since 2 is the only number in the set, getRandom always return 2.\n",
    "print(randomSet.getRandom())"
   ]
  },
  {
   "cell_type": "code",
   "execution_count": null,
   "metadata": {},
   "outputs": [],
   "source": []
  }
 ],
 "metadata": {
  "kernelspec": {
   "display_name": "Python 3",
   "language": "python",
   "name": "python3"
  },
  "language_info": {
   "codemirror_mode": {
    "name": "ipython",
    "version": 3
   },
   "file_extension": ".py",
   "mimetype": "text/x-python",
   "name": "python",
   "nbconvert_exporter": "python",
   "pygments_lexer": "ipython3",
   "version": "3.6.5"
  }
 },
 "nbformat": 4,
 "nbformat_minor": 2
}
