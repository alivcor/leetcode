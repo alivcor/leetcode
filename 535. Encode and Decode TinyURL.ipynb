{
 "cells": [
  {
   "cell_type": "code",
   "execution_count": 27,
   "metadata": {},
   "outputs": [],
   "source": [
    "import collections, random\n",
    "class Codec:\n",
    "    \n",
    "    def __init__(self):\n",
    "        self.allLetters = \"0123456789abcdefghijklmnopqrstuvwxyzABCDEFGHIJKLMNOPQRSTUVWXYZ\"\n",
    "        self.store =  {} #we have a two level hash. First, every 17th letter, and then all urls having 17th as that letter\n",
    "        \n",
    "    def genRandStr(self):\n",
    "        s = \"\"\n",
    "        for i in range(10):\n",
    "            r = random.randint(0,61)\n",
    "            s += self.allLetters[r]\n",
    "        return s\n",
    "        \n",
    "        \n",
    "    def encode(self, longUrl):\n",
    "        \"\"\"Encodes a URL to a shortened URL.\n",
    "        \n",
    "        :type longUrl: str\n",
    "        :rtype: str\n",
    "        \"\"\"\n",
    "        rstr = self.genRandStr()\n",
    "        self.store[rstr] = longUrl\n",
    "        return \"http://tinyurl.com/\" + rstr\n",
    "        \n",
    "    def decode(self, shortUrl):\n",
    "        \"\"\"Decodes a shortened URL to its original URL.\n",
    "        \n",
    "        :type shortUrl: str\n",
    "        :rtype: str\n",
    "        \"\"\"\n",
    "        return(self.store[shortUrl.replace(\"http://tinyurl.com/\", \"\")])\n",
    "        \n"
   ]
  },
  {
   "cell_type": "code",
   "execution_count": 29,
   "metadata": {},
   "outputs": [
    {
     "name": "stdout",
     "output_type": "stream",
     "text": [
      "http://tinyurl.com/KV6UeZbERr\n",
      "https://leetcode.com/problems/design-tinyurl\n"
     ]
    }
   ],
   "source": [
    "c = Codec()\n",
    "tinyurl = c.encode(\"https://leetcode.com/problems/design-tinyurl\")\n",
    "print(tinyurl) #http://tinyurl.com/4e9iAk\n",
    "print(c.decode(tinyurl))"
   ]
  },
  {
   "cell_type": "code",
   "execution_count": null,
   "metadata": {},
   "outputs": [],
   "source": []
  }
 ],
 "metadata": {
  "kernelspec": {
   "display_name": "Python 3",
   "language": "python",
   "name": "python3"
  },
  "language_info": {
   "codemirror_mode": {
    "name": "ipython",
    "version": 3
   },
   "file_extension": ".py",
   "mimetype": "text/x-python",
   "name": "python",
   "nbconvert_exporter": "python",
   "pygments_lexer": "ipython3",
   "version": "3.6.5"
  }
 },
 "nbformat": 4,
 "nbformat_minor": 2
}
