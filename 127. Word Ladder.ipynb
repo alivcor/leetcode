{
 "cells": [
  {
   "cell_type": "code",
   "execution_count": 76,
   "metadata": {},
   "outputs": [],
   "source": [
    "class Solution(object):\n",
    "    def editDistance(self, word1, word2):\n",
    "        diff = 0\n",
    "        for c1, c2 in zip(word1, word2):\n",
    "            if c1!=c2:\n",
    "                diff+=1\n",
    "        return diff\n",
    "        \n",
    "    def ladderLength(self, beginWord, endWord, wordList):\n",
    "        \"\"\"\n",
    "        :type beginWord: str\n",
    "        :type endWord: str\n",
    "        :type wordList: List[str]\n",
    "        :rtype: int\n",
    "        \"\"\"\n",
    "        def getNextWord(curr_word, endWord, wordList):\n",
    "            smallest_dist_val = float(\"inf\")\n",
    "            smallest_dist_arg = 0\n",
    "            for word in wordList:\n",
    "                if self.editDistance(curr_word, word) == 1 and self.editDistance(word, endWord) < smallest_dist_val:\n",
    "                    print(\"Picking \" + word + \" as editDistance({}, {}) == 1 and editDistance({}, {}) < {}\".format(curr_word, word, word, endWord, smallest_dist_val, word))\n",
    "                    smallest_dist_val = self.editDistance(word, endWord)\n",
    "                    smallest_dist_arg = word\n",
    "            return smallest_dist_arg if(smallest_dist_arg) else curr_word\n",
    "        \n",
    "        ladder_length = 1\n",
    "        curr_word = beginWord\n",
    "        print(curr_word)\n",
    "        if curr_word in wordList:\n",
    "            wordList.remove(curr_word)\n",
    "        while(curr_word != endWord):\n",
    "            ladder_length += 1\n",
    "            next_word = getNextWord(curr_word, endWord, wordList)\n",
    "            if(next_word == curr_word):\n",
    "                return 0\n",
    "            else:\n",
    "                curr_word = next_word\n",
    "            print(curr_word)\n",
    "            wordList.remove(curr_word)\n",
    "        return ladder_length\n",
    "        "
   ]
  },
  {
   "cell_type": "code",
   "execution_count": 77,
   "metadata": {},
   "outputs": [],
   "source": [
    "# Input:\n",
    "# beginWord = \"hit\",\n",
    "# endWord = \"cog\",\n",
    "# wordList = [\"hot\",\"dot\",\"dog\",\"lot\",\"log\",\"cog\"]\n",
    "\n",
    "# Output: 5\n",
    "\n",
    "# Explanation: As one shortest transformation is \"hit\" -> \"hot\" -> \"dot\" -> \"dog\" -> \"cog\",\n",
    "# return its length 5."
   ]
  },
  {
   "cell_type": "code",
   "execution_count": 78,
   "metadata": {
    "scrolled": false
   },
   "outputs": [
    {
     "name": "stdout",
     "output_type": "stream",
     "text": [
      "hit\n",
      "Picking hot as editDistance(hit, hot) == 1 and editDistance(hot, cog) < inf\n",
      "hot\n",
      "Picking dot as editDistance(hot, dot) == 1 and editDistance(dot, cog) < inf\n",
      "dot\n",
      "Picking dog as editDistance(dot, dog) == 1 and editDistance(dog, cog) < inf\n",
      "dog\n",
      "Picking log as editDistance(dog, log) == 1 and editDistance(log, cog) < inf\n",
      "Picking cog as editDistance(dog, cog) == 1 and editDistance(cog, cog) < 1\n",
      "cog\n"
     ]
    },
    {
     "data": {
      "text/plain": [
       "5"
      ]
     },
     "execution_count": 78,
     "metadata": {},
     "output_type": "execute_result"
    }
   ],
   "source": [
    "beginWord = \"hit\"\n",
    "endWord = \"cog\"\n",
    "wordList = [\"hot\",\"dot\",\"dog\",\"lot\",\"log\",\"cog\"]\n",
    "Solution().editDistance(beginWord, endWord)\n",
    "Solution().ladderLength(beginWord, endWord, wordList)"
   ]
  },
  {
   "cell_type": "code",
   "execution_count": 79,
   "metadata": {
    "scrolled": false
   },
   "outputs": [
    {
     "name": "stdout",
     "output_type": "stream",
     "text": [
      "hit\n",
      "Picking hot as editDistance(hit, hot) == 1 and editDistance(hot, cog) < inf\n",
      "hot\n",
      "Picking dot as editDistance(hot, dot) == 1 and editDistance(dot, cog) < inf\n",
      "dot\n",
      "Picking dog as editDistance(dot, dog) == 1 and editDistance(dog, cog) < inf\n",
      "dog\n",
      "Picking log as editDistance(dog, log) == 1 and editDistance(log, cog) < inf\n",
      "log\n",
      "Picking lot as editDistance(log, lot) == 1 and editDistance(lot, cog) < inf\n",
      "lot\n"
     ]
    },
    {
     "data": {
      "text/plain": [
       "0"
      ]
     },
     "execution_count": 79,
     "metadata": {},
     "output_type": "execute_result"
    }
   ],
   "source": [
    "Solution().ladderLength(\"hit\", \"cog\", [\"hot\",\"dot\",\"dog\",\"lot\",\"log\"])"
   ]
  },
  {
   "cell_type": "code",
   "execution_count": 80,
   "metadata": {},
   "outputs": [
    {
     "name": "stdout",
     "output_type": "stream",
     "text": [
      "game\n",
      "Picking fame as editDistance(game, fame) == 1 and editDistance(fame, thee) < inf\n",
      "fame\n",
      "Picking faye as editDistance(fame, faye) == 1 and editDistance(faye, thee) < inf\n",
      "faye\n",
      "Picking frye as editDistance(faye, frye) == 1 and editDistance(frye, thee) < inf\n",
      "frye\n",
      "Picking free as editDistance(frye, free) == 1 and editDistance(free, thee) < inf\n",
      "free\n",
      "Picking tree as editDistance(free, tree) == 1 and editDistance(tree, thee) < inf\n",
      "tree\n",
      "Picking thee as editDistance(tree, thee) == 1 and editDistance(thee, thee) < inf\n",
      "thee\n"
     ]
    },
    {
     "data": {
      "text/plain": [
       "7"
      ]
     },
     "execution_count": 80,
     "metadata": {},
     "output_type": "execute_result"
    }
   ],
   "source": [
    "\n",
    "Solution().ladderLength(\"game\", \"thee\", [\"frye\",\"heat\",\"tree\",\"thee\",\"game\",\"free\",\"hell\",\"fame\",\"faye\"])"
   ]
  },
  {
   "cell_type": "code",
   "execution_count": 99,
   "metadata": {},
   "outputs": [],
   "source": [
    "from collections import deque\n",
    "import collections\n",
    "\n",
    "class Solution2(object):\n",
    "    def ladderLength(self, beginWord, endWord, wordList):\n",
    "        if endWord not in wordList:\n",
    "            return 0\n",
    "        d = collections.defaultdict(list)\n",
    "        for word in wordList:\n",
    "            for blank in range(len(word)):\n",
    "                filler = word[:blank] + \"_\" + word[blank+1:]\n",
    "                d[filler].append(word)\n",
    "        queue = deque([(beginWord, 1)])\n",
    "        visited = set()\n",
    "        while(queue):\n",
    "            curr_word, steps = queue.popleft()\n",
    "            if curr_word not in visited:\n",
    "                visited.add(curr_word)\n",
    "                if(curr_word == endWord):\n",
    "                    return steps\n",
    "                for bp in range(len(curr_word)):\n",
    "                    neighbours = d[curr_word[:bp] + \"_\" + curr_word[bp+1:]]\n",
    "                    for neigh in neighbours:\n",
    "                        if neigh not in visited:\n",
    "                            queue.append([neigh, steps+1])\n",
    "        return 0\n",
    "                    \n",
    "                    \n",
    "        \n",
    "        \n",
    "        "
   ]
  },
  {
   "cell_type": "code",
   "execution_count": 100,
   "metadata": {},
   "outputs": [
    {
     "data": {
      "text/plain": [
       "7"
      ]
     },
     "execution_count": 100,
     "metadata": {},
     "output_type": "execute_result"
    }
   ],
   "source": [
    "Solution2().ladderLength(\"game\", \"thee\", [\"frye\",\"heat\",\"tree\",\"thee\",\"game\",\"free\",\"hell\",\"fame\",\"faye\"])"
   ]
  },
  {
   "cell_type": "code",
   "execution_count": 88,
   "metadata": {},
   "outputs": [
    {
     "data": {
      "text/plain": [
       "[]"
      ]
     },
     "execution_count": 88,
     "metadata": {},
     "output_type": "execute_result"
    }
   ],
   "source": [
    "s = {3: \"pqr\"}\n",
    "s.get(5, [])"
   ]
  },
  {
   "cell_type": "code",
   "execution_count": null,
   "metadata": {},
   "outputs": [],
   "source": []
  }
 ],
 "metadata": {
  "kernelspec": {
   "display_name": "Python 3",
   "language": "python",
   "name": "python3"
  },
  "language_info": {
   "codemirror_mode": {
    "name": "ipython",
    "version": 3
   },
   "file_extension": ".py",
   "mimetype": "text/x-python",
   "name": "python",
   "nbconvert_exporter": "python",
   "pygments_lexer": "ipython3",
   "version": "3.6.5"
  }
 },
 "nbformat": 4,
 "nbformat_minor": 2
}
