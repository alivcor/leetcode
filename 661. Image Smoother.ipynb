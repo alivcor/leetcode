{
 "cells": [
  {
   "cell_type": "markdown",
   "metadata": {},
   "source": [
    "## Discussion on why this code doesn't work as expected?\n",
    "\n",
    "Notice the first statement :\n",
    "\n",
    "`S = [[0]*len(M[0])]*len(M)`\n",
    "\n",
    "You're essentially assigning an array `[0, 0, 0, 0 ..]` - call it \"A\" and then multiplying it `len(M)` times - thus you have `len(M)` references of `A` in `S`. Thus, whenever you modify any instance of `A`, all instances get modified."
   ]
  },
  {
   "cell_type": "code",
   "execution_count": 66,
   "metadata": {},
   "outputs": [],
   "source": [
    "class Solution(object):\n",
    "    def imageSmoother(self, M):\n",
    "        \"\"\"\n",
    "        :type M: List[List[int]]\n",
    "        :rtype: List[List[int]]\n",
    "        \"\"\"\n",
    "        S = [[0]*len(M[0])]*len(M)\n",
    "        ssum = 0\n",
    "        for i in range(0,len(M)):\n",
    "            for j in range(0,len(M[0])):\n",
    "                ssum = M[i][j]\n",
    "                cnt = 1\n",
    "                if i > 0:\n",
    "                    ssum += M[i-1][j]\n",
    "                    cnt += 1\n",
    "                if i < len(M)-1:\n",
    "                    ssum += M[i+1][j]\n",
    "                    cnt += 1\n",
    "                if j > 0:\n",
    "                    ssum += M[i][j-1]\n",
    "                    cnt += 1\n",
    "                if j < len(M[0])-1:\n",
    "                    ssum += M[i][j+1]\n",
    "                    cnt += 1\n",
    "                if i > 0 and j > 0:\n",
    "                    ssum += M[i-1][j-1]\n",
    "                    cnt += 1\n",
    "                if i > 0 and j < len(M[0])-1:\n",
    "                    ssum += M[i-1][j+1]\n",
    "                    cnt += 1\n",
    "                if i < len(M)-1 and j > 0:\n",
    "                    ssum += M[i+1][j-1]\n",
    "                    cnt += 1\n",
    "                if i < len(M)-1 and j < len(M[0])-1:\n",
    "                    ssum += M[i+1][j+1]\n",
    "                    cnt += 1\n",
    "                S[i][j] = int(ssum/cnt)\n",
    "                print(\"Accessing {}, {}\".format(i,j)),\n",
    "                print \"S[{}][{}] = {}/{} = {}, {}\".format(i,j,ssum,cnt, S[i][j], S)\n",
    "        print(S)\n",
    "        return S\n",
    "    "
   ]
  },
  {
   "cell_type": "code",
   "execution_count": 67,
   "metadata": {},
   "outputs": [
    {
     "name": "stdout",
     "output_type": "stream",
     "text": [
      "Accessing 0, 0 S[0][0] = 16/4 = 4, [[4, 0, 0], [4, 0, 0], [4, 0, 0], [4, 0, 0], [4, 0, 0]]\n",
      "Accessing 0, 1 S[0][1] = 27/6 = 4, [[4, 4, 0], [4, 4, 0], [4, 4, 0], [4, 4, 0], [4, 4, 0]]\n",
      "Accessing 0, 2 S[0][2] = 20/4 = 5, [[4, 4, 5], [4, 4, 5], [4, 4, 5], [4, 4, 5], [4, 4, 5]]\n",
      "Accessing 1, 0 S[1][0] = 33/6 = 5, [[5, 4, 5], [5, 4, 5], [5, 4, 5], [5, 4, 5], [5, 4, 5]]\n",
      "Accessing 1, 1 S[1][1] = 54/9 = 6, [[5, 6, 5], [5, 6, 5], [5, 6, 5], [5, 6, 5], [5, 6, 5]]\n",
      "Accessing 1, 2 S[1][2] = 39/6 = 6, [[5, 6, 6], [5, 6, 6], [5, 6, 6], [5, 6, 6], [5, 6, 6]]\n",
      "Accessing 2, 0 S[2][0] = 51/6 = 8, [[8, 6, 6], [8, 6, 6], [8, 6, 6], [8, 6, 6], [8, 6, 6]]\n",
      "Accessing 2, 1 S[2][1] = 81/9 = 9, [[8, 9, 6], [8, 9, 6], [8, 9, 6], [8, 9, 6], [8, 9, 6]]\n",
      "Accessing 2, 2 S[2][2] = 57/6 = 9, [[8, 9, 9], [8, 9, 9], [8, 9, 9], [8, 9, 9], [8, 9, 9]]\n",
      "Accessing 3, 0 S[3][0] = 69/6 = 11, [[11, 9, 9], [11, 9, 9], [11, 9, 9], [11, 9, 9], [11, 9, 9]]\n",
      "Accessing 3, 1 S[3][1] = 108/9 = 12, [[11, 12, 9], [11, 12, 9], [11, 12, 9], [11, 12, 9], [11, 12, 9]]\n",
      "Accessing 3, 2 S[3][2] = 75/6 = 12, [[11, 12, 12], [11, 12, 12], [11, 12, 12], [11, 12, 12], [11, 12, 12]]\n",
      "Accessing 4, 0 S[4][0] = 52/4 = 13, [[13, 12, 12], [13, 12, 12], [13, 12, 12], [13, 12, 12], [13, 12, 12]]\n",
      "Accessing 4, 1 S[4][1] = 81/6 = 13, [[13, 13, 12], [13, 13, 12], [13, 13, 12], [13, 13, 12], [13, 13, 12]]\n",
      "Accessing 4, 2 S[4][2] = 56/4 = 14, [[13, 13, 14], [13, 13, 14], [13, 13, 14], [13, 13, 14], [13, 13, 14]]\n",
      "[[13, 13, 14], [13, 13, 14], [13, 13, 14], [13, 13, 14], [13, 13, 14]]\n"
     ]
    },
    {
     "data": {
      "text/plain": [
       "[[13, 13, 14], [13, 13, 14], [13, 13, 14], [13, 13, 14], [13, 13, 14]]"
      ]
     },
     "execution_count": 67,
     "metadata": {},
     "output_type": "execute_result"
    }
   ],
   "source": [
    "Solution().imageSmoother([[2,3,4],[5,6,7],[8,9,10],[11,12,13],[14,15,16]])"
   ]
  },
  {
   "cell_type": "code",
   "execution_count": 70,
   "metadata": {},
   "outputs": [],
   "source": [
    "class Solution(object):\n",
    "    def imageSmootherCorrected(self, M):\n",
    "        \"\"\"\n",
    "        :type M: List[List[int]]\n",
    "        :rtype: List[List[int]]\n",
    "        \"\"\"\n",
    "        S = []\n",
    "        for i in range(0,len(M)):\n",
    "            row = []\n",
    "            for j in range(0,len(M[0])):\n",
    "                ssum = M[i][j]\n",
    "                cnt = 1\n",
    "                if i > 0:\n",
    "                    ssum += M[i-1][j]\n",
    "                    cnt += 1\n",
    "                if i < len(M)-1:\n",
    "                    ssum += M[i+1][j]\n",
    "                    cnt += 1\n",
    "                if j > 0:\n",
    "                    ssum += M[i][j-1]\n",
    "                    cnt += 1\n",
    "                if j < len(M[0])-1:\n",
    "                    ssum += M[i][j+1]\n",
    "                    cnt += 1\n",
    "                if i > 0 and j > 0:\n",
    "                    ssum += M[i-1][j-1]\n",
    "                    cnt += 1\n",
    "                if i > 0 and j < len(M[0])-1:\n",
    "                    ssum += M[i-1][j+1]\n",
    "                    cnt += 1\n",
    "                if i < len(M)-1 and j > 0:\n",
    "                    ssum += M[i+1][j-1]\n",
    "                    cnt += 1\n",
    "                if i < len(M)-1 and j < len(M[0])-1:\n",
    "                    ssum += M[i+1][j+1]\n",
    "                    cnt += 1\n",
    "                row.append(int(ssum/cnt))\n",
    "            S.append(row)\n",
    "        return S"
   ]
  },
  {
   "cell_type": "code",
   "execution_count": 72,
   "metadata": {},
   "outputs": [
    {
     "data": {
      "text/plain": [
       "[[4, 4, 5], [5, 6, 6], [8, 9, 9], [11, 12, 12], [13, 13, 14]]"
      ]
     },
     "execution_count": 72,
     "metadata": {},
     "output_type": "execute_result"
    }
   ],
   "source": [
    "Solution().imageSmootherCorrected([[2,3,4],[5,6,7],[8,9,10],[11,12,13],[14,15,16]])"
   ]
  },
  {
   "cell_type": "code",
   "execution_count": null,
   "metadata": {},
   "outputs": [],
   "source": []
  }
 ],
 "metadata": {
  "kernelspec": {
   "display_name": "Python 2",
   "language": "python",
   "name": "python2"
  },
  "language_info": {
   "codemirror_mode": {
    "name": "ipython",
    "version": 2
   },
   "file_extension": ".py",
   "mimetype": "text/x-python",
   "name": "python",
   "nbconvert_exporter": "python",
   "pygments_lexer": "ipython2",
   "version": "2.7.14"
  }
 },
 "nbformat": 4,
 "nbformat_minor": 2
}
