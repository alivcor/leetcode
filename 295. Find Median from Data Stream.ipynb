{
 "cells": [
  {
   "cell_type": "code",
   "execution_count": 51,
   "metadata": {},
   "outputs": [],
   "source": [
    "class MedianFinder(object):\n",
    "\n",
    "    def __init__(self):\n",
    "        \"\"\"\n",
    "        initialize your data structure here.\n",
    "        \"\"\"\n",
    "        self.rising = [] #max_heap\n",
    "        self.descending = [] #min_heap\n",
    "\n",
    "    def addNum(self, num):\n",
    "        \"\"\"\n",
    "        :type num: int\n",
    "        :rtype: None\n",
    "        \"\"\"\n",
    "        mid_rise = -1*self.nsmallest\n",
    "        \n",
    "        \n",
    "\n",
    "    def findMedian(self):\n",
    "        \"\"\"\n",
    "        :rtype: float\n",
    "        \"\"\"\n",
    "        lv = len(self.vals)\n",
    "        if (lv & 1):\n",
    "            return self.vals[lv//2]\n",
    "        else:\n",
    "            return (self.vals[lv//2] + self.vals[((lv//2) + 1)])/2\n",
    "    "
   ]
  },
  {
   "cell_type": "code",
   "execution_count": 53,
   "metadata": {
    "scrolled": false
   },
   "outputs": [
    {
     "name": "stdout",
     "output_type": "stream",
     "text": [
      "addNum 6\n",
      "self.vals :  [6]\n",
      "addNum 3\n",
      "self.vals :  [3, 6]\n",
      "addNum 4\n",
      "self.vals :  [3, 4, 6]\n",
      "4\n",
      "addNum 2\n",
      "self.vals :  [2, 3, 4, 6]\n",
      "addNum 9\n",
      "self.vals :  [2, 3, 4, 6, 9]\n",
      "4\n",
      "addNum 10\n",
      "self.vals :  [2, 3, 4, 6, 9, 10]\n",
      "7.5\n",
      "addNum 1\n",
      "self.vals :  [1, 2, 3, 4, 6, 9, 10]\n"
     ]
    }
   ],
   "source": [
    "m = MedianFinder()\n",
    "m.addNum(6)\n",
    "m.addNum(3)\n",
    "m.addNum(4)\n",
    "print(m.findMedian())\n",
    "m.addNum(2)\n",
    "m.addNum(9)\n",
    "print(m.findMedian())\n",
    "m.addNum(10)\n",
    "print(m.findMedian())\n",
    "m.addNum(1)"
   ]
  },
  {
   "cell_type": "code",
   "execution_count": null,
   "metadata": {},
   "outputs": [],
   "source": []
  }
 ],
 "metadata": {
  "kernelspec": {
   "display_name": "Python 3",
   "language": "python",
   "name": "python3"
  },
  "language_info": {
   "codemirror_mode": {
    "name": "ipython",
    "version": 3
   },
   "file_extension": ".py",
   "mimetype": "text/x-python",
   "name": "python",
   "nbconvert_exporter": "python",
   "pygments_lexer": "ipython3",
   "version": "3.6.5"
  }
 },
 "nbformat": 4,
 "nbformat_minor": 2
}
