{
 "cells": [
  {
   "cell_type": "code",
   "execution_count": 17,
   "metadata": {},
   "outputs": [],
   "source": [
    "import collections\n",
    "class LRUCache:\n",
    "    def __init__(self, capacity: 'int'):\n",
    "        self.d = collections.OrderedDict()\n",
    "        self.c = capacity\n",
    "    def __repr__(self):\n",
    "        return \"LRUCache({}) Object {}\".format(self.c, self.d)\n",
    "    \n",
    "    def get(self, key: 'int') -> 'int':\n",
    "        ret = -1\n",
    "        if key in self.d:\n",
    "            ret = self.d[key]\n",
    "            print(\"set ret to {}\".format(ret))\n",
    "            temp = self.d.pop(key)\n",
    "            \n",
    "            print(\"popped self.d.pop(key), temp = {}, self.d = {}\".format(temp, self.d))\n",
    "            print(\"setting self.d[{}] to temp\".format(key, temp))\n",
    "            self.d[key] = temp\n",
    "        return ret\n",
    "        \n",
    "    def put(self, key: 'int', value: 'int') -> 'None':\n",
    "        if key in self.d:\n",
    "            del self.d[key]\n",
    "        self.d[key] = value\n",
    "        if len(self.d) > self.c:\n",
    "            self.d.popitem(last=False)"
   ]
  },
  {
   "cell_type": "code",
   "execution_count": 18,
   "metadata": {},
   "outputs": [
    {
     "name": "stdout",
     "output_type": "stream",
     "text": [
      "LRUCache(6) Object OrderedDict([(3, 72), (6, 81), (2, 53), (8, 21)])\n",
      "set ret to 81\n",
      "popped self.d.pop(key), temp = 81, self.d = OrderedDict([(3, 72), (2, 53), (8, 21)])\n",
      "setting self.d[6] to temp\n",
      "LRUCache(6) Object OrderedDict([(3, 72), (2, 53), (8, 21), (6, 81)])\n"
     ]
    }
   ],
   "source": [
    "cache = LRUCache(6)\n",
    "cache.put(3, 72)\n",
    "cache.put(6, 81)\n",
    "cache.put(2, 53)\n",
    "cache.put(8, 21)\n",
    "print(cache)\n",
    "cache.get(6)\n",
    "print(cache)"
   ]
  },
  {
   "cell_type": "code",
   "execution_count": null,
   "metadata": {},
   "outputs": [],
   "source": []
  }
 ],
 "metadata": {
  "kernelspec": {
   "display_name": "Python 3",
   "language": "python",
   "name": "python3"
  },
  "language_info": {
   "codemirror_mode": {
    "name": "ipython",
    "version": 3
   },
   "file_extension": ".py",
   "mimetype": "text/x-python",
   "name": "python",
   "nbconvert_exporter": "python",
   "pygments_lexer": "ipython3",
   "version": "3.6.5"
  }
 },
 "nbformat": 4,
 "nbformat_minor": 2
}
