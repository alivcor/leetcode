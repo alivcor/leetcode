{
 "cells": [
  {
   "cell_type": "code",
   "execution_count": 40,
   "metadata": {},
   "outputs": [],
   "source": [
    "class Solution(object):\n",
    "    def rotate(self, nums, k):\n",
    "        \"\"\"\n",
    "        :type nums: List[int]\n",
    "        :type k: int\n",
    "        :rtype: void Do not return anything, modify nums in-place instead.\n",
    "        \"\"\"\n",
    "        while(k):\n",
    "            prev = nums[len(nums)-1]\n",
    "            for i in range(len(nums)):\n",
    "                print(nums)\n",
    "                temp = nums[i]\n",
    "                nums[i] = prev\n",
    "                prev = temp\n",
    "            k-=1\n",
    "        return nums\n",
    "    \n",
    "    \n",
    "    def rotateAlt1(self, nums, k):\n",
    "        \"\"\"\n",
    "        :type nums: List[int]\n",
    "        :type k: int\n",
    "        :rtype: void Do not return anything, modify nums in-place instead.\n",
    "        \"\"\"\n",
    "        x = [0]*len(nums)\n",
    "        for i in range(len(nums)):\n",
    "            x[(i+k)%len(nums)] = nums[i]\n",
    "            print x\n",
    "        for i in range(len(nums)):\n",
    "            nums[i] = x[i]\n",
    "        return nums\n",
    "    \n",
    "    \n",
    "    def rotateAlt2(self, nums, k):\n",
    "        \"\"\"\n",
    "        :type nums: List[int]\n",
    "        :type k: int\n",
    "        :rtype: void Do not return anything, modify nums in-place instead.\n",
    "        \"\"\"\n",
    "#         always maintain nums[curr] in mem\n",
    "        k = k%len(nums)\n",
    "        start = 0\n",
    "        count = 0\n",
    "        while(count < len(nums)):\n",
    "            print \"start = {}\".format(start)\n",
    "            curr = start\n",
    "            prev = nums[start]\n",
    "            while(True):\n",
    "                next = (curr + k)%len(nums)\n",
    "                print(\"start = {}, curr = {}, next = {}, prev = {}\".format(start, curr, next, prev))\n",
    "                temp = nums[next]\n",
    "                nums[next] = prev\n",
    "                prev = temp\n",
    "                curr = next\n",
    "                count+=1\n",
    "                if(start == curr):\n",
    "                    break\n",
    "            start += 1\n",
    "        return nums\n",
    "    \n",
    "    \n",
    "    def rotateAlt3(self, nums, k):\n",
    "        k = k % len(nums)\n",
    "        start = 0\n",
    "        count = 0\n",
    "        while(count < len(nums)):\n",
    "            curr = start\n",
    "            prev = nums[curr]\n",
    "            while True:\n",
    "                next = (curr + k)%len(nums)\n",
    "                temp = nums[next]\n",
    "                nums[next] = prev\n",
    "                curr = next\n",
    "                prev = temp\n",
    "                count+=1\n",
    "                if(start == curr):\n",
    "                    break\n",
    "            start += 1\n",
    "        return nums\n",
    "                    \n",
    "                \n",
    "            \n",
    "        "
   ]
  },
  {
   "cell_type": "code",
   "execution_count": 45,
   "metadata": {
    "scrolled": false
   },
   "outputs": [
    {
     "name": "stdout",
     "output_type": "stream",
     "text": [
      "[7, 1, 2, 3, 4, 5, 6]\n"
     ]
    }
   ],
   "source": [
    "print Solution().rotateAlt3([1,2,3,4,5,6,7], 8)"
   ]
  },
  {
   "cell_type": "code",
   "execution_count": null,
   "metadata": {},
   "outputs": [],
   "source": []
  }
 ],
 "metadata": {
  "kernelspec": {
   "display_name": "Python 2",
   "language": "python",
   "name": "python2"
  },
  "language_info": {
   "codemirror_mode": {
    "name": "ipython",
    "version": 2
   },
   "file_extension": ".py",
   "mimetype": "text/x-python",
   "name": "python",
   "nbconvert_exporter": "python",
   "pygments_lexer": "ipython2",
   "version": "2.7.14"
  }
 },
 "nbformat": 4,
 "nbformat_minor": 2
}
