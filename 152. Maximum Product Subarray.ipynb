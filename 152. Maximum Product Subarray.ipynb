{
 "cells": [
  {
   "cell_type": "code",
   "execution_count": 9,
   "metadata": {},
   "outputs": [],
   "source": [
    "# public int maxProduct(int[] A) {\n",
    "#     if (A.length == 0) {\n",
    "#         return 0;\n",
    "#     }\n",
    "    \n",
    "#     int maxherepre = A[0];\n",
    "#     int minherepre = A[0];\n",
    "#     int maxsofar = A[0];\n",
    "#     int maxhere, minhere;\n",
    "    \n",
    "#     for (int i = 1; i < A.length; i++) {\n",
    "#         maxhere = Math.max(Math.max(maxherepre * A[i], minherepre * A[i]), A[i]);\n",
    "#         minhere = Math.min(Math.min(maxherepre * A[i], minherepre * A[i]), A[i]);\n",
    "#         maxsofar = Math.max(maxhere, maxsofar);\n",
    "#         maxherepre = maxhere;\n",
    "#         minherepre = minhere;\n",
    "#     }\n",
    "#     return maxsofar;\n",
    "# }\n",
    "class Solution(object):\n",
    "    def maxProduct(self, nums):\n",
    "        \"\"\"\n",
    "        :type nums: List[int]\n",
    "        :rtype: int\n",
    "        \"\"\"\n",
    "        if nums == []:\n",
    "            return 0\n",
    "        global_positive_max = nums[0]\n",
    "        global_negative_max = nums[0] #represents the highest negative it can go\n",
    "        global_max = nums[0]\n",
    "        \n",
    "        print(global_max, global_positive_max, global_negative_max)\n",
    "        for i in range(1,len(nums)):\n",
    "            local_pos_max = max(nums[i], max(global_positive_max*nums[i], global_negative_max*nums[i]))\n",
    "            local_neg_max = min(nums[i], min(global_positive_max*nums[i], global_negative_max*nums[i]))\n",
    "            global_max = max(global_max, local_pos_max)\n",
    "            print(nums[i], global_max, global_positive_max, global_negative_max)\n",
    "            global_positive_max, global_negative_max = local_pos_max, local_neg_max\n",
    "        return global_max\n",
    "        "
   ]
  },
  {
   "cell_type": "code",
   "execution_count": 10,
   "metadata": {},
   "outputs": [
    {
     "name": "stdout",
     "output_type": "stream",
     "text": [
      "-4 -4 -4\n",
      "-3 12 -4 -4\n",
      "-2 12 12 -3\n"
     ]
    },
    {
     "data": {
      "text/plain": [
       "12"
      ]
     },
     "execution_count": 10,
     "metadata": {},
     "output_type": "execute_result"
    }
   ],
   "source": [
    "Solution().maxProduct([-4,-3,-2])"
   ]
  },
  {
   "cell_type": "code",
   "execution_count": 23,
   "metadata": {},
   "outputs": [
    {
     "name": "stdout",
     "output_type": "stream",
     "text": [
      "[0, 1, 2, 3, 4, 5, 6, 7, 8, 9, 10, 11, 12, 13, 14, 15, 16, 17, 18, 19, 20, 21, 22, 23, 24, 25, 26, 27, 28, 29, 30, 31, 32, 33, 34, 35, 36, 37, 38, 39, 40, 41, 42, 43, 44, 45, 46, 47, 48, 49, 50, 51, 52, 53, 54, 55, 56, 57, 58, 59, 60, 61, 62, 63, 64, 65, 66, 67, 68, 69, 70, 71, 72, 73, 74, 75, 76, 77, 78, 79, 80, 81, 82, 83, 84, 85, 86, 87, 88, 89, 90, 91, 92, 93, 94, 95, 96, 97, 98, 99]\n"
     ]
    },
    {
     "data": {
      "text/plain": [
       "[5, 4, 3, 2]"
      ]
     },
     "execution_count": 23,
     "metadata": {},
     "output_type": "execute_result"
    }
   ],
   "source": [
    "l = list(range(100))\n",
    "print(l)\n",
    "l[5:1:-1]"
   ]
  },
  {
   "cell_type": "code",
   "execution_count": null,
   "metadata": {},
   "outputs": [],
   "source": []
  },
  {
   "cell_type": "code",
   "execution_count": null,
   "metadata": {},
   "outputs": [],
   "source": []
  }
 ],
 "metadata": {
  "kernelspec": {
   "display_name": "Python 3",
   "language": "python",
   "name": "python3"
  },
  "language_info": {
   "codemirror_mode": {
    "name": "ipython",
    "version": 3
   },
   "file_extension": ".py",
   "mimetype": "text/x-python",
   "name": "python",
   "nbconvert_exporter": "python",
   "pygments_lexer": "ipython3",
   "version": "3.6.5"
  }
 },
 "nbformat": 4,
 "nbformat_minor": 2
}
