{
 "cells": [
  {
   "cell_type": "code",
   "execution_count": 34,
   "metadata": {},
   "outputs": [],
   "source": [
    "import collections\n",
    "# Definition for a binary tree node.\n",
    "class TreeNode(object):\n",
    "    def __init__(self, x):\n",
    "        self.val = x\n",
    "        self.left = None\n",
    "        self.right = None\n",
    "\n",
    "# Definition for a binary tree node.\n",
    "# class TreeNode(object):\n",
    "#     def __init__(self, x):\n",
    "#         self.val = x\n",
    "#         self.left = None\n",
    "#         self.right = None\n",
    "\n",
    "class Solution(object):\n",
    "    def traverseLeft(self, root):\n",
    "        while(root):\n",
    "            if root == None:\n",
    "                return\n",
    "            if root.left:\n",
    "                self.leftB.append(root.val)\n",
    "                root = root.left\n",
    "            elif root.right:\n",
    "                self.leftB.append(root.val)\n",
    "                root = root.right\n",
    "            else:\n",
    "                return\n",
    "            # else:\n",
    "            #     self.leftB.append(root.val)\n",
    "            #     return\n",
    "    \n",
    "    def traverseRight(self, root):\n",
    "        while(root):\n",
    "            if root == None:\n",
    "                return\n",
    "            if root.right:\n",
    "                self.rightB.append(root.val)\n",
    "                root = root.right\n",
    "            elif root.left:\n",
    "                self.rightB.append(root.val)\n",
    "                root = root.left\n",
    "            else:\n",
    "                return\n",
    "    \n",
    "    def getLeaves(self, node):\n",
    "        if node and not node.left and not node.right:\n",
    "            self.leaves.append(node.val)\n",
    "        if node and node.left:\n",
    "            self.getLeaves(node.left)\n",
    "        if node and node.right:\n",
    "            self.getLeaves(node.right)\n",
    "            \n",
    "    \n",
    "    def boundaryOfBinaryTree(self, root):\n",
    "        \"\"\"\n",
    "        :type root: TreeNode\n",
    "        :rtype: List[int]\n",
    "        \"\"\"\n",
    "        self.leftB, self.rightB, self.leaves, res = [], [], [], []\n",
    "        if not root:\n",
    "            return []\n",
    "        if root.left:\n",
    "            self.traverseLeft(root.left)\n",
    "        if root.right:\n",
    "            self.traverseRight(root.right)\n",
    "        self.getLeaves(root)\n",
    "        # print( self.leftB, self.leaves, self.rightB[::-1])\n",
    "        if root.left or root.right:\n",
    "            res.append(root.val)\n",
    "        res += self.leftB + self.leaves + self.rightB[::-1]\n",
    "        \n",
    "        return(res)\n",
    "        "
   ]
  },
  {
   "cell_type": "code",
   "execution_count": 35,
   "metadata": {},
   "outputs": [
    {
     "data": {
      "text/plain": [
       "[1, 2, 4, 7, 8, 9, 10, 6, 3]"
      ]
     },
     "execution_count": 35,
     "metadata": {},
     "output_type": "execute_result"
    }
   ],
   "source": [
    "t = TreeNode(1)\n",
    "t.left = TreeNode(2)\n",
    "t.right = TreeNode(3)\n",
    "t.left.left = TreeNode(4)\n",
    "t.left.right = TreeNode(5)\n",
    "t.left.right.left = TreeNode(7)\n",
    "t.left.right.right = TreeNode(8)\n",
    "t.right.left = TreeNode(6)\n",
    "t.right.left.left = TreeNode(9)\n",
    "t.right.left.right = TreeNode(10)\n",
    "s = Solution()\n",
    "s.boundaryOfBinaryTree(t)\n"
   ]
  },
  {
   "cell_type": "code",
   "execution_count": null,
   "metadata": {},
   "outputs": [],
   "source": []
  }
 ],
 "metadata": {
  "kernelspec": {
   "display_name": "Python 3",
   "language": "python",
   "name": "python3"
  },
  "language_info": {
   "codemirror_mode": {
    "name": "ipython",
    "version": 3
   },
   "file_extension": ".py",
   "mimetype": "text/x-python",
   "name": "python",
   "nbconvert_exporter": "python",
   "pygments_lexer": "ipython3",
   "version": "3.6.5"
  }
 },
 "nbformat": 4,
 "nbformat_minor": 2
}
