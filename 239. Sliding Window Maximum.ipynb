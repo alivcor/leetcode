{
 "cells": [
  {
   "cell_type": "code",
   "execution_count": 51,
   "metadata": {},
   "outputs": [],
   "source": [
    "import collections\n",
    "class Solution(object):\n",
    "    def maxSlidingWindow(self, nums, k):\n",
    "        \"\"\"\n",
    "        :type nums: List[int]\n",
    "        :type k: int\n",
    "        :rtype: List[int]\n",
    "        \"\"\"\n",
    "        d = collections.deque()\n",
    "        out = []\n",
    "        for i, n in enumerate(nums):\n",
    "            print(\"i = {}, curr element = {}, d = {} and out = {}\".format(i, n, d, out))\n",
    "            while d and nums[d[-1]] < n:\n",
    "                d.pop()\n",
    "                print(\"\\t Popped from d because d has elements and nums[d.top] < curr element\")\n",
    "            d.append(i)\n",
    "            print(\"\\t Added i to d\")\n",
    "            if d[0] == i - k:\n",
    "                d.popleft()\n",
    "                print(\"\\t Popped left from d because it's outside the window's leftmost (i-k)\")\n",
    "            if i>=k-1:\n",
    "                out.append(nums[d[0]])\n",
    "                print(\"\\t Append nums[d[0]] = {} to out\".format(nums[d[0]]))\n",
    "        return out\n"
   ]
  },
  {
   "cell_type": "code",
   "execution_count": 52,
   "metadata": {},
   "outputs": [
    {
     "name": "stdout",
     "output_type": "stream",
     "text": [
      "i = 0, curr element = 8, d = deque([]) and out = []\n",
      "\t Added i to d\n",
      "i = 1, curr element = 3, d = deque([0]) and out = []\n",
      "\t Added i to d\n",
      "i = 2, curr element = -1, d = deque([0, 1]) and out = []\n",
      "\t Added i to d\n",
      "\t Append nums[d[0]] = 8 to out\n",
      "i = 3, curr element = -3, d = deque([0, 1, 2]) and out = [8]\n",
      "\t Added i to d\n",
      "\t Popped left from d because it's outside the window's leftmost (i-k)\n",
      "\t Append nums[d[0]] = 3 to out\n",
      "i = 4, curr element = 5, d = deque([1, 2, 3]) and out = [8, 3]\n",
      "\t Popped from d because d has elements and nums[d.top] < curr element\n",
      "\t Popped from d because d has elements and nums[d.top] < curr element\n",
      "\t Popped from d because d has elements and nums[d.top] < curr element\n",
      "\t Added i to d\n",
      "\t Append nums[d[0]] = 5 to out\n",
      "i = 5, curr element = 3, d = deque([4]) and out = [8, 3, 5]\n",
      "\t Added i to d\n",
      "\t Append nums[d[0]] = 5 to out\n",
      "i = 6, curr element = 6, d = deque([4, 5]) and out = [8, 3, 5, 5]\n",
      "\t Popped from d because d has elements and nums[d.top] < curr element\n",
      "\t Popped from d because d has elements and nums[d.top] < curr element\n",
      "\t Added i to d\n",
      "\t Append nums[d[0]] = 6 to out\n",
      "i = 7, curr element = 7, d = deque([6]) and out = [8, 3, 5, 5, 6]\n",
      "\t Popped from d because d has elements and nums[d.top] < curr element\n",
      "\t Added i to d\n",
      "\t Append nums[d[0]] = 7 to out\n",
      "[8, 3, 5, 5, 6, 7]\n"
     ]
    }
   ],
   "source": [
    "print(Solution().maxSlidingWindow([8,3,-1,-3,5,3,6,7], 3))\n",
    "# Input: nums = [1,3,-1,-3,5,3,6,7], and k = 3\n",
    "# Output: [3,3,5,5,6,7] "
   ]
  },
  {
   "cell_type": "code",
   "execution_count": null,
   "metadata": {},
   "outputs": [],
   "source": []
  },
  {
   "cell_type": "code",
   "execution_count": null,
   "metadata": {},
   "outputs": [],
   "source": []
  }
 ],
 "metadata": {
  "kernelspec": {
   "display_name": "Python 3",
   "language": "python",
   "name": "python3"
  },
  "language_info": {
   "codemirror_mode": {
    "name": "ipython",
    "version": 3
   },
   "file_extension": ".py",
   "mimetype": "text/x-python",
   "name": "python",
   "nbconvert_exporter": "python",
   "pygments_lexer": "ipython3",
   "version": "3.6.5"
  }
 },
 "nbformat": 4,
 "nbformat_minor": 2
}
