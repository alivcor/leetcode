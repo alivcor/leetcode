{
 "cells": [
  {
   "cell_type": "code",
   "execution_count": 17,
   "metadata": {},
   "outputs": [],
   "source": [
    "# Definition for a binary tree node.\n",
    "class TreeNode(object):\n",
    "    def __init__(self, x):\n",
    "        self.val = x\n",
    "        self.left = None\n",
    "        self.right = None\n",
    "\n",
    "class Codec:\n",
    "    def _serializeNode(self, root):\n",
    "        return \"\".format(root.val)\n",
    "        \n",
    "    def serialize(self, root):\n",
    "        \"\"\"Encodes a tree to a single string.\n",
    "        \n",
    "        :type root: TreeNode\n",
    "        :rtype: str\n",
    "        \"\"\"\n",
    "        if(root == None):\n",
    "            return \"None\"\n",
    "        return str(root.val) + \",\" + self.serialize(root.left)  + \",\" +  self.serialize(root.right)\n",
    "        \n",
    "        \n",
    "\n",
    "    def deserialize(self, data):\n",
    "        \"\"\"Decodes your encoded data to tree.\n",
    "        \n",
    "        :type data: str\n",
    "        :rtype: TreeNode\n",
    "        \"\"\"\n",
    "        def _deserialize(data_list):\n",
    "            if data_list[0] == \"None\":\n",
    "                data_list.pop(0)\n",
    "                return None\n",
    "            t1 = TreeNode(data_list.pop(0))\n",
    "            \n",
    "            t1.left = _deserialize(data_list)\n",
    "            t1.right = _deserialize(data_list)\n",
    "            return t1\n",
    "        return _deserialize(data.split(\",\"))\n"
   ]
  },
  {
   "cell_type": "code",
   "execution_count": 18,
   "metadata": {},
   "outputs": [
    {
     "name": "stdout",
     "output_type": "stream",
     "text": [
      "12,2,1,None,None,5,None,None,17,13,None,None,25,None,None\n",
      "<__main__.TreeNode object at 0x105c75be0>\n",
      "12,2,1,None,None,5,None,None,17,13,None,None,25,None,None\n"
     ]
    }
   ],
   "source": [
    "t1 = TreeNode(12)\n",
    "t1.left = TreeNode(2)\n",
    "t1.right = TreeNode(17)\n",
    "t1.left.left = TreeNode(1)\n",
    "t1.left.right = TreeNode(5)\n",
    "t1.right.left = TreeNode(13)\n",
    "t1.right.right = TreeNode(25)\n",
    "\n",
    "# Your Codec object will be instantiated and called as such:\n",
    "codec = Codec()\n",
    "s1 = codec.serialize(t1)\n",
    "print(s1)\n",
    "ds1 = codec.deserialize(s1)\n",
    "print(ds1)\n",
    "sds1 = codec.serialize(ds1)\n",
    "print(sds1)"
   ]
  },
  {
   "cell_type": "code",
   "execution_count": 19,
   "metadata": {},
   "outputs": [],
   "source": [
    "class BFSCodec:\n",
    "    '''       O(n) time and O(n) space, BFS traversal\n",
    "    e.g., 1\n",
    "         / \\\n",
    "        2   5\n",
    "       / \\\n",
    "      3   4  , level order traversal, serialize will be '1,2,5,3,4,None,None,None,None,None,None,'; deserialize \n",
    "      with queue as well, convert back. Time and Space O(n).\n",
    "    '''\n",
    "    def serialize(self, root):\n",
    "        if not root:\n",
    "            return ''\n",
    "        queue = collections.deque()\n",
    "        queue.append(root)\n",
    "        res = ''\n",
    "        while queue:\n",
    "            node = queue.popleft()\n",
    "            if not node:\n",
    "                res += 'None,'\n",
    "                continue\n",
    "            res += str(node.val) + ','\n",
    "            queue.append(node.left)\n",
    "            queue.append(node.right)\n",
    "        return res\n",
    "            \n",
    "    def deserialize(self, data):\n",
    "        if not data:\n",
    "            return None\n",
    "        ls = data.split(',')\n",
    "        root = TreeNode(int(ls[0]))\n",
    "        queue = collections.deque()\n",
    "        queue.append(root)\n",
    "        i = 1\n",
    "        while queue and i < len(ls):\n",
    "            node = queue.popleft()\n",
    "            if ls[i] != 'None':\n",
    "                left = TreeNode(int(ls[i]))\n",
    "                node.left = left\n",
    "                queue.append(left)\n",
    "            i += 1\n",
    "            if ls[i] != 'None':\n",
    "                right = TreeNode(int(ls[i]))\n",
    "                node.right = right\n",
    "                queue.append(right)\n",
    "            i += 1\n",
    "        return root"
   ]
  },
  {
   "cell_type": "code",
   "execution_count": null,
   "metadata": {},
   "outputs": [],
   "source": []
  }
 ],
 "metadata": {
  "kernelspec": {
   "display_name": "Python 3",
   "language": "python",
   "name": "python3"
  },
  "language_info": {
   "codemirror_mode": {
    "name": "ipython",
    "version": 3
   },
   "file_extension": ".py",
   "mimetype": "text/x-python",
   "name": "python",
   "nbconvert_exporter": "python",
   "pygments_lexer": "ipython3",
   "version": "3.6.5"
  }
 },
 "nbformat": 4,
 "nbformat_minor": 2
}
