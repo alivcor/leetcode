{
 "cells": [
  {
   "cell_type": "code",
   "execution_count": 30,
   "metadata": {},
   "outputs": [],
   "source": [
    "class MinStack:\n",
    "\n",
    "    def __init__(self):\n",
    "        \"\"\"\n",
    "        initialize your data structure here.\n",
    "        \"\"\"\n",
    "        self.minVal = float(\"inf\")\n",
    "        self.arg_minVal = -1\n",
    "        self.values = []\n",
    "        \n",
    "\n",
    "    def push(self, x):\n",
    "        \"\"\"\n",
    "        :type x: int\n",
    "        :rtype: void\n",
    "        \"\"\"\n",
    "        self.values.append(x)\n",
    "        if(x < self.minVal):\n",
    "            self.minVal = x\n",
    "            self.arg_minVal = len(self.values)-1\n",
    "        \n",
    "\n",
    "    def pop(self):\n",
    "        \"\"\"\n",
    "        :rtype: void\n",
    "        \"\"\"\n",
    "        \n",
    "        newMin = float(\"inf\")\n",
    "        arg_newMin = -1 \n",
    "        print(\"POP:\", \"self.arg_minVal\", self.arg_minVal)\n",
    "        if(self.arg_minVal == len(self.values)-1):\n",
    "            for x in range(len(self.values[:-1])):\n",
    "                if(self.values[x] < newMin):\n",
    "                    newMin = self.values[x]\n",
    "                    arg_newMin = x\n",
    "                else:\n",
    "                    print(\"POP:\", self.values[x], \"is not less than current newMin\", newMin)\n",
    "            self.minVal = newMin\n",
    "            self.arg_minVal = arg_newMin\n",
    "        del self.values[-1]\n",
    "        \n",
    "        \n",
    "\n",
    "    def top(self):\n",
    "        \"\"\"\n",
    "        :rtype: int\n",
    "        \"\"\"\n",
    "        return self.values[-1]\n",
    "        \n",
    "\n",
    "    def getMin(self):\n",
    "        \"\"\"\n",
    "        :rtype: int\n",
    "        \"\"\"\n",
    "        return self.minVal\n",
    "        \n",
    "\n",
    "\n",
    "# Your MinStack object will be instantiated and called as such:\n",
    "# obj = MinStack()\n",
    "# obj.push(x)\n",
    "# obj.pop()\n",
    "# param_3 = obj.top()\n",
    "# param_4 = obj.getMin()"
   ]
  },
  {
   "cell_type": "code",
   "execution_count": 31,
   "metadata": {},
   "outputs": [
    {
     "name": "stdout",
     "output_type": "stream",
     "text": [
      "('minStack.minVal', -2)\n",
      "-2\n",
      "('minStack.minVal', -2)\n",
      "-1\n",
      "('minStack.minVal', -2)\n",
      "('POP:', 'self.arg_minVal', 0)\n",
      "('minStack.minVal', -2)\n",
      "-2\n"
     ]
    }
   ],
   "source": [
    "minStack = MinStack()\n",
    "minStack.push(-2)\n",
    "minStack.push(0)\n",
    "minStack.push(-1)\n",
    "print(\"minStack.minVal\", minStack.minVal)\n",
    "print(minStack.getMin())\n",
    "print(\"minStack.minVal\", minStack.minVal)\n",
    "print(minStack.top())\n",
    "print(\"minStack.minVal\", minStack.minVal)\n",
    "minStack.pop()\n",
    "print(\"minStack.minVal\", minStack.minVal)\n",
    "print(minStack.getMin())"
   ]
  },
  {
   "cell_type": "code",
   "execution_count": 19,
   "metadata": {},
   "outputs": [
    {
     "data": {
      "text/plain": [
       "False"
      ]
     },
     "execution_count": 19,
     "metadata": {},
     "output_type": "execute_result"
    }
   ],
   "source": [
    "-1 < float(\"-inf\")"
   ]
  },
  {
   "cell_type": "code",
   "execution_count": null,
   "metadata": {},
   "outputs": [],
   "source": [
    "[\"MinStack\",\"push\",\"push\",\"push\",\"getMin\",\"top\",\"pop\",\"getMin\"]\n",
    "[[],[-2],[0],[-1],[],[],[],[]]"
   ]
  }
 ],
 "metadata": {
  "kernelspec": {
   "display_name": "Python 2",
   "language": "python",
   "name": "python2"
  },
  "language_info": {
   "codemirror_mode": {
    "name": "ipython",
    "version": 2
   },
   "file_extension": ".py",
   "mimetype": "text/x-python",
   "name": "python",
   "nbconvert_exporter": "python",
   "pygments_lexer": "ipython2",
   "version": "2.7.14"
  }
 },
 "nbformat": 4,
 "nbformat_minor": 2
}
