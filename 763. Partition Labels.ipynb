{
 "cells": [
  {
   "cell_type": "code",
   "execution_count": 19,
   "metadata": {},
   "outputs": [],
   "source": [
    "\n",
    "class Solution(object):\n",
    "    def partitionLabels(self, S):\n",
    "        \"\"\"\n",
    "        :type S: str\n",
    "        :rtype: List[int]\n",
    "        \"\"\"\n",
    "        lastOccurence = {}\n",
    "        for idx, c in enumerate(S):\n",
    "            lastOccurence[c] = idx\n",
    "        \n",
    "        ans = []\n",
    "        anchor = 0\n",
    "        maybe_break_here = 0\n",
    "        print(lastOccurence)\n",
    "        \n",
    "        for this_index, c in enumerate(S):\n",
    "            maybe_break_here = max(maybe_break_here, lastOccurence[c])\n",
    "            if maybe_break_here == this_index:\n",
    "                ans.append(this_index-anchor+1)\n",
    "                anchor = this_index + 1\n",
    "            print(\"maybe_break_here is now \"+str(maybe_break_here))\n",
    "        print(ans)"
   ]
  },
  {
   "cell_type": "code",
   "execution_count": 20,
   "metadata": {},
   "outputs": [
    {
     "name": "stdout",
     "output_type": "stream",
     "text": [
      "{'a': 8, 'b': 5, 'c': 7, 'd': 14, 'e': 15, 'f': 11, 'g': 13, 'h': 19, 'i': 22, 'j': 23, 'k': 20, 'l': 21}\n",
      "maybe_break_here is now 8\n",
      "maybe_break_here is now 8\n",
      "maybe_break_here is now 8\n",
      "maybe_break_here is now 8\n",
      "maybe_break_here is now 8\n",
      "maybe_break_here is now 8\n",
      "maybe_break_here is now 8\n",
      "maybe_break_here is now 8\n",
      "maybe_break_here is now 8\n",
      "maybe_break_here is now 14\n",
      "maybe_break_here is now 15\n",
      "maybe_break_here is now 15\n",
      "maybe_break_here is now 15\n",
      "maybe_break_here is now 15\n",
      "maybe_break_here is now 15\n",
      "maybe_break_here is now 15\n",
      "maybe_break_here is now 19\n",
      "maybe_break_here is now 22\n",
      "maybe_break_here is now 23\n",
      "maybe_break_here is now 23\n",
      "maybe_break_here is now 23\n",
      "maybe_break_here is now 23\n",
      "maybe_break_here is now 23\n",
      "maybe_break_here is now 23\n",
      "[9, 7, 8]\n"
     ]
    }
   ],
   "source": [
    "Solution().partitionLabels(\"ababcbacadefegdehijhklij\")"
   ]
  },
  {
   "cell_type": "code",
   "execution_count": null,
   "metadata": {},
   "outputs": [],
   "source": []
  },
  {
   "cell_type": "code",
   "execution_count": null,
   "metadata": {},
   "outputs": [],
   "source": []
  }
 ],
 "metadata": {
  "kernelspec": {
   "display_name": "Python 3",
   "language": "python",
   "name": "python3"
  },
  "language_info": {
   "codemirror_mode": {
    "name": "ipython",
    "version": 3
   },
   "file_extension": ".py",
   "mimetype": "text/x-python",
   "name": "python",
   "nbconvert_exporter": "python",
   "pygments_lexer": "ipython3",
   "version": "3.6.5"
  }
 },
 "nbformat": 4,
 "nbformat_minor": 2
}
