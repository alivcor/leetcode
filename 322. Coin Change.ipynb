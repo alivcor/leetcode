{
 "cells": [
  {
   "cell_type": "code",
   "execution_count": 22,
   "metadata": {},
   "outputs": [],
   "source": [
    "class Solution(object):\n",
    "    def coinChange(self, coins, amount):\n",
    "        MAX = float('inf')\n",
    "        dp = [0] + [MAX]*amount\n",
    "        \n",
    "        for idx in range(1, amount+1):\n",
    "            dp[idx] = min([dp[idx -c] if idx-c>= 0 else MAX for c in coins]) + 1\n",
    "            \n",
    "        if dp[amount] == MAX:\n",
    "            return -1\n",
    "        else:\n",
    "            return dp[amount]"
   ]
  },
  {
   "cell_type": "code",
   "execution_count": 23,
   "metadata": {},
   "outputs": [
    {
     "data": {
      "text/plain": [
       "3"
      ]
     },
     "execution_count": 23,
     "metadata": {},
     "output_type": "execute_result"
    }
   ],
   "source": [
    "Solution().coinChange([1, 2, 5], 11)"
   ]
  },
  {
   "cell_type": "code",
   "execution_count": null,
   "metadata": {},
   "outputs": [],
   "source": []
  }
 ],
 "metadata": {
  "kernelspec": {
   "display_name": "Python 3",
   "language": "python",
   "name": "python3"
  },
  "language_info": {
   "codemirror_mode": {
    "name": "ipython",
    "version": 3
   },
   "file_extension": ".py",
   "mimetype": "text/x-python",
   "name": "python",
   "nbconvert_exporter": "python",
   "pygments_lexer": "ipython3",
   "version": "3.6.5"
  }
 },
 "nbformat": 4,
 "nbformat_minor": 2
}
