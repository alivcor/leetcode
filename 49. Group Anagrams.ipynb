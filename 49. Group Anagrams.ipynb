{
 "cells": [
  {
   "cell_type": "code",
   "execution_count": 28,
   "metadata": {},
   "outputs": [],
   "source": [
    "class Solution(object):\n",
    "    def groupAnagrams(self, strs):\n",
    "        \"\"\"\n",
    "        :type strs: List[str]\n",
    "        :rtype: List[List[str]]\n",
    "        \"\"\"\n",
    "        sorted_strs = []\n",
    "        anagram_groups = {}\n",
    "        for i in range(len(strs)):\n",
    "            print(sorted_strs, anagram_groups)\n",
    "            item = sorted(list(strs[i]), key=lambda k: ord(k)-ord('a'))\n",
    "            if item in sorted_strs:\n",
    "                print(\"found \" + str(item) + \" in sorted_strs - at \" + str(sorted_strs.index(item)))\n",
    "                anagram_groups[sorted_strs.index(item)].append(i)\n",
    "                sorted_strs.append(item)\n",
    "            else:\n",
    "                sorted_strs.append(item)\n",
    "                anagram_groups[i] = [i]\n",
    "        ans = []\n",
    "        for group_index in anagram_groups:\n",
    "            ans.append([strs[x] for x in anagram_groups[group_index]])\n",
    "        print(ans)\n",
    "        \n",
    "    def groupAnagramsAliter(self, strs):\n",
    "        import collections\n",
    "        ans = collections.defaultdict(list)\n",
    "        for s in strs:\n",
    "            ans[tuple(sorted(s))].append(s)\n",
    "        print(ans)"
   ]
  },
  {
   "cell_type": "code",
   "execution_count": 29,
   "metadata": {},
   "outputs": [
    {
     "name": "stdout",
     "output_type": "stream",
     "text": [
      "defaultdict(<class 'list'>, {('a', 'e', 't'): ['eat', 'tea', 'ate'], ('a', 'n', 't'): ['tan', 'nat'], ('a', 'b', 't'): ['bat']})\n"
     ]
    }
   ],
   "source": [
    "# Solution().groupAnagrams([\"eat\", \"tea\", \"tan\", \"ate\", \"nat\", \"bat\"])\n",
    "Solution().groupAnagramsAliter([\"eat\", \"tea\", \"tan\", \"ate\", \"nat\", \"bat\"])"
   ]
  },
  {
   "cell_type": "code",
   "execution_count": null,
   "metadata": {},
   "outputs": [],
   "source": []
  }
 ],
 "metadata": {
  "kernelspec": {
   "display_name": "Python 3",
   "language": "python",
   "name": "python3"
  },
  "language_info": {
   "codemirror_mode": {
    "name": "ipython",
    "version": 3
   },
   "file_extension": ".py",
   "mimetype": "text/x-python",
   "name": "python",
   "nbconvert_exporter": "python",
   "pygments_lexer": "ipython3",
   "version": "3.6.5"
  }
 },
 "nbformat": 4,
 "nbformat_minor": 2
}
