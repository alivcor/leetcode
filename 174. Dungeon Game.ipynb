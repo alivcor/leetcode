{
 "cells": [
  {
   "cell_type": "code",
   "execution_count": 42,
   "metadata": {},
   "outputs": [],
   "source": [
    "import collections\n",
    "\n",
    "class Room(object):\n",
    "    def __init__(self, r, c, cost=0):\n",
    "        self.r = r\n",
    "        self.c = c\n",
    "        self.cost = cost\n",
    "    \n",
    "    def __eq__(self, other):\n",
    "        if self.r == other.r and self.c == other.c:\n",
    "            return True\n",
    "        return False\n",
    "    \n",
    "    def __hash__(self):\n",
    "        return hash((self.r, self.c, self.cost))\n",
    "    \n",
    "    def __repr__(self):\n",
    "        return \"Room({}, {}, {})\".format(self.r, self.c, self.cost)\n",
    "    \n",
    "    \n",
    "class Solution(object):\n",
    "    def calculateMinimumHP(self, dungeon):\n",
    "        \"\"\"\n",
    "        :type dungeon: List[List[int]]\n",
    "        :rtype: int\n",
    "        \"\"\"\n",
    "        mr, mc = len(dungeon), len(dungeon[0])\n",
    "        start_room = Room(0, 0, dungeon[0][0])\n",
    "        target_room = Room(mr-1, mc-1, dungeon[mr-1][mc-1])\n",
    "        \n",
    "        q = collections.deque()\n",
    "        q.append(start_room)\n",
    "        costToThis = collections.defaultdict(lambda: -float(\"inf\"))\n",
    "        costToThis[start_room] = start_room.cost\n",
    "        \n",
    "        dirs = [[1, 0], [0, 1]]\n",
    "        while(q):\n",
    "#             print(q, costToThis)\n",
    "            room = q.popleft()\n",
    "            c = costToThis[room]\n",
    "#             print(\"\\t At room = {}, cost = {}\".format(room, c))\n",
    "            if room == target_room:\n",
    "                return c\n",
    "            for _dir in dirs:\n",
    "                next_room = Room(room.r + _dir[0], room.c + _dir[1])\n",
    "                if next_room.r >= 0 and next_room.c >= 0 and next_room.r < mr and next_room.c < mc:\n",
    "                    next_room = Room(next_room.r, next_room.c, dungeon[next_room.r][next_room.c])\n",
    "#                     print(\"\\t\\t Possible next_room : {}\".format(next_room))\n",
    "#                     print(\"\\t\\t Is c + next_room.cost {} > costToThis[next_room] {}\".format(c + next_room.cost, costToThis[next_room]))\n",
    "                    if c + next_room.cost > costToThis[next_room]:\n",
    "#                         print(\"\\t\\t\\t Appending {}\".format(next_room))\n",
    "                        costToThis[next_room] = c + next_room.cost\n",
    "                        q.append(next_room)\n",
    "                        \n",
    "        return -1\n",
    "        "
   ]
  },
  {
   "cell_type": "code",
   "execution_count": 43,
   "metadata": {
    "scrolled": false
   },
   "outputs": [
    {
     "data": {
      "text/plain": [
       "28"
      ]
     },
     "execution_count": 43,
     "metadata": {},
     "output_type": "execute_result"
    }
   ],
   "source": [
    "s= Solution()\n",
    "s.calculateMinimumHP([[-2, -3, 3], [-5, -10, 1], [10, 30, -5]])"
   ]
  },
  {
   "cell_type": "code",
   "execution_count": null,
   "metadata": {},
   "outputs": [],
   "source": [
    "import collections\n",
    "\n",
    "class Room(object):\n",
    "    def __init__(self, r, c, cost=0):\n",
    "        self.r = r\n",
    "        self.c = c\n",
    "        self.cost = cost\n",
    "    \n",
    "    def __eq__(self, other):\n",
    "        if self.r == other.r and self.c == other.c:\n",
    "            return True\n",
    "        return False\n",
    "    \n",
    "    def __hash__(self):\n",
    "        return hash((self.r, self.c, self.cost))\n",
    "    \n",
    "    def __repr__(self):\n",
    "        return \"Room({}, {}, {})\".format(self.r, self.c, self.cost)\n",
    "    \n",
    "    \n",
    "class Solution(object):\n",
    "    def calculateMinimumHP(self, dungeon):\n",
    "        \"\"\"\n",
    "        :type dungeon: List[List[int]]\n",
    "        :rtype: int\n",
    "        \"\"\"\n",
    "        mr, mc = len(dungeon), len(dungeon[0])\n",
    "        start_room = Room(0, 0, dungeon[0][0])\n",
    "        target_room = Room(mr-1, mc-1, dungeon[mr-1][mc-1])\n",
    "        \n",
    "        q = collections.deque()\n",
    "        q.append(start_room)\n",
    "        costToThis = collections.defaultdict(lambda: -float(\"inf\"))\n",
    "        costToThis[start_room] = start_room.cost\n",
    "        \n",
    "        dirs = [[1, 0], [0, 1]]\n",
    "        while(q):\n",
    "            room = q.popleft()\n",
    "            c = costToThis[room]\n",
    "            if room == target_room:\n",
    "                return c\n",
    "            for _dir in dirs:\n",
    "                next_room = Room(room.r + _dir[0], room.c + _dir[1])\n",
    "                if next_room.r >= 0 and next_room.c >= 0 and next_room.r < mr and next_room.c < mc:\n",
    "                    next_room = Room(next_room.r, next_room.c, dungeon[next_room.r][next_room.c])\n",
    "                    if c + next_room.cost > costToThis[next_room]:\n",
    "                        costToThis[next_room] = c + next_room.cost\n",
    "                        q.append(next_room)\n",
    "                        \n",
    "        return -1\n",
    "        "
   ]
  },
  {
   "cell_type": "code",
   "execution_count": null,
   "metadata": {},
   "outputs": [],
   "source": []
  },
  {
   "cell_type": "code",
   "execution_count": null,
   "metadata": {},
   "outputs": [],
   "source": [
    "dp[i + 1][j + 1] = max(min(dp[i][j + 1], dp[i + 1][j]) - dungeon[i + 1][j + 1],     0)"
   ]
  }
 ],
 "metadata": {
  "kernelspec": {
   "display_name": "Python 3",
   "language": "python",
   "name": "python3"
  },
  "language_info": {
   "codemirror_mode": {
    "name": "ipython",
    "version": 3
   },
   "file_extension": ".py",
   "mimetype": "text/x-python",
   "name": "python",
   "nbconvert_exporter": "python",
   "pygments_lexer": "ipython3",
   "version": "3.6.5"
  }
 },
 "nbformat": 4,
 "nbformat_minor": 2
}
