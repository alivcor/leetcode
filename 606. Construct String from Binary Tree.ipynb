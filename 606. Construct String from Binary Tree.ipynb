{
 "cells": [
  {
   "cell_type": "code",
   "execution_count": 22,
   "metadata": {},
   "outputs": [],
   "source": [
    "# Definition for a binary tree node.\n",
    "class TreeNode(object):\n",
    "    def __init__(self, x):\n",
    "        self.val = x\n",
    "        self.left = None\n",
    "        self.right = None\n",
    "\n",
    "class Solution(object):\n",
    "        \n",
    "    def tree2str(self, t):\n",
    "        \"\"\"\n",
    "        :type t: TreeNode\n",
    "        :rtype: str\n",
    "        \"\"\"\n",
    "        if not t:\n",
    "            return \"\"\n",
    "        if not t.left and not t.right:\n",
    "            return str(t.val)\n",
    "        if not t.right:\n",
    "            return str(t.val) + \"(\" + self.tree2str(t.left) + \")\" \n",
    "        return str(t.val) + \"(\" + self.tree2str(t.left) + \")\" + \"(\" + self.tree2str(t.right) + \")\"\n",
    "        \n",
    "        "
   ]
  },
  {
   "cell_type": "code",
   "execution_count": 23,
   "metadata": {},
   "outputs": [
    {
     "name": "stdout",
     "output_type": "stream",
     "text": [
      "1(2(4))(3)\n"
     ]
    }
   ],
   "source": [
    "t1 = TreeNode(1)\n",
    "t1.left = TreeNode(2)\n",
    "t1.right = TreeNode(3)\n",
    "t1.left.left = TreeNode(4)\n",
    "\n",
    "print Solution().tree2str(t1)"
   ]
  },
  {
   "cell_type": "code",
   "execution_count": null,
   "metadata": {},
   "outputs": [],
   "source": []
  }
 ],
 "metadata": {
  "kernelspec": {
   "display_name": "Python 2",
   "language": "python",
   "name": "python2"
  },
  "language_info": {
   "codemirror_mode": {
    "name": "ipython",
    "version": 2
   },
   "file_extension": ".py",
   "mimetype": "text/x-python",
   "name": "python",
   "nbconvert_exporter": "python",
   "pygments_lexer": "ipython2",
   "version": "2.7.14"
  }
 },
 "nbformat": 4,
 "nbformat_minor": 2
}
