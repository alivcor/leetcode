{
 "cells": [
  {
   "cell_type": "code",
   "execution_count": 40,
   "metadata": {},
   "outputs": [],
   "source": [
    "# Definition for singly-linked list.\n",
    "# class ListNode(object):\n",
    "#     def __init__(self, x):\n",
    "#         self.val = x\n",
    "#         self.next = None\n",
    "#     def __repr__(self):\n",
    "#         return \"{} -> {}\".format(self.val, self.next)\n",
    "from ListNodeHelper import ListNode\n",
    "class Solution(object):\n",
    "    def oddEvenList(self, head):\n",
    "        \"\"\"\n",
    "        :type head: ListNode\n",
    "        :rtype: ListNode\n",
    "        \"\"\"\n",
    "        \n",
    "        curr = head\n",
    "        prev = None\n",
    "        idx = 1\n",
    "        even_nodes = ListNode(-1)\n",
    "        last_even_node = even_nodes\n",
    "        \n",
    "        while(curr):\n",
    "            if(idx % 2 != 0):\n",
    "                #odd\n",
    "                if(prev):\n",
    "                    prev.next = curr\n",
    "                prev = curr\n",
    "                curr = curr.next\n",
    "            else:\n",
    "                #even\n",
    "                last_even_node.next = curr\n",
    "                last_even_node = last_even_node.next\n",
    "                curr = curr.next\n",
    "            idx+=1\n",
    "        print(idx)\n",
    "#         if(idx%2 == 0):\n",
    "#             last_even_node.next = curr\n",
    "#             prev.next = even_nodes.next\n",
    "#         else:\n",
    "#             prev.next = curr\n",
    "#             print(curr.val, last_even_node.val)\n",
    "#             last_even_node.next = curr\n",
    "#             curr.next = even_nodes.next\n",
    "        \n",
    "        last_even_node.next = None\n",
    "        prev.next = even_nodes.next\n",
    "        \n",
    "        x = head\n",
    "        printed = set()\n",
    "        while(x and x not in printed):\n",
    "            printed.add(x)\n",
    "            if(x.next == None):\n",
    "                print(x.val)\n",
    "            elif(x.next in printed):\n",
    "                print(x.val, \" -> \", x.next.val,  \"[LOOP]\")\n",
    "            else:\n",
    "                print(str(x.val) + \" -> \", end=\"\", flush=True)\n",
    "            x = x.next\n",
    "            "
   ]
  },
  {
   "cell_type": "code",
   "execution_count": 42,
   "metadata": {},
   "outputs": [
    {
     "name": "stdout",
     "output_type": "stream",
     "text": [
      "1 -> -1 -> 3 -> 2 -> 6 -> 3 -> 5 -> 7 -> None\n",
      "9\n",
      "1 -> 3 -> 6 -> 5 -> -1 -> 2 -> 3 -> 7\n"
     ]
    }
   ],
   "source": [
    "import ListNodeHelper\n",
    "\n",
    "\n",
    "l1 = ListNodeHelper.getListNode([1,-1,3,2,6,3,5,7])\n",
    "print(l1)\n",
    "Solution().oddEvenList(l1)"
   ]
  },
  {
   "cell_type": "code",
   "execution_count": null,
   "metadata": {},
   "outputs": [],
   "source": []
  },
  {
   "cell_type": "code",
   "execution_count": null,
   "metadata": {},
   "outputs": [],
   "source": []
  }
 ],
 "metadata": {
  "kernelspec": {
   "display_name": "Python 3",
   "language": "python",
   "name": "python3"
  },
  "language_info": {
   "codemirror_mode": {
    "name": "ipython",
    "version": 3
   },
   "file_extension": ".py",
   "mimetype": "text/x-python",
   "name": "python",
   "nbconvert_exporter": "python",
   "pygments_lexer": "ipython3",
   "version": "3.6.5"
  }
 },
 "nbformat": 4,
 "nbformat_minor": 2
}
