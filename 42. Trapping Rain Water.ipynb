{
 "cells": [
  {
   "cell_type": "markdown",
   "metadata": {},
   "source": [
    "![rainwatertrap](https://assets.leetcode.com/uploads/2018/10/22/rainwatertrap.png)"
   ]
  },
  {
   "cell_type": "code",
   "execution_count": 16,
   "metadata": {},
   "outputs": [],
   "source": [
    "class Solution(object):\n",
    "    def trap(self, height):\n",
    "        \"\"\"\n",
    "        :type height: List[int]\n",
    "        :rtype: int\n",
    "        \"\"\"\n",
    "        import collections\n",
    "        left_max, right_max = [0]*len(height), [0]*len(height)\n",
    "        left_max[0] = height[0]\n",
    "        right_max[len(height)-1] = height[-1]\n",
    "        for i in range(1,len(height)):\n",
    "            left_max[i] = max(left_max[i-1], height[i])\n",
    "        \n",
    "        for i in range(len(height)-2,0,-1):\n",
    "            right_max[i] = max(right_max[i+1], height[i])\n",
    "        \n",
    "        ans = 0\n",
    "        for i in range(len(height)):\n",
    "            ans += (min(right_max[i],left_max[i])-height[i])\n",
    "        return ans"
   ]
  },
  {
   "cell_type": "code",
   "execution_count": 17,
   "metadata": {},
   "outputs": [
    {
     "data": {
      "text/plain": [
       "6"
      ]
     },
     "execution_count": 17,
     "metadata": {},
     "output_type": "execute_result"
    }
   ],
   "source": [
    "Solution().trap([0,1,0,2,1,0,1,3,2,1,2,1])"
   ]
  },
  {
   "cell_type": "code",
   "execution_count": null,
   "metadata": {},
   "outputs": [],
   "source": []
  }
 ],
 "metadata": {
  "kernelspec": {
   "display_name": "Python 3",
   "language": "python",
   "name": "python3"
  },
  "language_info": {
   "codemirror_mode": {
    "name": "ipython",
    "version": 3
   },
   "file_extension": ".py",
   "mimetype": "text/x-python",
   "name": "python",
   "nbconvert_exporter": "python",
   "pygments_lexer": "ipython3",
   "version": "3.6.5"
  }
 },
 "nbformat": 4,
 "nbformat_minor": 2
}
