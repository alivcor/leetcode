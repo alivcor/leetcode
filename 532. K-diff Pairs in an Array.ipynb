{
 "cells": [
  {
   "cell_type": "code",
   "execution_count": 17,
   "metadata": {},
   "outputs": [],
   "source": [
    "class Solution(object):\n",
    "    def findPairs(self, nums, k):\n",
    "        \"\"\"\n",
    "        :type nums: List[int]\n",
    "        :type k: int\n",
    "        :rtype: int\n",
    "        \"\"\"\n",
    "        t_nums = sorted(nums)\n",
    "        kdp = []\n",
    "        for i in range(len(t_nums)):\n",
    "            j = i+1\n",
    "            while(j < len(t_nums) and t_nums[j] - t_nums[i] <= k):\n",
    "#                 print \"Checking out t_nums[{}], {} and t_nums[{}], {}\".format(i, t_nums[i], j, t_nums[j])\n",
    "                if t_nums[j] - t_nums[i] == k and [t_nums[i], t_nums[j]] not in kdp:\n",
    "                    kdp.append([t_nums[i], t_nums[j]])\n",
    "                j += 1\n",
    "        return kdp"
   ]
  },
  {
   "cell_type": "code",
   "execution_count": 18,
   "metadata": {},
   "outputs": [
    {
     "name": "stdout",
     "output_type": "stream",
     "text": [
      "Checking out t_nums[0], 1 and t_nums[1], 1\n",
      "Checking out t_nums[0], 1 and t_nums[2], 3\n",
      "Checking out t_nums[1], 1 and t_nums[2], 3\n",
      "Checking out t_nums[2], 3 and t_nums[3], 4\n",
      "Checking out t_nums[2], 3 and t_nums[4], 5\n",
      "Checking out t_nums[3], 4 and t_nums[4], 5\n",
      "[[1, 3], [3, 5]]\n"
     ]
    }
   ],
   "source": [
    "print Solution().findPairs([3, 1, 4, 1, 5], 2)"
   ]
  },
  {
   "cell_type": "code",
   "execution_count": null,
   "metadata": {},
   "outputs": [],
   "source": []
  }
 ],
 "metadata": {
  "kernelspec": {
   "display_name": "Python 2",
   "language": "python",
   "name": "python2"
  },
  "language_info": {
   "codemirror_mode": {
    "name": "ipython",
    "version": 2
   },
   "file_extension": ".py",
   "mimetype": "text/x-python",
   "name": "python",
   "nbconvert_exporter": "python",
   "pygments_lexer": "ipython2",
   "version": "2.7.14"
  }
 },
 "nbformat": 4,
 "nbformat_minor": 2
}
