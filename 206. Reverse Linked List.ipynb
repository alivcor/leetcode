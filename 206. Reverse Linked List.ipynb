{
 "cells": [
  {
   "cell_type": "markdown",
   "metadata": {},
   "source": [
    "#### For Iterative\n",
    "\n",
    "1. take `prev` and `curr`\n",
    "2. while is on curr (NOT curr.next)\n",
    "3. 4 step process, first secure curr.next, then play with it, then prepare for next iteration (what's new prev?)\n",
    "    1. Memoization - secure your childs future, then he grows, then you become previous generation\n",
    "4. return prev  ! because story was about you\n",
    "    1. Memoization - you return to God !\n",
    "    \n",
    "#### For recursive\n",
    "\n",
    "1. Assume its already done for a listnode p = nk such that : n1 → … → nk-1 → nk → nk+1 ← … ← nm \n",
    "2. first of all, return on ending condition because its recursion\n",
    "3. nk.next.next = nk\n",
    "4. nk.next = null\n",
    "5. return nk ! because story was about him"
   ]
  },
  {
   "cell_type": "code",
   "execution_count": 59,
   "metadata": {},
   "outputs": [],
   "source": [
    "# Definition for singly-linked list.\n",
    "class ListNode:\n",
    "    def __init__(self, x):\n",
    "        self.val = x\n",
    "        self.next = None\n",
    "        \n",
    "    def printList(self):\n",
    "        x = self\n",
    "        while(x!=None):\n",
    "            print(x.val),\n",
    "            x = x.next\n",
    "        print(\"\")\n",
    "\n",
    "class Solution:\n",
    "    def reverseList(self, head):\n",
    "        \"\"\"\n",
    "        :type head: ListNode\n",
    "        :rtype: ListNode\n",
    "        \"\"\"\n",
    "        prev = None\n",
    "        curr = head\n",
    "        while(curr != None):\n",
    "            temp = curr.next\n",
    "            curr.next = prev\n",
    "            prev = curr\n",
    "            curr = temp\n",
    "            \n",
    "        return prev\n",
    "    \n",
    "    def revlistrecur(self, head):\n",
    "        if(head == None or head.next == None):\n",
    "            return head\n",
    "        p = self.revlistrecur(head.next)\n",
    "        head.next.next = head\n",
    "        head.next = None\n",
    "        return p\n",
    "        \n",
    "        "
   ]
  },
  {
   "cell_type": "code",
   "execution_count": 60,
   "metadata": {},
   "outputs": [
    {
     "name": "stdout",
     "output_type": "stream",
     "text": [
      "1 2 3 4 5 \n",
      "5 4 3 2 1 \n",
      "1 2 3 4 5 \n"
     ]
    }
   ],
   "source": [
    "l1 = ListNode(1)\n",
    "l2 = ListNode(2)\n",
    "l1.next = l2\n",
    "l3 = ListNode(3)\n",
    "l2.next = l3\n",
    "l4 = ListNode(4)\n",
    "l3.next = l4\n",
    "l5 = ListNode(5)\n",
    "l4.next = l5\n",
    "\n",
    "l1.printList()\n",
    "s = Solution()\n",
    "y = s.reverseList(l1)\n",
    "y.printList()\n",
    "\n",
    "z = s.revlistrecur(y)\n",
    "z.printList()"
   ]
  },
  {
   "cell_type": "code",
   "execution_count": null,
   "metadata": {},
   "outputs": [],
   "source": []
  },
  {
   "cell_type": "code",
   "execution_count": null,
   "metadata": {},
   "outputs": [],
   "source": []
  }
 ],
 "metadata": {
  "kernelspec": {
   "display_name": "Python 2",
   "language": "python",
   "name": "python2"
  },
  "language_info": {
   "codemirror_mode": {
    "name": "ipython",
    "version": 2
   },
   "file_extension": ".py",
   "mimetype": "text/x-python",
   "name": "python",
   "nbconvert_exporter": "python",
   "pygments_lexer": "ipython2",
   "version": "2.7.14"
  }
 },
 "nbformat": 4,
 "nbformat_minor": 2
}
