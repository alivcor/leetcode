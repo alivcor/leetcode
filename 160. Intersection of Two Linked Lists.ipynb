{
 "cells": [
  {
   "cell_type": "code",
   "execution_count": 5,
   "metadata": {},
   "outputs": [],
   "source": [
    "# Definition for singly-linked list.\n",
    "class ListNode(object):\n",
    "    def __init__(self, x):\n",
    "        self.val = x\n",
    "        self.next = None\n",
    "    \n",
    "    def __repr__(self):\n",
    "        if self:\n",
    "            return \"{} -> {}\".format(self.val, self.next)\n",
    "    \n",
    "class Solution(object):\n",
    "    def getIntersectionNode(self, headA, headB):\n",
    "        \"\"\"\n",
    "        :type head1, head1: ListNode\n",
    "        :rtype: ListNode\n",
    "        \"\"\"\n",
    "        lenA, lenB = 0, 0\n",
    "        xA, xB = headA, headB\n",
    "        while(xA):\n",
    "            lenA += 1\n",
    "            xA = xA.next\n",
    "        while(xB):\n",
    "            lenB += 1\n",
    "            xB = xB.next\n",
    "            \n",
    "        xA, xB = headA, headB\n",
    "        if(lenA >= lenB):\n",
    "            diff = lenA - lenB\n",
    "            while(diff and xA):\n",
    "                xA = xA.next\n",
    "                diff -= 1\n",
    "            while(xA and xB):\n",
    "                if (xA == xB):\n",
    "                    return xA\n",
    "                xA = xA.next\n",
    "                xB = xB.next\n",
    "        else:\n",
    "            diff = lenB - lenA\n",
    "            while(diff and xB):\n",
    "                xB = xB.next\n",
    "                diff -= 1\n",
    "            while(xA and xB):\n",
    "                if (xA == xB):\n",
    "                    return xA\n",
    "                xA = xA.next\n",
    "                xB = xB.next\n",
    "        return None\n",
    "    \n",
    "\n",
    "        \n",
    "    "
   ]
  },
  {
   "cell_type": "code",
   "execution_count": 6,
   "metadata": {},
   "outputs": [
    {
     "name": "stdout",
     "output_type": "stream",
     "text": [
      "1 -> 2 -> 3 -> 4 -> 5 -> 6 -> 17 -> None\n",
      "7 -> 8 -> 3 -> 4 -> 5 -> 6 -> 17 -> None\n"
     ]
    },
    {
     "data": {
      "text/plain": [
       "3 -> 4 -> 5 -> 6 -> 17 -> None"
      ]
     },
     "execution_count": 6,
     "metadata": {},
     "output_type": "execute_result"
    }
   ],
   "source": [
    "l1 = ListNode(1)\n",
    "l1.next = ListNode(2)\n",
    "l1.next.next = ListNode(3)\n",
    "l1.next.next.next = ListNode(4)\n",
    "l1.next.next.next.next = ListNode(5)\n",
    "l1.next.next.next.next.next = ListNode(6)\n",
    "l1.next.next.next.next.next.next = ListNode(17)\n",
    "\n",
    "\n",
    "l2 = ListNode(7)\n",
    "l2.next = ListNode(8)\n",
    "l2.next.next = l1.next.next\n",
    "\n",
    "print l1\n",
    "print l2\n",
    "Solution().getIntersectionNode(l1, l2)"
   ]
  },
  {
   "cell_type": "code",
   "execution_count": null,
   "metadata": {},
   "outputs": [],
   "source": []
  }
 ],
 "metadata": {
  "kernelspec": {
   "display_name": "Python 2",
   "language": "python",
   "name": "python2"
  },
  "language_info": {
   "codemirror_mode": {
    "name": "ipython",
    "version": 2
   },
   "file_extension": ".py",
   "mimetype": "text/x-python",
   "name": "python",
   "nbconvert_exporter": "python",
   "pygments_lexer": "ipython2",
   "version": "2.7.14"
  }
 },
 "nbformat": 4,
 "nbformat_minor": 2
}
