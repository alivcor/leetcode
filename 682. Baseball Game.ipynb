{
 "cells": [
  {
   "cell_type": "code",
   "execution_count": 12,
   "metadata": {},
   "outputs": [],
   "source": [
    "class Solution:\n",
    "    def calPoints(self, ops):\n",
    "        \"\"\"\n",
    "        :type ops: List[str]\n",
    "        :rtype: int\n",
    "        \"\"\"\n",
    "        real_pts = []\n",
    "        valid_rounds = []\n",
    "        for i in range(len(ops)):\n",
    "            op = ops[i]\n",
    "            print(real_pts, valid_rounds, op)\n",
    "            if op.isdigit() or (op.startswith('-') and op[1:].isdigit()):\n",
    "                real_pts.append(int(op))\n",
    "                valid_rounds.append(i)\n",
    "            elif op == \"C\":\n",
    "                real_pts[valid_rounds[-1]] = 0\n",
    "                real_pts.append(0)\n",
    "                del valid_rounds[-1]\n",
    "            elif op == \"D\":\n",
    "                real_pts.append(2*real_pts[valid_rounds[-1]])\n",
    "                valid_rounds.append(i)\n",
    "            else:\n",
    "                real_pts.append(real_pts[valid_rounds[-1]] + real_pts[valid_rounds[-2]])\n",
    "                valid_rounds.append(i)\n",
    "        return sum(real_pts)\n",
    "                \n",
    "                "
   ]
  },
  {
   "cell_type": "code",
   "execution_count": 13,
   "metadata": {},
   "outputs": [
    {
     "name": "stdout",
     "output_type": "stream",
     "text": [
      "([], [], '5')\n",
      "([5], [0], '-2')\n",
      "([5, -2], [0, 1], '4')\n",
      "([5, -2, 4], [0, 1, 2], 'C')\n",
      "([5, -2, 0, 0], [0, 1], 'D')\n",
      "([5, -2, 0, 0, -4], [0, 1, 4], '9')\n",
      "([5, -2, 0, 0, -4, 9], [0, 1, 4, 5], '+')\n",
      "([5, -2, 0, 0, -4, 9, 5], [0, 1, 4, 5, 6], '+')\n",
      "27\n"
     ]
    }
   ],
   "source": [
    "s = Solution()\n",
    "print(s.calPoints([\"5\",\"-2\",\"4\",\"C\",\"D\",\"9\",\"+\",\"+\"]))"
   ]
  },
  {
   "cell_type": "code",
   "execution_count": null,
   "metadata": {},
   "outputs": [],
   "source": []
  }
 ],
 "metadata": {
  "kernelspec": {
   "display_name": "Python 2",
   "language": "python",
   "name": "python2"
  },
  "language_info": {
   "codemirror_mode": {
    "name": "ipython",
    "version": 2
   },
   "file_extension": ".py",
   "mimetype": "text/x-python",
   "name": "python",
   "nbconvert_exporter": "python",
   "pygments_lexer": "ipython2",
   "version": "2.7.14"
  }
 },
 "nbformat": 4,
 "nbformat_minor": 2
}
