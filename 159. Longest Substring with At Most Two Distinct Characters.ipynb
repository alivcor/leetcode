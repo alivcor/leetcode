{
 "cells": [
  {
   "cell_type": "code",
   "execution_count": 11,
   "metadata": {},
   "outputs": [],
   "source": [
    "class Solution(object):\n",
    "    def lengthOfLongestSubstringTwoDistinct(self, s):\n",
    "        \"\"\"\n",
    "        :type s: str\n",
    "        :rtype: int\n",
    "        \"\"\"\n",
    "        l, r = 0, 0\n",
    "        longest = 0\n",
    "        subdict = {}\n",
    "        while (l <= r and r < len(s)):\n",
    "            window = s[l:r+1]\n",
    "            d = len(set(window))\n",
    "            n = len(window)\n",
    "            print(\"window = {}, d = {}, n = {}, longest = {}\".format(window, d, n, longest))\n",
    "            if d <= 2 and n >= longest:\n",
    "                longest = n\n",
    "                subdict[longest] = (l, r)\n",
    "                r+=1\n",
    "#                 if d == 2:\n",
    "#                     l+= 1\n",
    "            elif d > 2:\n",
    "                l+=1\n",
    "            else:\n",
    "                r+=1\n",
    "        return longest\n",
    "            "
   ]
  },
  {
   "cell_type": "code",
   "execution_count": 12,
   "metadata": {},
   "outputs": [
    {
     "name": "stdout",
     "output_type": "stream",
     "text": [
      "window = e, d = 1, n = 1, longest = 0\n",
      "window = ec, d = 2, n = 2, longest = 1\n",
      "window = ece, d = 2, n = 3, longest = 2\n",
      "window = eceb, d = 3, n = 4, longest = 3\n",
      "window = ceb, d = 3, n = 3, longest = 3\n",
      "window = eb, d = 2, n = 2, longest = 3\n",
      "window = eba, d = 3, n = 3, longest = 3\n",
      "window = ba, d = 2, n = 2, longest = 3\n",
      "window = bad, d = 3, n = 3, longest = 3\n",
      "window = ad, d = 2, n = 2, longest = 3\n",
      "window = add, d = 2, n = 3, longest = 3\n",
      "window = addd, d = 2, n = 4, longest = 3\n",
      "window = adddd, d = 2, n = 5, longest = 4\n",
      "window = adddde, d = 3, n = 6, longest = 5\n",
      "window = dddde, d = 2, n = 5, longest = 5\n"
     ]
    },
    {
     "data": {
      "text/plain": [
       "5"
      ]
     },
     "execution_count": 12,
     "metadata": {},
     "output_type": "execute_result"
    }
   ],
   "source": [
    "Solution().lengthOfLongestSubstringTwoDistinct(\"ecebadddde\")"
   ]
  },
  {
   "cell_type": "code",
   "execution_count": null,
   "metadata": {},
   "outputs": [],
   "source": []
  }
 ],
 "metadata": {
  "kernelspec": {
   "display_name": "Python 3",
   "language": "python",
   "name": "python3"
  },
  "language_info": {
   "codemirror_mode": {
    "name": "ipython",
    "version": 3
   },
   "file_extension": ".py",
   "mimetype": "text/x-python",
   "name": "python",
   "nbconvert_exporter": "python",
   "pygments_lexer": "ipython3",
   "version": "3.6.5"
  }
 },
 "nbformat": 4,
 "nbformat_minor": 2
}
