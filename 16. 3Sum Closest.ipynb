{
 "cells": [
  {
   "cell_type": "markdown",
   "metadata": {},
   "source": [
    "Given an array nums of n integers and an integer target, find three integers in nums such that the sum is closest to target. Return the sum of the three integers. You may assume that each input would have exactly one solution.\n",
    "\n",
    "Example:\n",
    "\n",
    "Given array nums = [-1, 2, 1, -4], and target = 1.\n",
    "\n",
    "The sum that is closest to the target is 2. (-1 + 2 + 1 = 2)."
   ]
  },
  {
   "cell_type": "code",
   "execution_count": 13,
   "metadata": {},
   "outputs": [
    {
     "name": "stdout",
     "output_type": "stream",
     "text": [
      "testnums : [1, 2, 4, 8, 16, 32, 64, 128]\n",
      "82\n"
     ]
    }
   ],
   "source": [
    "# three pointers\n",
    "\n",
    "\n",
    "def threeSum(nums, target):\n",
    "    i = 0\n",
    "    nums.sort()\n",
    "    min_diff = float(\"inf\")\n",
    "    min_sum = 0\n",
    "    explored = []\n",
    "    while(i <= len(nums)-1):\n",
    "        # if i > 0 and nums[i-1]!=nums[i]:\n",
    "        j = i + 1\n",
    "        k = len(nums)-1\n",
    "        while(j < k):\n",
    "            explored.append([nums[i], nums[j], nums[k]])\n",
    "            sumv = nums[i] + nums[j] + nums[k]\n",
    "            diff = abs(target - sumv)\n",
    "            if diff < min_diff:\n",
    "                min_diff = diff\n",
    "                min_sum = sumv\n",
    "            if(sumv == target):\n",
    "                return target\n",
    "            elif(sumv > target):\n",
    "                # we're going ahead of target, pull back k\n",
    "                k-=1\n",
    "            else:\n",
    "                j+=1\n",
    "        i+=1\n",
    "    print(explored)\n",
    "    return min_sum\n",
    "        \n",
    "\n",
    "import random\n",
    "# testnums = [random.randint(-5,5) for _ in range(10)]\n",
    "# testnums = [-1,2,1,-4]\n",
    "testnums= [1,2,4,8,16,32,64,128]\n",
    "target = 82\n",
    "print(\"testnums : \" + str(testnums))\n",
    "print(threeSum(testnums, target))"
   ]
  },
  {
   "cell_type": "code",
   "execution_count": null,
   "metadata": {},
   "outputs": [],
   "source": []
  }
 ],
 "metadata": {
  "kernelspec": {
   "display_name": "Python 3",
   "language": "python",
   "name": "python3"
  },
  "language_info": {
   "codemirror_mode": {
    "name": "ipython",
    "version": 3
   },
   "file_extension": ".py",
   "mimetype": "text/x-python",
   "name": "python",
   "nbconvert_exporter": "python",
   "pygments_lexer": "ipython3",
   "version": "3.6.5"
  }
 },
 "nbformat": 4,
 "nbformat_minor": 2
}
