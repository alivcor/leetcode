{
 "cells": [
  {
   "cell_type": "code",
   "execution_count": 34,
   "metadata": {},
   "outputs": [],
   "source": [
    "def lengthOfLIS(nums):\n",
    "    tails = [0] * len(nums)\n",
    "    size = 0\n",
    "    for x in nums:\n",
    "        i, j = 0, size\n",
    "        print(\"at x = {}\".format(x))\n",
    "        if i != j:\n",
    "            print(\"\\t BEFORE LOOP i = {}, j = {} so i != j\".format(i, j))\n",
    "            while i != j:\n",
    "                m = (i + j) // 2\n",
    "#                 print(\"\\t\\t m = middle of i and j, = {}\".format(m))\n",
    "                if tails[m] < x:\n",
    "#                     print(\"\\t\\t tails[m] < x; set i as m+1\")\n",
    "#                     print(\"\\t\\t\\t i = m+1 = {}\".format(m+1))\n",
    "                    i = m + 1\n",
    "                else:\n",
    "#                     print(\"\\t\\t tails[m] >= x; set j as m\")\n",
    "                    j = m\n",
    "            print(\"\\t AFTER LOOP i = {}, j = {} so i != j\".format(i, j))\n",
    "        else:\n",
    "            print(\"\\t i = {}, j = {} so i == j\".format(i, j))\n",
    "            print(\"\\t i == j, so skip the while loop\")\n",
    "        print(\"\\t x = {}, tails = {}, size = {}, i = {}, j = {}\".format(x, tails, size, i, j))\n",
    "        print(\"\\t tails[{}] = {}; size = max(i + 1, size which is {})\".format(i, x, size))\n",
    "        tails[i] = x\n",
    "        size = max(i + 1, size)\n",
    "        print(\"\\t x = {}, tails = {}, size = {}, i = {}, j = {}\\n\".format(x, tails, size, i, j))\n",
    "    \n",
    "    return size"
   ]
  },
  {
   "cell_type": "code",
   "execution_count": 35,
   "metadata": {},
   "outputs": [
    {
     "name": "stdout",
     "output_type": "stream",
     "text": [
      "at x = 10\n",
      "\t i = 0, j = 0 so i == j\n",
      "\t i == j, so skip the while loop\n",
      "\t x = 10, tails = [0, 0, 0, 0, 0, 0, 0, 0], size = 0, i = 0, j = 0\n",
      "\t tails[0] = 10; size = max(i + 1, size which is 0)\n",
      "\t x = 10, tails = [10, 0, 0, 0, 0, 0, 0, 0], size = 1, i = 0, j = 0\n",
      "\n",
      "at x = 19\n",
      "\t BEFORE LOOP i = 0, j = 1 so i != j\n",
      "\t AFTER LOOP i = 1, j = 1 so i != j\n",
      "\t x = 19, tails = [10, 0, 0, 0, 0, 0, 0, 0], size = 1, i = 1, j = 1\n",
      "\t tails[1] = 19; size = max(i + 1, size which is 1)\n",
      "\t x = 19, tails = [10, 19, 0, 0, 0, 0, 0, 0], size = 2, i = 1, j = 1\n",
      "\n",
      "at x = 22\n",
      "\t BEFORE LOOP i = 0, j = 2 so i != j\n",
      "\t AFTER LOOP i = 2, j = 2 so i != j\n",
      "\t x = 22, tails = [10, 19, 0, 0, 0, 0, 0, 0], size = 2, i = 2, j = 2\n",
      "\t tails[2] = 22; size = max(i + 1, size which is 2)\n",
      "\t x = 22, tails = [10, 19, 22, 0, 0, 0, 0, 0], size = 3, i = 2, j = 2\n",
      "\n",
      "at x = 5\n",
      "\t BEFORE LOOP i = 0, j = 3 so i != j\n",
      "\t AFTER LOOP i = 0, j = 0 so i != j\n",
      "\t x = 5, tails = [10, 19, 22, 0, 0, 0, 0, 0], size = 3, i = 0, j = 0\n",
      "\t tails[0] = 5; size = max(i + 1, size which is 3)\n",
      "\t x = 5, tails = [5, 19, 22, 0, 0, 0, 0, 0], size = 3, i = 0, j = 0\n",
      "\n",
      "at x = 3\n",
      "\t BEFORE LOOP i = 0, j = 3 so i != j\n",
      "\t AFTER LOOP i = 0, j = 0 so i != j\n",
      "\t x = 3, tails = [5, 19, 22, 0, 0, 0, 0, 0], size = 3, i = 0, j = 0\n",
      "\t tails[0] = 3; size = max(i + 1, size which is 3)\n",
      "\t x = 3, tails = [3, 19, 22, 0, 0, 0, 0, 0], size = 3, i = 0, j = 0\n",
      "\n",
      "at x = 7\n",
      "\t BEFORE LOOP i = 0, j = 3 so i != j\n",
      "\t AFTER LOOP i = 1, j = 1 so i != j\n",
      "\t x = 7, tails = [3, 19, 22, 0, 0, 0, 0, 0], size = 3, i = 1, j = 1\n",
      "\t tails[1] = 7; size = max(i + 1, size which is 3)\n",
      "\t x = 7, tails = [3, 7, 22, 0, 0, 0, 0, 0], size = 3, i = 1, j = 1\n",
      "\n",
      "at x = 101\n",
      "\t BEFORE LOOP i = 0, j = 3 so i != j\n",
      "\t AFTER LOOP i = 3, j = 3 so i != j\n",
      "\t x = 101, tails = [3, 7, 22, 0, 0, 0, 0, 0], size = 3, i = 3, j = 3\n",
      "\t tails[3] = 101; size = max(i + 1, size which is 3)\n",
      "\t x = 101, tails = [3, 7, 22, 101, 0, 0, 0, 0], size = 4, i = 3, j = 3\n",
      "\n",
      "at x = 18\n",
      "\t BEFORE LOOP i = 0, j = 4 so i != j\n",
      "\t AFTER LOOP i = 2, j = 2 so i != j\n",
      "\t x = 18, tails = [3, 7, 22, 101, 0, 0, 0, 0], size = 4, i = 2, j = 2\n",
      "\t tails[2] = 18; size = max(i + 1, size which is 4)\n",
      "\t x = 18, tails = [3, 7, 18, 101, 0, 0, 0, 0], size = 4, i = 2, j = 2\n",
      "\n"
     ]
    },
    {
     "data": {
      "text/plain": [
       "4"
      ]
     },
     "execution_count": 35,
     "metadata": {},
     "output_type": "execute_result"
    }
   ],
   "source": [
    "lengthOfLIS([10, 19, 22, 5, 3, 7, 101, 18])"
   ]
  },
  {
   "cell_type": "code",
   "execution_count": null,
   "metadata": {},
   "outputs": [],
   "source": []
  }
 ],
 "metadata": {
  "kernelspec": {
   "display_name": "Python 3",
   "language": "python",
   "name": "python3"
  },
  "language_info": {
   "codemirror_mode": {
    "name": "ipython",
    "version": 3
   },
   "file_extension": ".py",
   "mimetype": "text/x-python",
   "name": "python",
   "nbconvert_exporter": "python",
   "pygments_lexer": "ipython3",
   "version": "3.6.5"
  }
 },
 "nbformat": 4,
 "nbformat_minor": 2
}
