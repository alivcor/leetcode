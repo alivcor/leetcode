{
 "cells": [
  {
   "cell_type": "code",
   "execution_count": 43,
   "metadata": {},
   "outputs": [],
   "source": [
    "class Solution(object):\n",
    "    def repeatedSubstringPattern(self, s):\n",
    "        \"\"\"\n",
    "        :type s: str\n",
    "        :rtype: bool\n",
    "        \"\"\"\n",
    "        longest_ps = 0\n",
    "        pmt = [0]*len(s)\n",
    "        i = 1\n",
    "        while(i < len(s)):\n",
    "            if(s[i] == pmt[longest_ps]):\n",
    "                longest_ps += 1\n",
    "                pmt[i] = longest_ps\n",
    "                i += 1\n",
    "            else:\n",
    "                if(longest_ps == 0):\n",
    "                    pmt[i] = 0\n",
    "                    i += 1\n",
    "                else:\n",
    "                    longest_ps = pmt[longest_ps-1]\n",
    "        if(len(s)%(len(s)-longest_ps) == 0):\n",
    "            return True\n",
    "        else:\n",
    "            return False\n",
    "            \n",
    "                \n",
    "        "
   ]
  },
  {
   "cell_type": "code",
   "execution_count": 44,
   "metadata": {},
   "outputs": [
    {
     "data": {
      "text/plain": [
       "True"
      ]
     },
     "execution_count": 44,
     "metadata": {},
     "output_type": "execute_result"
    }
   ],
   "source": [
    "Solution().repeatedSubstringPattern(\"abcabcsabc\")"
   ]
  },
  {
   "cell_type": "code",
   "execution_count": 5,
   "metadata": {},
   "outputs": [],
   "source": [
    "def computePMT_2(pattern):\n",
    "    longest_ps = 0\n",
    "    pmt = [0]*len(pattern)\n",
    "    i = 1\n",
    "    while(i < len(pattern)):\n",
    "        if(pattern[i] == pmt[longest_ps]):\n",
    "            longest_ps += 1\n",
    "            pmt[i] = longest_ps\n",
    "            i += 1\n",
    "        else:\n",
    "            if(longest_ps == 0):\n",
    "                pmt[i] = 0\n",
    "                i += 1\n",
    "            else:\n",
    "                longest_ps = pmt[longest_ps-1]\n",
    "    return pmt"
   ]
  },
  {
   "cell_type": "code",
   "execution_count": 8,
   "metadata": {
    "code_folding": []
   },
   "outputs": [],
   "source": [
    "def computePMT(pattern):\n",
    "    longest_ps = 0\n",
    "    pmt = [0]*len(pattern)\n",
    "    i = 1\n",
    "    while i < len(pattern):\n",
    "        print \"i= {}\".format(i)\n",
    "        print list(pattern), \"longestps\", longest_ps\n",
    "        print pmt\n",
    "        if pattern[i]== pattern[longest_ps]: \n",
    "            print \"\\tpattern[{}] == pattern[{}] as {} = {}\".format(i, longest_ps, pattern[i], pattern[longest_ps])\n",
    "            longest_ps += 1\n",
    "            pmt[i] = longest_ps\n",
    "            i += 1\n",
    "            print \"\\t\\t increase i and longest_ps\"\n",
    "        else: \n",
    "            print \"\\tpattern[{}] != pattern[{}] as {} != {}\".format(i, longest_ps, pattern[i], pattern[longest_ps])\n",
    "            if longest_ps != 0:\n",
    "                print \"\\t\\t longest_ps = \", longest_ps\n",
    "                print \"\\t\\t longest_ps != 0 ==> set longest_ps to pmt[{}], do not increase i\".format(longest_ps-1)\n",
    "                longest_ps = pmt[longest_ps-1]\n",
    "            else: \n",
    "                pmt[i] = 0\n",
    "                i += 1\n",
    "                print \"\\t\\t longest_ps == 0 ==> set pmt[i] to zero and increment i\"\n",
    "        return pmt"
   ]
  },
  {
   "cell_type": "code",
   "execution_count": 39,
   "metadata": {
    "scrolled": false
   },
   "outputs": [
    {
     "name": "stdout",
     "output_type": "stream",
     "text": [
      "i= 1\n",
      "['a', 'a', 'b', 'a', 'a', 'b'] longestps 0\n",
      "[0, 0, 0, 0, 0, 0]\n",
      "\tpattern[1] == pattern[0] as a = a\n",
      "\t\t increase i and longest_ps\n"
     ]
    },
    {
     "data": {
      "text/plain": [
       "[0, 1, 0, 0, 0, 0]"
      ]
     },
     "execution_count": 39,
     "metadata": {},
     "output_type": "execute_result"
    }
   ],
   "source": [
    "computePMT(\"aabaab\")"
   ]
  },
  {
   "cell_type": "code",
   "execution_count": null,
   "metadata": {},
   "outputs": [],
   "source": []
  }
 ],
 "metadata": {
  "kernelspec": {
   "display_name": "Python 2",
   "language": "python",
   "name": "python2"
  },
  "language_info": {
   "codemirror_mode": {
    "name": "ipython",
    "version": 2
   },
   "file_extension": ".py",
   "mimetype": "text/x-python",
   "name": "python",
   "nbconvert_exporter": "python",
   "pygments_lexer": "ipython2",
   "version": "2.7.14"
  }
 },
 "nbformat": 4,
 "nbformat_minor": 2
}
