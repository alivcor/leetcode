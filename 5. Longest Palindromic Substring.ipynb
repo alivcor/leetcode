{
 "cells": [
  {
   "cell_type": "code",
   "execution_count": 14,
   "metadata": {},
   "outputs": [],
   "source": [
    "class Solution(object):\n",
    "    \n",
    "    def longestPalindrome(self, s):\n",
    "        \"\"\"\n",
    "        :type s: str\n",
    "        :rtype: str abac\n",
    "        \"\"\"\n",
    "        def getPal(s, l, r):\n",
    "            while(l >=0 and r<len(s) and s[l] == s[r]):\n",
    "                l-=1; r+=1\n",
    "            return s[l+1:r] #we would have done r-1 also but python does that automcatically !\n",
    "            \n",
    "        longest_palindrome = \"\"\n",
    "        for i in range(len(s)):\n",
    "            this_palindrome = getPal(s, i, i)\n",
    "            if(len(this_palindrome) > len(longest_palindrome)):\n",
    "                longest_palindrome = this_palindrome\n",
    "            elif(len(this_palindrome) > len(longest_palindrome)):\n",
    "            \n",
    "            this_palindrome = getPal(s, i, i+1)\n",
    "            if(len(this_palindrome) > len(longest_palindrome)):\n",
    "                longest_palindrome = this_palindrome\n",
    "            \n",
    "            \n",
    "        return longest_palindrome  \n",
    "            \n",
    "        \n",
    "        "
   ]
  },
  {
   "cell_type": "code",
   "execution_count": 15,
   "metadata": {},
   "outputs": [
    {
     "data": {
      "text/plain": [
       "{'aba', 'b', 'bab'}"
      ]
     },
     "execution_count": 15,
     "metadata": {},
     "output_type": "execute_result"
    }
   ],
   "source": [
    "Solution().longestPalindrome(\"babadq\")"
   ]
  },
  {
   "cell_type": "code",
   "execution_count": null,
   "metadata": {},
   "outputs": [],
   "source": []
  }
 ],
 "metadata": {
  "kernelspec": {
   "display_name": "Python 3",
   "language": "python",
   "name": "python3"
  },
  "language_info": {
   "codemirror_mode": {
    "name": "ipython",
    "version": 3
   },
   "file_extension": ".py",
   "mimetype": "text/x-python",
   "name": "python",
   "nbconvert_exporter": "python",
   "pygments_lexer": "ipython3",
   "version": "3.6.5"
  }
 },
 "nbformat": 4,
 "nbformat_minor": 2
}
