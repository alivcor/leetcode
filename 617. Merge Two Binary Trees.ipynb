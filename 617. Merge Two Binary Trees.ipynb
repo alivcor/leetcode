{
 "cells": [
  {
   "cell_type": "code",
   "execution_count": 6,
   "metadata": {},
   "outputs": [],
   "source": [
    "# Definition for a binary tree node.\n",
    "class TreeNode(object):\n",
    "    def __init__(self, x):\n",
    "        self.val = x\n",
    "        self.left = None\n",
    "        self.right = None\n",
    "\n",
    "class Solution(object):\n",
    "    def mergeTrees(self, t1, t2):\n",
    "        \"\"\"\n",
    "        :type t1: TreeNode\n",
    "        :type t2: TreeNode\n",
    "        :rtype: TreeNode\n",
    "        \"\"\"\n",
    "        if(t1 == None):\n",
    "            return t2\n",
    "        elif(t2 == None):\n",
    "            return t1\n",
    "        t1.val += t2.val\n",
    "        t1.left = self.mergeTrees(t1.left, t2.left)\n",
    "        t1.right = self.mergeTrees(t1.right, t2.right)\n",
    "        return t1\n",
    "        "
   ]
  },
  {
   "cell_type": "code",
   "execution_count": 7,
   "metadata": {},
   "outputs": [
    {
     "name": "stdout",
     "output_type": "stream",
     "text": [
      "<__main__.TreeNode object at 0x106febe10>\n",
      "<__main__.TreeNode object at 0x106febe10>\n"
     ]
    }
   ],
   "source": [
    "t1 = TreeNode(1)\n",
    "t1.left = TreeNode(3)\n",
    "t1.right = TreeNode(2)\n",
    "t1.left.left = TreeNode(5)\n",
    "\n",
    "t2 = TreeNode(2)\n",
    "t1.left = TreeNode(1)\n",
    "t1.right = TreeNode(3)\n",
    "t1.left.right = TreeNode(4)\n",
    "t1.right.right = TreeNode(7)\n",
    "\n",
    "print t1\n",
    "print Solution().mergeTrees(t1, t2)"
   ]
  },
  {
   "cell_type": "code",
   "execution_count": null,
   "metadata": {},
   "outputs": [],
   "source": []
  }
 ],
 "metadata": {
  "kernelspec": {
   "display_name": "Python 2",
   "language": "python",
   "name": "python2"
  },
  "language_info": {
   "codemirror_mode": {
    "name": "ipython",
    "version": 2
   },
   "file_extension": ".py",
   "mimetype": "text/x-python",
   "name": "python",
   "nbconvert_exporter": "python",
   "pygments_lexer": "ipython2",
   "version": "2.7.14"
  }
 },
 "nbformat": 4,
 "nbformat_minor": 2
}
