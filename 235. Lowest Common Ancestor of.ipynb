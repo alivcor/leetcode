{
 "cells": [
  {
   "cell_type": "code",
   "execution_count": 1,
   "metadata": {},
   "outputs": [],
   "source": [
    "# Definition for a binary tree node.\n",
    "class TreeNode(object):\n",
    "    def __init__(self, x):\n",
    "        self.val = x\n",
    "        self.left = None\n",
    "        self.right = None\n",
    "        \n",
    "class Solution:\n",
    "    def lca(self, root, p, q):\n",
    "        if root == None:\n",
    "            return root\n",
    "        if(p < root.val and q < root.val):\n",
    "            return self.lca(root.left, p, q)\n",
    "        elif(p > root.val and q > root.val):\n",
    "            return self.lca(root.right, p, q)\n",
    "        else:\n",
    "            return root\n",
    "        \n",
    "    def lowestCommonAncestor(self, root, p, q):\n",
    "        \"\"\"\n",
    "        :type root: TreeNode\n",
    "        :type p: TreeNode\n",
    "        :type q: TreeNode\n",
    "        :rtype: TreeNode\n",
    "        \"\"\"\n",
    "        if root == None:\n",
    "            return None\n",
    "        return self.lca(root, p.val, q.val)"
   ]
  },
  {
   "cell_type": "code",
   "execution_count": 5,
   "metadata": {},
   "outputs": [
    {
     "name": "stdout",
     "output_type": "stream",
     "text": [
      "<__main__.TreeNode instance at 0x10c9a1320>\n",
      "6\n"
     ]
    }
   ],
   "source": [
    "# root = [6,2,8,0,4,7,9,Non,null,3,5]\n",
    "t1 = TreeNode(6)\n",
    "t1.left = TreeNode(2)\n",
    "t1.right = TreeNode(8)\n",
    "t1.left.left = TreeNode(0)\n",
    "t1.left.right = TreeNode(4)\n",
    "t1.right.left = TreeNode(7)\n",
    "t1.right.right = TreeNode(9)\n",
    "t1.left.right.left = TreeNode(3)\n",
    "t1.left.right.right = TreeNode(5)\n",
    "\n",
    "print(t1)\n",
    "p = 2\n",
    "q = 8\n",
    "s= Solution()\n",
    "lca = s.lowestCommonAncestor(t1, p, q)\n",
    "print(lca.val)"
   ]
  },
  {
   "cell_type": "code",
   "execution_count": null,
   "metadata": {},
   "outputs": [],
   "source": []
  },
  {
   "cell_type": "code",
   "execution_count": null,
   "metadata": {},
   "outputs": [],
   "source": []
  }
 ],
 "metadata": {
  "kernelspec": {
   "display_name": "Python 3",
   "language": "python",
   "name": "python3"
  },
  "language_info": {
   "codemirror_mode": {
    "name": "ipython",
    "version": 3
   },
   "file_extension": ".py",
   "mimetype": "text/x-python",
   "name": "python",
   "nbconvert_exporter": "python",
   "pygments_lexer": "ipython3",
   "version": "3.6.5"
  }
 },
 "nbformat": 4,
 "nbformat_minor": 2
}
