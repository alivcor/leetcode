{
 "cells": [
  {
   "cell_type": "code",
   "execution_count": 42,
   "metadata": {},
   "outputs": [],
   "source": [
    "class Solution(object):\n",
    "    def setZeroes(self, matrix):\n",
    "        \"\"\"\n",
    "        :type matrix: List[List[int]]\n",
    "        :rtype: void Do not return anything, modify matrix in-place instead.\n",
    "        \"\"\"\n",
    "        for i in matrix:\n",
    "            print (i)\n",
    "        print(\"\\n\")\n",
    "        \n",
    "        isFCZero = False\n",
    "        \n",
    "        for i in range(len(matrix)):\n",
    "            if matrix[i][0] == 0:\n",
    "#                     print(\"Setting isFCZero = True because matrix[{}][0] == 0\".format(i))\n",
    "                isFCZero = True\n",
    "            for j in range(1,len(matrix[0])):\n",
    "#                 print(i,j)\n",
    "                if matrix[i][j] == 0:\n",
    "                    matrix[i][0] = 0\n",
    "                    matrix[0][j] = 0\n",
    "                    \n",
    "        for i in matrix:\n",
    "            print (i)\n",
    "        print(\"\\n\")\n",
    "        \n",
    "        for i in range(1,len(matrix)):\n",
    "            for j in range(1,len(matrix[0])):\n",
    "                if matrix[i][0] == 0 or matrix[0][j] == 0:\n",
    "                    matrix[i][j] = 0\n",
    "        \n",
    "\n",
    "        for i in matrix:\n",
    "            print (i)\n",
    "        \n",
    "        if matrix[0][0] == 0:\n",
    "            for i in range(len(matrix[0])):\n",
    "                matrix[0][i] = 0\n",
    "                \n",
    "        print(\"\\n\")\n",
    "        if isFCZero:\n",
    "            for i in range(len(matrix)):\n",
    "                matrix[i][0] = 0\n",
    "                \n",
    "\n",
    "\n",
    "        for i in matrix:\n",
    "            print (i)\n",
    "            "
   ]
  },
  {
   "cell_type": "code",
   "execution_count": 43,
   "metadata": {},
   "outputs": [
    {
     "name": "stdout",
     "output_type": "stream",
     "text": [
      "[1, 0, 2, 10]\n",
      "[3, 1, 5, 2]\n",
      "[1, 3, 1, 5]\n",
      "\n",
      "\n",
      "[0, 0, 2, 10]\n",
      "[3, 1, 5, 2]\n",
      "[1, 3, 1, 5]\n",
      "\n",
      "\n",
      "[0, 0, 2, 10]\n",
      "[3, 0, 5, 2]\n",
      "[1, 0, 1, 5]\n",
      "\n",
      "\n",
      "[0, 0, 0, 0]\n",
      "[3, 0, 5, 2]\n",
      "[1, 0, 1, 5]\n"
     ]
    }
   ],
   "source": [
    "Solution().setZeroes([[1,0,2,10],[3,1,5,2],[1,3,1,5]])"
   ]
  },
  {
   "cell_type": "code",
   "execution_count": null,
   "metadata": {},
   "outputs": [],
   "source": []
  }
 ],
 "metadata": {
  "kernelspec": {
   "display_name": "Python 3",
   "language": "python",
   "name": "python3"
  },
  "language_info": {
   "codemirror_mode": {
    "name": "ipython",
    "version": 3
   },
   "file_extension": ".py",
   "mimetype": "text/x-python",
   "name": "python",
   "nbconvert_exporter": "python",
   "pygments_lexer": "ipython3",
   "version": "3.6.5"
  }
 },
 "nbformat": 4,
 "nbformat_minor": 2
}
