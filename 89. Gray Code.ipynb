{
 "cells": [
  {
   "cell_type": "code",
   "execution_count": 33,
   "metadata": {},
   "outputs": [],
   "source": [
    "class Solution(object):\n",
    "    def grayCodeDoesntWork(self, n):\n",
    "        \"\"\"\n",
    "        :type n: int\n",
    "        :rtype: List[int]\n",
    "        \"\"\"\n",
    "        codes = {}\n",
    "        maxLen = 0\n",
    "        for i in range(1<<n):\n",
    "            code = bin(i)[2:]\n",
    "            maxLen = max(maxLen, len(code))\n",
    "            codes[i] = code\n",
    "            \n",
    "        for code in codes:\n",
    "            if(len(codes[code]) < maxLen):\n",
    "                padded_zeros = \"0\"*(maxLen-len(codes[code]))\n",
    "                codes[code] = padded_zeros + codes[code]\n",
    "        \n",
    "    def grayCode(self, n):\n",
    "        ans = []\n",
    "        for i in range(1<<n):\n",
    "            ans.append(i^(i>>1))\n",
    "        return ans"
   ]
  },
  {
   "cell_type": "code",
   "execution_count": 34,
   "metadata": {},
   "outputs": [
    {
     "data": {
      "text/plain": [
       "[0,\n",
       " 1,\n",
       " 3,\n",
       " 2,\n",
       " 6,\n",
       " 7,\n",
       " 5,\n",
       " 4,\n",
       " 12,\n",
       " 13,\n",
       " 15,\n",
       " 14,\n",
       " 10,\n",
       " 11,\n",
       " 9,\n",
       " 8,\n",
       " 24,\n",
       " 25,\n",
       " 27,\n",
       " 26,\n",
       " 30,\n",
       " 31,\n",
       " 29,\n",
       " 28,\n",
       " 20,\n",
       " 21,\n",
       " 23,\n",
       " 22,\n",
       " 18,\n",
       " 19,\n",
       " 17,\n",
       " 16]"
      ]
     },
     "execution_count": 34,
     "metadata": {},
     "output_type": "execute_result"
    }
   ],
   "source": [
    "Solution().grayCode(5)"
   ]
  },
  {
   "cell_type": "code",
   "execution_count": 32,
   "metadata": {},
   "outputs": [
    {
     "name": "stdout",
     "output_type": "stream",
     "text": [
      "1 OR 0  ==>  1\n",
      "10 OR 1  ==>  11\n",
      "10 OR 0  ==>  10\n",
      "100 OR 10  ==>  110\n",
      "100 OR 11  ==>  111\n",
      "100 OR 1  ==>  101\n",
      "100 OR 0  ==>  100\n",
      "1000 OR 100  ==>  1100\n",
      "1000 OR 101  ==>  1101\n",
      "1000 OR 111  ==>  1111\n",
      "1000 OR 110  ==>  1110\n",
      "1000 OR 10  ==>  1010\n",
      "1000 OR 11  ==>  1011\n",
      "1000 OR 1  ==>  1001\n",
      "1000 OR 0  ==>  1000\n",
      "10000 OR 1000  ==>  11000\n",
      "10000 OR 1001  ==>  11001\n",
      "10000 OR 1011  ==>  11011\n",
      "10000 OR 1010  ==>  11010\n",
      "10000 OR 1110  ==>  11110\n",
      "10000 OR 1111  ==>  11111\n",
      "10000 OR 1101  ==>  11101\n",
      "10000 OR 1100  ==>  11100\n",
      "10000 OR 100  ==>  10100\n",
      "10000 OR 101  ==>  10101\n",
      "10000 OR 111  ==>  10111\n",
      "10000 OR 110  ==>  10110\n",
      "10000 OR 10  ==>  10010\n",
      "10000 OR 11  ==>  10011\n",
      "10000 OR 1  ==>  10001\n",
      "10000 OR 0  ==>  10000\n"
     ]
    }
   ],
   "source": [
    "    n= 5\n",
    "    ans = [0]\n",
    "    for i in range(n):\n",
    "        for j in range(len(ans) - 1, -1, -1):\n",
    "            print(bin(1 << i )[2:], \"OR\", bin(ans[j])[2:], \" ==> \", bin(1 << i | ans[j])[2:])\n",
    "            ans.append(1 << i | ans[j])\n",
    "#     return ans"
   ]
  },
  {
   "cell_type": "code",
   "execution_count": null,
   "metadata": {},
   "outputs": [],
   "source": []
  }
 ],
 "metadata": {
  "kernelspec": {
   "display_name": "Python 3",
   "language": "python",
   "name": "python3"
  },
  "language_info": {
   "codemirror_mode": {
    "name": "ipython",
    "version": 3
   },
   "file_extension": ".py",
   "mimetype": "text/x-python",
   "name": "python",
   "nbconvert_exporter": "python",
   "pygments_lexer": "ipython3",
   "version": "3.6.5"
  }
 },
 "nbformat": 4,
 "nbformat_minor": 2
}
