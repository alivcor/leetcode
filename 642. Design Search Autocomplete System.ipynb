{
 "cells": [
  {
   "cell_type": "code",
   "execution_count": 8,
   "metadata": {},
   "outputs": [],
   "source": [
    "class TrieNode:\n",
    "    def __init__(self):\n",
    "        self.children = dict()\n",
    "        self.word = None\n",
    "        self.rank = 0\n",
    "    \n",
    "    def __repr__(self):\n",
    "        return \"<{}>, {}, {}\".format(self.children, self.word, self.rank)\n",
    "        \n",
    "class AutocompleteSystem:\n",
    "    def __init__(self, sentences, times):\n",
    "        \"\"\"\n",
    "        :type sentences: List[str]\n",
    "        :type times: List[int]\n",
    "        \"\"\"\n",
    "        self.root = TrieNode()\n",
    "        self.keyword = \"\"\n",
    "        for s, t in zip(sentences, times):\n",
    "            self._add_sentence(s, t)\n",
    "    \n",
    "    def _print(self):\n",
    "        node = self.root\n",
    "        while(node):\n",
    "            print(node)\n",
    "            if node.children:\n",
    "                children = list(node.children.keys())\n",
    "                for child in children:\n",
    "                    print(\"\\t {}\".format(child))\n",
    "            break\n",
    "        \n",
    "    def _add_sentence(self, sentence, rank):\n",
    "        node = self.root\n",
    "        for c in sentence:\n",
    "            if c not in node.children:\n",
    "                node.children[c] = TrieNode()\n",
    "            node = node.children[c]\n",
    "        node.word = sentence\n",
    "        node.rank = -1* rank\n",
    "    \n",
    "    def _dfs(self, node):\n",
    "        res = []\n",
    "        if node:\n",
    "            if node.word:\n",
    "                res.append((node.rank, node.word))\n",
    "            for child in node.children.keys():\n",
    "                res += self._dfs(node.children[child])\n",
    "        return res\n",
    "        \n",
    "        \n",
    "        \n",
    "    def _search(self, sentence):\n",
    "        node = self.root\n",
    "        for c in sentence:\n",
    "            if c not in node.children:\n",
    "                return []\n",
    "            node = node.children[c]\n",
    "        return self._dfs(node)\n",
    "    \n",
    "    \n",
    "    def input(self, c):\n",
    "        \"\"\"\n",
    "        :type c: str\n",
    "        :rtype: List[str]\n",
    "        \"\"\"\n",
    "        res = []\n",
    "        if c == '#':\n",
    "            self._add_sentence(self.keyword, 1)\n",
    "            self.keyword = ''\n",
    "        else:\n",
    "            self.keyword += c\n",
    "            res = self._search(self.keyword)\n",
    "        return [item[1] for item in sorted(res)[:3]]"
   ]
  },
  {
   "cell_type": "code",
   "execution_count": 9,
   "metadata": {
    "scrolled": false
   },
   "outputs": [
    {
     "name": "stdout",
     "output_type": "stream",
     "text": [
      "<{'i': <{' ': <{'l': <{'o': <{'v': <{'e': <{' ': <{'l': <{'e': <{'e': <{'t': <{'c': <{'o': <{'d': <{'e': <{}>, i love leetcode, -100}>, None, 0}>, None, 0}>, None, 0}>, None, 0}>, None, 0}>, None, 0}>, None, 0, 'U': <{'S': <{'A': <{}>, i love USA, -105}>, None, 0}>, None, 0, 'x': <{'y': <{'z': <{}>, i love xyz, -28}>, None, 0}>, None, 0}>, None, 0}>, None, 0}>, None, 0}>, None, 0, 'i': <{'k': <{'e': <{' ': <{'t': <{'o': <{' ': <{'s': <{'w': <{'i': <{'m': <{}>, i like to swim, -38}>, None, 0}>, None, 0}>, None, 0}>, None, 0}>, None, 0}>, None, 0}>, None, 0}>, None, 0}>, None, 0}>, None, 0}>, None, 0}>, None, 0, 'k': <{'e': <{'a': <{}>, ikea, -101}>, None, 0}>, None, 0, 'p': <{'a': <{'d': <{}>, ipad, -47}>, None, 0}>, None, 0}>, None, 0}>, None, 0\n",
      "\t i\n"
     ]
    },
    {
     "data": {
      "text/plain": [
       "['i love USA', 'ikea', 'i love leetcode']"
      ]
     },
     "execution_count": 9,
     "metadata": {},
     "output_type": "execute_result"
    }
   ],
   "source": [
    "acs = AutocompleteSystem([\"i love leetcode\", \"i love USA\", \"i love xyz\", \"ikea\", \"ipad\", \"i like to swim\"], [100, 105, 28, 101, 47, 38])\n",
    "acs._print()\n",
    "# acs.input(\"i\")\n",
    "# acs.input(\"i \")\n",
    "acs.input(\"i\")"
   ]
  },
  {
   "cell_type": "code",
   "execution_count": 7,
   "metadata": {},
   "outputs": [
    {
     "data": {
      "text/plain": [
       "[]"
      ]
     },
     "execution_count": 7,
     "metadata": {},
     "output_type": "execute_result"
    }
   ],
   "source": [
    "# acs.input(\"i \")\n",
    "acs.input(\"i \")"
   ]
  },
  {
   "cell_type": "code",
   "execution_count": 14,
   "metadata": {},
   "outputs": [],
   "source": []
  },
  {
   "cell_type": "code",
   "execution_count": 23,
   "metadata": {},
   "outputs": [
    {
     "data": {
      "text/plain": [
       "11"
      ]
     },
     "execution_count": 23,
     "metadata": {},
     "output_type": "execute_result"
    }
   ],
   "source": [
    "N, obt = 25, 39\n",
    "since = obt-N\n",
    "N = N % since\n",
    "N"
   ]
  },
  {
   "cell_type": "code",
   "execution_count": 24,
   "metadata": {},
   "outputs": [
    {
     "data": {
      "text/plain": [
       "11"
      ]
     },
     "execution_count": 24,
     "metadata": {},
     "output_type": "execute_result"
    }
   ],
   "source": [
    "N, obt = 25, 39\n",
    "N = N % (obt-N)\n",
    "N"
   ]
  },
  {
   "cell_type": "code",
   "execution_count": 22,
   "metadata": {},
   "outputs": [
    {
     "data": {
      "text/plain": [
       "14"
      ]
     },
     "execution_count": 22,
     "metadata": {},
     "output_type": "execute_result"
    }
   ],
   "source": [
    "39-25"
   ]
  },
  {
   "cell_type": "code",
   "execution_count": 25,
   "metadata": {},
   "outputs": [
    {
     "data": {
      "text/plain": [
       "11"
      ]
     },
     "execution_count": 25,
     "metadata": {},
     "output_type": "execute_result"
    }
   ],
   "source": [
    "25 %14"
   ]
  },
  {
   "cell_type": "code",
   "execution_count": null,
   "metadata": {},
   "outputs": [],
   "source": []
  }
 ],
 "metadata": {
  "kernelspec": {
   "display_name": "Python 3",
   "language": "python",
   "name": "python3"
  },
  "language_info": {
   "codemirror_mode": {
    "name": "ipython",
    "version": 3
   },
   "file_extension": ".py",
   "mimetype": "text/x-python",
   "name": "python",
   "nbconvert_exporter": "python",
   "pygments_lexer": "ipython3",
   "version": "3.6.5"
  }
 },
 "nbformat": 4,
 "nbformat_minor": 2
}
