{
 "cells": [
  {
   "cell_type": "code",
   "execution_count": 15,
   "metadata": {},
   "outputs": [],
   "source": [
    "class Solution(object):\n",
    "    def getRow(self, rowIndex):\n",
    "        \"\"\"\n",
    "        :type rowIndex: int\n",
    "        :rtype: List[int]\n",
    "        \"\"\"\n",
    "        result = []\n",
    "        for i in range(1,rowIndex+2):\n",
    "            print \"Iteration i =\", i\n",
    "            print \"\\tBefore >>\", result\n",
    "            print \"\\tAppending 1\"\n",
    "            result.append(1)\n",
    "            print \"\\tAfter >> \", result\n",
    "            for j in range(i-2,0,-1):\n",
    "                print(\"\\t\\t Setting result[{}] to result[{}] + result[{}] = {} + {}\".format(j, j, j-1, result[j], result[j-1]))\n",
    "                result[j] += result[j-1]\n",
    "            print (\"------------------------------\")\n",
    "        return result"
   ]
  },
  {
   "cell_type": "code",
   "execution_count": 16,
   "metadata": {},
   "outputs": [
    {
     "data": {
      "text/plain": [
       "[1, 5, 10, 10, 5, 1]"
      ]
     },
     "execution_count": 16,
     "metadata": {},
     "output_type": "execute_result"
    }
   ],
   "source": [
    "Solution().getRow(5)"
   ]
  },
  {
   "cell_type": "code",
   "execution_count": null,
   "metadata": {},
   "outputs": [],
   "source": []
  },
  {
   "cell_type": "code",
   "execution_count": 27,
   "metadata": {},
   "outputs": [],
   "source": [
    "class Solution:\n",
    "    def maxProfit(self, prices):\n",
    "        \"\"\"\n",
    "        :type prices: List[int]\n",
    "        :rtype: int\n",
    "        \"\"\"\n",
    "        minPrice = float(\"inf\")\n",
    "        maxPft = 0\n",
    "        for price in prices:\n",
    "            if(price - minPrice > maxPft):\n",
    "                maxPft = price - minPrice\n",
    "            if price < minPrice:\n",
    "                minPrice = price\n",
    "        return maxPft\n",
    "                \n",
    "        "
   ]
  },
  {
   "cell_type": "code",
   "execution_count": 28,
   "metadata": {},
   "outputs": [
    {
     "name": "stdout",
     "output_type": "stream",
     "text": [
      "0\n"
     ]
    }
   ],
   "source": [
    "s = Solution()\n",
    "print(s.maxProfit([7,6,4,3,1]))"
   ]
  },
  {
   "cell_type": "code",
   "execution_count": null,
   "metadata": {},
   "outputs": [],
   "source": []
  },
  {
   "cell_type": "code",
   "execution_count": 56,
   "metadata": {},
   "outputs": [],
   "source": [
    "class Solution(object):\n",
    "    def findLadders(self, beginWord, endWord, wordList):\n",
    "        \"\"\"\n",
    "        :type beginWord: str\n",
    "        :type endWord: str\n",
    "        :type wordList: List[str]\n",
    "        :rtype: List[List[str]]\n",
    "        \"\"\"\n",
    "        import collections\n",
    "        wordList = set(wordList)\n",
    "        res = []\n",
    "        layer = {}\n",
    "        layer[beginWord] = [[beginWord]]\n",
    "    \n",
    "        while layer:\n",
    "            print(\"layer = {}\".format(layer))\n",
    "            newlayer = collections.defaultdict(list)\n",
    "            for w in layer:\n",
    "                print(\"\\t For w = {} :\".format(w))\n",
    "                if w == endWord: \n",
    "                    print(\"\\t\\t this is it ! extending res\")\n",
    "                    res.extend(k for k in layer[w])\n",
    "                else:\n",
    "                    print(\"\\t\\t this isn't it, checking possible_nextwords\")\n",
    "                    for i in range(len(w)):\n",
    "                        for c in 'abcdefghijklmnopqrstuvwxyz':\n",
    "                            possible_nextWord = w[:i]+c+w[i+1:]\n",
    "                            if possible_nextWord in wordList:\n",
    "                                temp = [j+[possible_nextWord] for j in layer[w]]\n",
    "                                print(\"\\t\\t\\t I could do {} - adding temp to newlayer dict : {}\".format(possible_nextWord, temp))\n",
    "                                newlayer[possible_nextWord]+=temp\n",
    "                                print(\"\\t\\t\\t newlayer = {}\".format(newlayer))\n",
    "            print(\"removing set(newlayer.keys()) = {} from wordList\".format(set(newlayer.keys())))\n",
    "            wordList -= set(newlayer.keys())\n",
    "            print(\"newlayer becomes the layer\")\n",
    "            layer = newlayer\n",
    "            print(\"\\n\")\n",
    "        print(\"\\n\\n----------\\n Got res = {}\".format(res))\n",
    "        return res\n",
    "                    \n",
    "        \n",
    "class Solution2(object):\n",
    "    def findLadders(self, beginWord, endWord, wordList):\n",
    "        \"\"\"\n",
    "        :type beginWord: str\n",
    "        :type endWord: str\n",
    "        :type wordList: List[str]\n",
    "        :rtype: List[List[str]]\n",
    "        \"\"\"\n",
    "        import collections\n",
    "        if endWord not in wordList:\n",
    "            return 0\n",
    "        d = collections.defaultdict(list)\n",
    "        wordList = set(wordList)\n",
    "        for word in wordList:\n",
    "            for blank in range(len(word)):\n",
    "                filler = word[:blank] + \"_\" + word[blank+1:]\n",
    "                d[filler].append(word)\n",
    "                \n",
    "        print(wordList, d)\n",
    "        import collections\n",
    "        curr_layer = dict()\n",
    "        curr_layer[beginWord] = [[beginWord]]\n",
    "        res = []\n",
    "        removed = set()\n",
    "        \n",
    "        print()\n",
    "        while curr_layer:\n",
    "            print(curr_layer)\n",
    "            new_layer = collections.defaultdict(list)\n",
    "            for word in curr_layer:\n",
    "                if word == endWord:\n",
    "                    res.extend(k for k in curr_layer[word])\n",
    "                else:\n",
    "                    for i in range(len(word)):\n",
    "                        template  = word[:i] + \"_\" + word[i+1:]\n",
    "                        neighbours = d[template]\n",
    "                        # construct a path for each neighbour in new_layer\n",
    "                        for neigh in neighbours:\n",
    "                            if neigh not in removed:\n",
    "                                new_layer[neigh] += [j+[neigh] for j in curr_layer[word]]\n",
    "            removed.update(set(new_layer.keys()))\n",
    "            print(removed)\n",
    "            curr_layer = new_layer\n",
    "        return res\n",
    "                \n",
    "            "
   ]
  },
  {
   "cell_type": "code",
   "execution_count": 57,
   "metadata": {},
   "outputs": [
    {
     "name": "stdout",
     "output_type": "stream",
     "text": [
      "layer = {'hit': [['hit']]}\n",
      "\t For w = hit :\n",
      "\t\t this isn't it, checking possible_nextwords\n",
      "\t\t\t I could do hot - adding temp to newlayer dict : [['hit', 'hot']]\n",
      "\t\t\t newlayer = defaultdict(<class 'list'>, {'hot': [['hit', 'hot']]})\n",
      "removing set(newlayer.keys()) = {'hot'} from wordList\n",
      "newlayer becomes the layer\n",
      "\n",
      "\n",
      "layer = defaultdict(<class 'list'>, {'hot': [['hit', 'hot']]})\n",
      "\t For w = hot :\n",
      "\t\t this isn't it, checking possible_nextwords\n",
      "\t\t\t I could do dot - adding temp to newlayer dict : [['hit', 'hot', 'dot']]\n",
      "\t\t\t newlayer = defaultdict(<class 'list'>, {'dot': [['hit', 'hot', 'dot']]})\n",
      "\t\t\t I could do lot - adding temp to newlayer dict : [['hit', 'hot', 'lot']]\n",
      "\t\t\t newlayer = defaultdict(<class 'list'>, {'dot': [['hit', 'hot', 'dot']], 'lot': [['hit', 'hot', 'lot']]})\n",
      "removing set(newlayer.keys()) = {'lot', 'dot'} from wordList\n",
      "newlayer becomes the layer\n",
      "\n",
      "\n",
      "layer = defaultdict(<class 'list'>, {'dot': [['hit', 'hot', 'dot']], 'lot': [['hit', 'hot', 'lot']]})\n",
      "\t For w = dot :\n",
      "\t\t this isn't it, checking possible_nextwords\n",
      "\t\t\t I could do dog - adding temp to newlayer dict : [['hit', 'hot', 'dot', 'dog']]\n",
      "\t\t\t newlayer = defaultdict(<class 'list'>, {'dog': [['hit', 'hot', 'dot', 'dog']]})\n",
      "\t For w = lot :\n",
      "\t\t this isn't it, checking possible_nextwords\n",
      "\t\t\t I could do log - adding temp to newlayer dict : [['hit', 'hot', 'lot', 'log']]\n",
      "\t\t\t newlayer = defaultdict(<class 'list'>, {'dog': [['hit', 'hot', 'dot', 'dog']], 'log': [['hit', 'hot', 'lot', 'log']]})\n",
      "removing set(newlayer.keys()) = {'log', 'dog'} from wordList\n",
      "newlayer becomes the layer\n",
      "\n",
      "\n",
      "layer = defaultdict(<class 'list'>, {'dog': [['hit', 'hot', 'dot', 'dog']], 'log': [['hit', 'hot', 'lot', 'log']]})\n",
      "\t For w = dog :\n",
      "\t\t this isn't it, checking possible_nextwords\n",
      "\t\t\t I could do cog - adding temp to newlayer dict : [['hit', 'hot', 'dot', 'dog', 'cog']]\n",
      "\t\t\t newlayer = defaultdict(<class 'list'>, {'cog': [['hit', 'hot', 'dot', 'dog', 'cog']]})\n",
      "\t For w = log :\n",
      "\t\t this isn't it, checking possible_nextwords\n",
      "\t\t\t I could do cog - adding temp to newlayer dict : [['hit', 'hot', 'lot', 'log', 'cog']]\n",
      "\t\t\t newlayer = defaultdict(<class 'list'>, {'cog': [['hit', 'hot', 'dot', 'dog', 'cog'], ['hit', 'hot', 'lot', 'log', 'cog']]})\n",
      "removing set(newlayer.keys()) = {'cog'} from wordList\n",
      "newlayer becomes the layer\n",
      "\n",
      "\n",
      "layer = defaultdict(<class 'list'>, {'cog': [['hit', 'hot', 'dot', 'dog', 'cog'], ['hit', 'hot', 'lot', 'log', 'cog']]})\n",
      "\t For w = cog :\n",
      "\t\t this is it ! extending res\n",
      "removing set(newlayer.keys()) = set() from wordList\n",
      "newlayer becomes the layer\n",
      "\n",
      "\n",
      "\n",
      "\n",
      "----------\n",
      " Got res = [['hit', 'hot', 'dot', 'dog', 'cog'], ['hit', 'hot', 'lot', 'log', 'cog']]\n",
      "{'log', 'cog', 'dog', 'dot', 'lot', 'hot'} defaultdict(<class 'list'>, {'_og': ['log', 'cog', 'dog'], 'l_g': ['log'], 'lo_': ['log', 'lot'], 'c_g': ['cog'], 'co_': ['cog'], 'd_g': ['dog'], 'do_': ['dog', 'dot'], '_ot': ['dot', 'lot', 'hot'], 'd_t': ['dot'], 'l_t': ['lot'], 'h_t': ['hot'], 'ho_': ['hot']})\n",
      "\n",
      "{'hit': [['hit']]}\n",
      "{'hot'}\n",
      "defaultdict(<class 'list'>, {'hot': [['hit', 'hot']]})\n",
      "{'dot', 'lot', 'hot'}\n",
      "defaultdict(<class 'list'>, {'dot': [['hit', 'hot', 'dot']], 'lot': [['hit', 'hot', 'lot']]})\n",
      "{'log', 'lot', 'hot', 'dog', 'dot'}\n",
      "defaultdict(<class 'list'>, {'dog': [['hit', 'hot', 'dot', 'dog']], 'log': [['hit', 'hot', 'lot', 'log']]})\n",
      "{'log', 'lot', 'hot', 'cog', 'dog', 'dot'}\n",
      "defaultdict(<class 'list'>, {'cog': [['hit', 'hot', 'dot', 'dog', 'cog'], ['hit', 'hot', 'lot', 'log', 'cog']]})\n",
      "{'log', 'lot', 'hot', 'cog', 'dog', 'dot'}\n"
     ]
    },
    {
     "data": {
      "text/plain": [
       "[['hit', 'hot', 'dot', 'dog', 'cog'], ['hit', 'hot', 'lot', 'log', 'cog']]"
      ]
     },
     "execution_count": 57,
     "metadata": {},
     "output_type": "execute_result"
    }
   ],
   "source": [
    "Solution().findLadders(\"hit\", \"cog\", [\"hot\",\"dot\",\"dog\",\"lot\",\"log\",\"cog\"])\n",
    "Solution2().findLadders(\"hit\", \"cog\", [\"hot\",\"dot\",\"dog\",\"lot\",\"log\",\"cog\"])"
   ]
  },
  {
   "cell_type": "code",
   "execution_count": null,
   "metadata": {},
   "outputs": [],
   "source": []
  },
  {
   "cell_type": "code",
   "execution_count": null,
   "metadata": {},
   "outputs": [],
   "source": []
  },
  {
   "cell_type": "code",
   "execution_count": 76,
   "metadata": {},
   "outputs": [],
   "source": [
    "class Solution(object):\n",
    "    def editDistance(self, word1, word2):\n",
    "        diff = 0\n",
    "        for c1, c2 in zip(word1, word2):\n",
    "            if c1!=c2:\n",
    "                diff+=1\n",
    "        return diff\n",
    "        \n",
    "    def ladderLength(self, beginWord, endWord, wordList):\n",
    "        \"\"\"\n",
    "        :type beginWord: str\n",
    "        :type endWord: str\n",
    "        :type wordList: List[str]\n",
    "        :rtype: int\n",
    "        \"\"\"\n",
    "        def getNextWord(curr_word, endWord, wordList):\n",
    "            smallest_dist_val = float(\"inf\")\n",
    "            smallest_dist_arg = 0\n",
    "            for word in wordList:\n",
    "                if self.editDistance(curr_word, word) == 1 and self.editDistance(word, endWord) < smallest_dist_val:\n",
    "                    print(\"Picking \" + word + \" as editDistance({}, {}) == 1 and editDistance({}, {}) < {}\".format(curr_word, word, word, endWord, smallest_dist_val, word))\n",
    "                    smallest_dist_val = self.editDistance(word, endWord)\n",
    "                    smallest_dist_arg = word\n",
    "            return smallest_dist_arg if(smallest_dist_arg) else curr_word\n",
    "        \n",
    "        ladder_length = 1\n",
    "        curr_word = beginWord\n",
    "        print(curr_word)\n",
    "        if curr_word in wordList:\n",
    "            wordList.remove(curr_word)\n",
    "        while(curr_word != endWord):\n",
    "            ladder_length += 1\n",
    "            next_word = getNextWord(curr_word, endWord, wordList)\n",
    "            if(next_word == curr_word):\n",
    "                return 0\n",
    "            else:\n",
    "                curr_word = next_word\n",
    "            print(curr_word)\n",
    "            wordList.remove(curr_word)\n",
    "        return ladder_length\n",
    "        "
   ]
  },
  {
   "cell_type": "code",
   "execution_count": 77,
   "metadata": {},
   "outputs": [],
   "source": [
    "# Input:\n",
    "# beginWord = \"hit\",\n",
    "# endWord = \"cog\",\n",
    "# wordList = [\"hot\",\"dot\",\"dog\",\"lot\",\"log\",\"cog\"]\n",
    "\n",
    "# Output: 5\n",
    "\n",
    "# Explanation: As one shortest transformation is \"hit\" -> \"hot\" -> \"dot\" -> \"dog\" -> \"cog\",\n",
    "# return its length 5."
   ]
  },
  {
   "cell_type": "code",
   "execution_count": 78,
   "metadata": {
    "scrolled": false
   },
   "outputs": [
    {
     "name": "stdout",
     "output_type": "stream",
     "text": [
      "hit\n",
      "Picking hot as editDistance(hit, hot) == 1 and editDistance(hot, cog) < inf\n",
      "hot\n",
      "Picking dot as editDistance(hot, dot) == 1 and editDistance(dot, cog) < inf\n",
      "dot\n",
      "Picking dog as editDistance(dot, dog) == 1 and editDistance(dog, cog) < inf\n",
      "dog\n",
      "Picking log as editDistance(dog, log) == 1 and editDistance(log, cog) < inf\n",
      "Picking cog as editDistance(dog, cog) == 1 and editDistance(cog, cog) < 1\n",
      "cog\n"
     ]
    },
    {
     "data": {
      "text/plain": [
       "5"
      ]
     },
     "execution_count": 78,
     "metadata": {},
     "output_type": "execute_result"
    }
   ],
   "source": [
    "beginWord = \"hit\"\n",
    "endWord = \"cog\"\n",
    "wordList = [\"hot\",\"dot\",\"dog\",\"lot\",\"log\",\"cog\"]\n",
    "Solution().editDistance(beginWord, endWord)\n",
    "Solution().ladderLength(beginWord, endWord, wordList)"
   ]
  },
  {
   "cell_type": "code",
   "execution_count": 79,
   "metadata": {
    "scrolled": false
   },
   "outputs": [
    {
     "name": "stdout",
     "output_type": "stream",
     "text": [
      "hit\n",
      "Picking hot as editDistance(hit, hot) == 1 and editDistance(hot, cog) < inf\n",
      "hot\n",
      "Picking dot as editDistance(hot, dot) == 1 and editDistance(dot, cog) < inf\n",
      "dot\n",
      "Picking dog as editDistance(dot, dog) == 1 and editDistance(dog, cog) < inf\n",
      "dog\n",
      "Picking log as editDistance(dog, log) == 1 and editDistance(log, cog) < inf\n",
      "log\n",
      "Picking lot as editDistance(log, lot) == 1 and editDistance(lot, cog) < inf\n",
      "lot\n"
     ]
    },
    {
     "data": {
      "text/plain": [
       "0"
      ]
     },
     "execution_count": 79,
     "metadata": {},
     "output_type": "execute_result"
    }
   ],
   "source": [
    "Solution().ladderLength(\"hit\", \"cog\", [\"hot\",\"dot\",\"dog\",\"lot\",\"log\"])"
   ]
  },
  {
   "cell_type": "code",
   "execution_count": 80,
   "metadata": {},
   "outputs": [
    {
     "name": "stdout",
     "output_type": "stream",
     "text": [
      "game\n",
      "Picking fame as editDistance(game, fame) == 1 and editDistance(fame, thee) < inf\n",
      "fame\n",
      "Picking faye as editDistance(fame, faye) == 1 and editDistance(faye, thee) < inf\n",
      "faye\n",
      "Picking frye as editDistance(faye, frye) == 1 and editDistance(frye, thee) < inf\n",
      "frye\n",
      "Picking free as editDistance(frye, free) == 1 and editDistance(free, thee) < inf\n",
      "free\n",
      "Picking tree as editDistance(free, tree) == 1 and editDistance(tree, thee) < inf\n",
      "tree\n",
      "Picking thee as editDistance(tree, thee) == 1 and editDistance(thee, thee) < inf\n",
      "thee\n"
     ]
    },
    {
     "data": {
      "text/plain": [
       "7"
      ]
     },
     "execution_count": 80,
     "metadata": {},
     "output_type": "execute_result"
    }
   ],
   "source": [
    "\n",
    "Solution().ladderLength(\"game\", \"thee\", [\"frye\",\"heat\",\"tree\",\"thee\",\"game\",\"free\",\"hell\",\"fame\",\"faye\"])"
   ]
  },
  {
   "cell_type": "code",
   "execution_count": 99,
   "metadata": {},
   "outputs": [],
   "source": [
    "from collections import deque\n",
    "import collections\n",
    "\n",
    "class Solution2(object):\n",
    "    def ladderLength(self, beginWord, endWord, wordList):\n",
    "        if endWord not in wordList:\n",
    "            return 0\n",
    "        d = collections.defaultdict(list)\n",
    "        for word in wordList:\n",
    "            for blank in range(len(word)):\n",
    "                filler = word[:blank] + \"_\" + word[blank+1:]\n",
    "                d[filler].append(word)\n",
    "        queue = deque([(beginWord, 1)])\n",
    "        visited = set()\n",
    "        while(queue):\n",
    "            curr_word, steps = queue.popleft()\n",
    "            if curr_word not in visited:\n",
    "                visited.add(curr_word)\n",
    "                if(curr_word == endWord):\n",
    "                    return steps\n",
    "                for bp in range(len(curr_word)):\n",
    "                    neighbours = d[curr_word[:bp] + \"_\" + curr_word[bp+1:]]\n",
    "                    for neigh in neighbours:\n",
    "                        if neigh not in visited:\n",
    "                            queue.append([neigh, steps+1])\n",
    "        return 0\n",
    "                    \n",
    "                    \n",
    "        \n",
    "        \n",
    "        "
   ]
  },
  {
   "cell_type": "code",
   "execution_count": 100,
   "metadata": {},
   "outputs": [
    {
     "data": {
      "text/plain": [
       "7"
      ]
     },
     "execution_count": 100,
     "metadata": {},
     "output_type": "execute_result"
    }
   ],
   "source": [
    "Solution2().ladderLength(\"game\", \"thee\", [\"frye\",\"heat\",\"tree\",\"thee\",\"game\",\"free\",\"hell\",\"fame\",\"faye\"])"
   ]
  },
  {
   "cell_type": "code",
   "execution_count": 88,
   "metadata": {},
   "outputs": [
    {
     "data": {
      "text/plain": [
       "[]"
      ]
     },
     "execution_count": 88,
     "metadata": {},
     "output_type": "execute_result"
    }
   ],
   "source": [
    "s = {3: \"pqr\"}\n",
    "s.get(5, [])"
   ]
  },
  {
   "cell_type": "code",
   "execution_count": null,
   "metadata": {},
   "outputs": [],
   "source": []
  },
  {
   "cell_type": "code",
   "execution_count": 21,
   "metadata": {},
   "outputs": [],
   "source": [
    "# Definition for singly-linked list with a random pointer.\n",
    "class RandomListNode(object):\n",
    "    def __init__(self, x):\n",
    "        self.label = x\n",
    "        self.next = None\n",
    "        self.random = None\n",
    "    def __repr__(self):\n",
    "        if(self.random != None):\n",
    "            return \"{} ({}) -> {}\".format(self.label, self.random.label, self.next)\n",
    "        else:\n",
    "            return \"{} ({}) -> {}\".format(self.label, \"None\", self.next)\n",
    "    \n",
    "class Solution(object):\n",
    "    def copyRandomList(self, head):\n",
    "        \"\"\"\n",
    "        :type head: RandomListNode\n",
    "        :rtype: RandomListNode\n",
    "        \"\"\"\n",
    "        x = head\n",
    "        dummy = RandomListNode(0)\n",
    "        prev = dummy\n",
    "        idx = 0\n",
    "        seen = []\n",
    "        while(x):\n",
    "            if x not in seen:\n",
    "                newNode = RandomListNode(x.label)\n",
    "                prev.next = newNode\n",
    "                prev = newNode\n",
    "                seen.append(newNode)\n",
    "            else:\n",
    "                existingNode = seen[seen.index(x)]\n",
    "                prev.next = existingNode\n",
    "                prev = existingNode\n",
    "            if(x.random == None):\n",
    "                prev.random = None\n",
    "            else:\n",
    "                if(x.random not in seen):\n",
    "                    newRandomNode = RandomListNode(x.random.label)\n",
    "                    prev.random = newRandomNode\n",
    "            x = x.next\n",
    "            idx += 1\n",
    "        return(dummy.next)\n",
    "            "
   ]
  },
  {
   "cell_type": "code",
   "execution_count": 22,
   "metadata": {},
   "outputs": [],
   "source": [
    "a = RandomListNode('a')\n",
    "b = RandomListNode('b')\n",
    "c = RandomListNode('c')\n",
    "d = RandomListNode('d')\n",
    "e = RandomListNode('e')\n",
    "\n",
    "c.random = b\n",
    "a.next = b\n",
    "a.random = c\n",
    "c.next = d\n",
    "e.random = c\n",
    "d.next = e\n",
    "b.next = c\n",
    "b.random = e"
   ]
  },
  {
   "cell_type": "code",
   "execution_count": 23,
   "metadata": {},
   "outputs": [
    {
     "name": "stdout",
     "output_type": "stream",
     "text": [
      "a (c) -> b (e) -> c (b) -> d (None) -> e (c) -> None\n",
      "a (c) -> b (e) -> c (b) -> d (None) -> e (c) -> None\n"
     ]
    }
   ],
   "source": [
    "print(a)\n",
    "print(Solution().copyRandomList(a))"
   ]
  },
  {
   "cell_type": "code",
   "execution_count": null,
   "metadata": {},
   "outputs": [],
   "source": []
  },
  {
   "cell_type": "code",
   "execution_count": null,
   "metadata": {},
   "outputs": [],
   "source": []
  },
  {
   "cell_type": "code",
   "execution_count": 57,
   "metadata": {},
   "outputs": [],
   "source": [
    "class Solution(object):\n",
    "    def wordBreak(self, s, wordDict):\n",
    "        \"\"\"\n",
    "        :type s: str\n",
    "        :type wordDict: List[str]\n",
    "        :rtype: bool\n",
    "        \"\"\"\n",
    "        def _wordBreak(s, wordDict, start, memo):\n",
    "            if(start == len(s)):\n",
    "                return True\n",
    "            if(start in memo):\n",
    "                return memo[start]\n",
    "            for end in range(start+1, len(s)+1):\n",
    "                if(s[start:end] in wordDict and _wordBreak(s, wordDict, end, memo)):\n",
    "                    memo[start] = True\n",
    "                    return True\n",
    "            memo[start] = False\n",
    "            return False\n",
    "        return(_wordBreak(s, wordDict, 0, {}))\n",
    "    \n",
    "    \n",
    "#     0 ------- start ----- end ---- len(s)-1\n",
    "            \n",
    "        \n",
    "        "
   ]
  },
  {
   "cell_type": "code",
   "execution_count": 58,
   "metadata": {},
   "outputs": [
    {
     "data": {
      "text/plain": [
       "False"
      ]
     },
     "execution_count": 58,
     "metadata": {},
     "output_type": "execute_result"
    }
   ],
   "source": [
    "Solution().wordBreak(\"aaaaaaaaaaaaaaaaaaaaaaaaaaaaaaaaaaaaaaaaaaaaaaaaaaaaaaaaaaaaaaaaaaaaaaaaaaaaaaaaaaaaaaaaaaaaaaaaaaaaaaaaaaaaaaaaaaaaaaaaaaaaaaaaaaaaaaaaaaaaaaaaaaaaaab\", [\"a\",\"aa\",\"aaa\",\"aaaa\",\"aaaaa\",\"aaaaaa\",\"aaaaaaa\",\"aaaaaaaa\",\"aaaaaaaaa\",\"aaaaaaaaaa\"])"
   ]
  },
  {
   "cell_type": "code",
   "execution_count": null,
   "metadata": {},
   "outputs": [],
   "source": []
  },
  {
   "cell_type": "code",
   "execution_count": null,
   "metadata": {},
   "outputs": [],
   "source": []
  },
  {
   "cell_type": "code",
   "execution_count": 4,
   "metadata": {},
   "outputs": [],
   "source": [
    "# Definition for singly-linked list.\n",
    "class ListNode(object):\n",
    "    def __init__(self, x):\n",
    "        self.val = x\n",
    "        self.next = None\n",
    "        \n",
    "    def __repr__(self):\n",
    "        if self:\n",
    "            return \"{} -> {}\".format(self.val, self.next)\n",
    "\n",
    "class Solution(object):\n",
    "    def hasCycle(self, head):\n",
    "        \"\"\"\n",
    "        :type head: ListNode\n",
    "        :rtype: bool\n",
    "        \"\"\"\n",
    "        visited = []\n",
    "        x = head\n",
    "        pos = 0\n",
    "        while(x):\n",
    "            pos+=1\n",
    "            if x in visited:\n",
    "                return pos+1\n",
    "            visited.append(x)\n",
    "        return -1\n",
    "        "
   ]
  },
  {
   "cell_type": "code",
   "execution_count": 5,
   "metadata": {},
   "outputs": [
    {
     "name": "stdout",
     "output_type": "stream",
     "text": [
      "3\n"
     ]
    }
   ],
   "source": [
    "l1 = ListNode(1)\n",
    "l1.next = ListNode(2)\n",
    "l1.next.next = ListNode(3)\n",
    "l1.next.next.next = ListNode(4)\n",
    "l1.next.next.next.next = ListNode(5)\n",
    "l1.next.next.next.next.next = ListNode(6)\n",
    "l1.next.next.next.next.next.next = l1.next.next.next\n",
    "\n",
    "print Solution().hasCycle(l1)"
   ]
  },
  {
   "cell_type": "code",
   "execution_count": null,
   "metadata": {},
   "outputs": [],
   "source": []
  },
  {
   "cell_type": "code",
   "execution_count": 17,
   "metadata": {},
   "outputs": [],
   "source": [
    "import collections\n",
    "class LRUCache:\n",
    "    def __init__(self, capacity: 'int'):\n",
    "        self.d = collections.OrderedDict()\n",
    "        self.c = capacity\n",
    "    def __repr__(self):\n",
    "        return \"LRUCache({}) Object {}\".format(self.c, self.d)\n",
    "    \n",
    "    def get(self, key: 'int') -> 'int':\n",
    "        ret = -1\n",
    "        if key in self.d:\n",
    "            ret = self.d[key]\n",
    "            print(\"set ret to {}\".format(ret))\n",
    "            temp = self.d.pop(key)\n",
    "            \n",
    "            print(\"popped self.d.pop(key), temp = {}, self.d = {}\".format(temp, self.d))\n",
    "            print(\"setting self.d[{}] to temp\".format(key, temp))\n",
    "            self.d[key] = temp\n",
    "        return ret\n",
    "        \n",
    "    def put(self, key: 'int', value: 'int') -> 'None':\n",
    "        if key in self.d:\n",
    "            del self.d[key]\n",
    "        self.d[key] = value\n",
    "        if len(self.d) > self.c:\n",
    "            self.d.popitem(last=False)"
   ]
  },
  {
   "cell_type": "code",
   "execution_count": 18,
   "metadata": {},
   "outputs": [
    {
     "name": "stdout",
     "output_type": "stream",
     "text": [
      "LRUCache(6) Object OrderedDict([(3, 72), (6, 81), (2, 53), (8, 21)])\n",
      "set ret to 81\n",
      "popped self.d.pop(key), temp = 81, self.d = OrderedDict([(3, 72), (2, 53), (8, 21)])\n",
      "setting self.d[6] to temp\n",
      "LRUCache(6) Object OrderedDict([(3, 72), (2, 53), (8, 21), (6, 81)])\n"
     ]
    }
   ],
   "source": [
    "cache = LRUCache(6)\n",
    "cache.put(3, 72)\n",
    "cache.put(6, 81)\n",
    "cache.put(2, 53)\n",
    "cache.put(8, 21)\n",
    "print(cache)\n",
    "cache.get(6)\n",
    "print(cache)"
   ]
  },
  {
   "cell_type": "code",
   "execution_count": null,
   "metadata": {},
   "outputs": [],
   "source": []
  },
  {
   "cell_type": "code",
   "execution_count": 36,
   "metadata": {},
   "outputs": [],
   "source": [
    "class Solution(object):\n",
    "    def threeSum(self, nums):\n",
    "        \"\"\"\n",
    "        :type nums: List[int]\n",
    "        :rtype: List[List[int]]\n",
    "        \"\"\"\n",
    "        nums.sort()\n",
    "        res = []\n",
    "        for i in range(len(nums)):\n",
    "            left = i+1\n",
    "            right = len(nums)-1\n",
    "            while(left < right):\n",
    "                if nums[left] + nums[right] + nums[i] > 0:\n",
    "                    right -= 1\n",
    "                elif nums[left] + nums[right] + nums[i] < 0:\n",
    "                    left += 1\n",
    "                else:\n",
    "                    triplet = [nums[left], nums[i], nums[right]]\n",
    "                    if triplet not in res:\n",
    "                        res.append(triplet) \n",
    "                    left+=1\n",
    "                    right-=1\n",
    "        return res"
   ]
  },
  {
   "cell_type": "code",
   "execution_count": 38,
   "metadata": {
    "scrolled": false
   },
   "outputs": [
    {
     "data": {
      "text/plain": [
       "[[0, -2, 2], [1, -2, 1]]"
      ]
     },
     "execution_count": 38,
     "metadata": {},
     "output_type": "execute_result"
    }
   ],
   "source": [
    "nums=[-2,0,1,1,2]\n",
    "Solution().threeSum([-2,0,1,1,2])\n",
    "# for i,v in enumerate(nums):\n",
    "#     print(i,v)"
   ]
  },
  {
   "cell_type": "code",
   "execution_count": null,
   "metadata": {},
   "outputs": [],
   "source": []
  },
  {
   "cell_type": "code",
   "execution_count": 30,
   "metadata": {},
   "outputs": [],
   "source": [
    "class MinStack:\n",
    "\n",
    "    def __init__(self):\n",
    "        \"\"\"\n",
    "        initialize your data structure here.\n",
    "        \"\"\"\n",
    "        self.minVal = float(\"inf\")\n",
    "        self.arg_minVal = -1\n",
    "        self.values = []\n",
    "        \n",
    "\n",
    "    def push(self, x):\n",
    "        \"\"\"\n",
    "        :type x: int\n",
    "        :rtype: void\n",
    "        \"\"\"\n",
    "        self.values.append(x)\n",
    "        if(x < self.minVal):\n",
    "            self.minVal = x\n",
    "            self.arg_minVal = len(self.values)-1\n",
    "        \n",
    "\n",
    "    def pop(self):\n",
    "        \"\"\"\n",
    "        :rtype: void\n",
    "        \"\"\"\n",
    "        \n",
    "        newMin = float(\"inf\")\n",
    "        arg_newMin = -1 \n",
    "        print(\"POP:\", \"self.arg_minVal\", self.arg_minVal)\n",
    "        if(self.arg_minVal == len(self.values)-1):\n",
    "            for x in range(len(self.values[:-1])):\n",
    "                if(self.values[x] < newMin):\n",
    "                    newMin = self.values[x]\n",
    "                    arg_newMin = x\n",
    "                else:\n",
    "                    print(\"POP:\", self.values[x], \"is not less than current newMin\", newMin)\n",
    "            self.minVal = newMin\n",
    "            self.arg_minVal = arg_newMin\n",
    "        del self.values[-1]\n",
    "        \n",
    "        \n",
    "\n",
    "    def top(self):\n",
    "        \"\"\"\n",
    "        :rtype: int\n",
    "        \"\"\"\n",
    "        return self.values[-1]\n",
    "        \n",
    "\n",
    "    def getMin(self):\n",
    "        \"\"\"\n",
    "        :rtype: int\n",
    "        \"\"\"\n",
    "        return self.minVal\n",
    "        \n",
    "\n",
    "\n",
    "# Your MinStack object will be instantiated and called as such:\n",
    "# obj = MinStack()\n",
    "# obj.push(x)\n",
    "# obj.pop()\n",
    "# param_3 = obj.top()\n",
    "# param_4 = obj.getMin()"
   ]
  },
  {
   "cell_type": "code",
   "execution_count": 31,
   "metadata": {},
   "outputs": [
    {
     "name": "stdout",
     "output_type": "stream",
     "text": [
      "('minStack.minVal', -2)\n",
      "-2\n",
      "('minStack.minVal', -2)\n",
      "-1\n",
      "('minStack.minVal', -2)\n",
      "('POP:', 'self.arg_minVal', 0)\n",
      "('minStack.minVal', -2)\n",
      "-2\n"
     ]
    }
   ],
   "source": [
    "minStack = MinStack()\n",
    "minStack.push(-2)\n",
    "minStack.push(0)\n",
    "minStack.push(-1)\n",
    "print(\"minStack.minVal\", minStack.minVal)\n",
    "print(minStack.getMin())\n",
    "print(\"minStack.minVal\", minStack.minVal)\n",
    "print(minStack.top())\n",
    "print(\"minStack.minVal\", minStack.minVal)\n",
    "minStack.pop()\n",
    "print(\"minStack.minVal\", minStack.minVal)\n",
    "print(minStack.getMin())"
   ]
  },
  {
   "cell_type": "code",
   "execution_count": 19,
   "metadata": {},
   "outputs": [
    {
     "data": {
      "text/plain": [
       "False"
      ]
     },
     "execution_count": 19,
     "metadata": {},
     "output_type": "execute_result"
    }
   ],
   "source": [
    "-1 < float(\"-inf\")"
   ]
  },
  {
   "cell_type": "code",
   "execution_count": null,
   "metadata": {},
   "outputs": [],
   "source": [
    "[\"MinStack\",\"push\",\"push\",\"push\",\"getMin\",\"top\",\"pop\",\"getMin\"]\n",
    "[[],[-2],[0],[-1],[],[],[],[]]"
   ]
  },
  {
   "cell_type": "markdown",
   "metadata": {},
   "source": [
    "Given an array nums of n integers and an integer target, find three integers in nums such that the sum is closest to target. Return the sum of the three integers. You may assume that each input would have exactly one solution.\n",
    "\n",
    "Example:\n",
    "\n",
    "Given array nums = [-1, 2, 1, -4], and target = 1.\n",
    "\n",
    "The sum that is closest to the target is 2. (-1 + 2 + 1 = 2)."
   ]
  },
  {
   "cell_type": "code",
   "execution_count": 13,
   "metadata": {},
   "outputs": [
    {
     "name": "stdout",
     "output_type": "stream",
     "text": [
      "testnums : [1, 2, 4, 8, 16, 32, 64, 128]\n",
      "82\n"
     ]
    }
   ],
   "source": [
    "# three pointers\n",
    "\n",
    "\n",
    "def threeSum(nums, target):\n",
    "    i = 0\n",
    "    nums.sort()\n",
    "    min_diff = float(\"inf\")\n",
    "    min_sum = 0\n",
    "    explored = []\n",
    "    while(i <= len(nums)-1):\n",
    "        # if i > 0 and nums[i-1]!=nums[i]:\n",
    "        j = i + 1\n",
    "        k = len(nums)-1\n",
    "        while(j < k):\n",
    "            explored.append([nums[i], nums[j], nums[k]])\n",
    "            sumv = nums[i] + nums[j] + nums[k]\n",
    "            diff = abs(target - sumv)\n",
    "            if diff < min_diff:\n",
    "                min_diff = diff\n",
    "                min_sum = sumv\n",
    "            if(sumv == target):\n",
    "                return target\n",
    "            elif(sumv > target):\n",
    "                # we're going ahead of target, pull back k\n",
    "                k-=1\n",
    "            else:\n",
    "                j+=1\n",
    "        i+=1\n",
    "    print(explored)\n",
    "    return min_sum\n",
    "        \n",
    "\n",
    "import random\n",
    "# testnums = [random.randint(-5,5) for _ in range(10)]\n",
    "# testnums = [-1,2,1,-4]\n",
    "testnums= [1,2,4,8,16,32,64,128]\n",
    "target = 82\n",
    "print(\"testnums : \" + str(testnums))\n",
    "print(threeSum(testnums, target))"
   ]
  },
  {
   "cell_type": "code",
   "execution_count": null,
   "metadata": {},
   "outputs": [],
   "source": []
  },
  {
   "cell_type": "code",
   "execution_count": 5,
   "metadata": {},
   "outputs": [],
   "source": [
    "# Definition for singly-linked list.\n",
    "class ListNode(object):\n",
    "    def __init__(self, x):\n",
    "        self.val = x\n",
    "        self.next = None\n",
    "    \n",
    "    def __repr__(self):\n",
    "        if self:\n",
    "            return \"{} -> {}\".format(self.val, self.next)\n",
    "    \n",
    "class Solution(object):\n",
    "    def getIntersectionNode(self, headA, headB):\n",
    "        \"\"\"\n",
    "        :type head1, head1: ListNode\n",
    "        :rtype: ListNode\n",
    "        \"\"\"\n",
    "        lenA, lenB = 0, 0\n",
    "        xA, xB = headA, headB\n",
    "        while(xA):\n",
    "            lenA += 1\n",
    "            xA = xA.next\n",
    "        while(xB):\n",
    "            lenB += 1\n",
    "            xB = xB.next\n",
    "            \n",
    "        xA, xB = headA, headB\n",
    "        if(lenA >= lenB):\n",
    "            diff = lenA - lenB\n",
    "            while(diff and xA):\n",
    "                xA = xA.next\n",
    "                diff -= 1\n",
    "            while(xA and xB):\n",
    "                if (xA == xB):\n",
    "                    return xA\n",
    "                xA = xA.next\n",
    "                xB = xB.next\n",
    "        else:\n",
    "            diff = lenB - lenA\n",
    "            while(diff and xB):\n",
    "                xB = xB.next\n",
    "                diff -= 1\n",
    "            while(xA and xB):\n",
    "                if (xA == xB):\n",
    "                    return xA\n",
    "                xA = xA.next\n",
    "                xB = xB.next\n",
    "        return None\n",
    "    \n",
    "\n",
    "        \n",
    "    "
   ]
  },
  {
   "cell_type": "code",
   "execution_count": 6,
   "metadata": {},
   "outputs": [
    {
     "name": "stdout",
     "output_type": "stream",
     "text": [
      "1 -> 2 -> 3 -> 4 -> 5 -> 6 -> 17 -> None\n",
      "7 -> 8 -> 3 -> 4 -> 5 -> 6 -> 17 -> None\n"
     ]
    },
    {
     "data": {
      "text/plain": [
       "3 -> 4 -> 5 -> 6 -> 17 -> None"
      ]
     },
     "execution_count": 6,
     "metadata": {},
     "output_type": "execute_result"
    }
   ],
   "source": [
    "l1 = ListNode(1)\n",
    "l1.next = ListNode(2)\n",
    "l1.next.next = ListNode(3)\n",
    "l1.next.next.next = ListNode(4)\n",
    "l1.next.next.next.next = ListNode(5)\n",
    "l1.next.next.next.next.next = ListNode(6)\n",
    "l1.next.next.next.next.next.next = ListNode(17)\n",
    "\n",
    "\n",
    "l2 = ListNode(7)\n",
    "l2.next = ListNode(8)\n",
    "l2.next.next = l1.next.next\n",
    "\n",
    "print l1\n",
    "print l2\n",
    "Solution().getIntersectionNode(l1, l2)"
   ]
  },
  {
   "cell_type": "code",
   "execution_count": null,
   "metadata": {},
   "outputs": [],
   "source": []
  },
  {
   "cell_type": "code",
   "execution_count": 5,
   "metadata": {},
   "outputs": [],
   "source": [
    "class Solution(object):\n",
    "    def twoSum(self, numbers, target):\n",
    "        \"\"\"\n",
    "        :type numbers: List[int]\n",
    "        :type target: int\n",
    "        :rtype: List[int]\n",
    "        \"\"\"\n",
    "        left = 0\n",
    "        right = len(numbers)-1\n",
    "        while left <= right: \n",
    "            csum = numbers[left] + numbers[right]\n",
    "            if csum == target:\n",
    "                return [left, right]\n",
    "            elif csum < target:\n",
    "                left += 1\n",
    "            else:\n",
    "                right -= 1\n",
    "        return -1"
   ]
  },
  {
   "cell_type": "code",
   "execution_count": 6,
   "metadata": {},
   "outputs": [
    {
     "data": {
      "text/plain": [
       "[0, 1]"
      ]
     },
     "execution_count": 6,
     "metadata": {},
     "output_type": "execute_result"
    }
   ],
   "source": [
    "Solution().twoSum([2,7,11,15], 9)"
   ]
  },
  {
   "cell_type": "code",
   "execution_count": null,
   "metadata": {},
   "outputs": [],
   "source": []
  },
  {
   "cell_type": "code",
   "execution_count": 40,
   "metadata": {},
   "outputs": [],
   "source": [
    "class Solution(object):\n",
    "    def rotate(self, nums, k):\n",
    "        \"\"\"\n",
    "        :type nums: List[int]\n",
    "        :type k: int\n",
    "        :rtype: void Do not return anything, modify nums in-place instead.\n",
    "        \"\"\"\n",
    "        while(k):\n",
    "            prev = nums[len(nums)-1]\n",
    "            for i in range(len(nums)):\n",
    "                print(nums)\n",
    "                temp = nums[i]\n",
    "                nums[i] = prev\n",
    "                prev = temp\n",
    "            k-=1\n",
    "        return nums\n",
    "    \n",
    "    \n",
    "    def rotateAlt1(self, nums, k):\n",
    "        \"\"\"\n",
    "        :type nums: List[int]\n",
    "        :type k: int\n",
    "        :rtype: void Do not return anything, modify nums in-place instead.\n",
    "        \"\"\"\n",
    "        x = [0]*len(nums)\n",
    "        for i in range(len(nums)):\n",
    "            x[(i+k)%len(nums)] = nums[i]\n",
    "            print x\n",
    "        for i in range(len(nums)):\n",
    "            nums[i] = x[i]\n",
    "        return nums\n",
    "    \n",
    "    \n",
    "    def rotateAlt2(self, nums, k):\n",
    "        \"\"\"\n",
    "        :type nums: List[int]\n",
    "        :type k: int\n",
    "        :rtype: void Do not return anything, modify nums in-place instead.\n",
    "        \"\"\"\n",
    "#         always maintain nums[curr] in mem\n",
    "        k = k%len(nums)\n",
    "        start = 0\n",
    "        count = 0\n",
    "        while(count < len(nums)):\n",
    "            print \"start = {}\".format(start)\n",
    "            curr = start\n",
    "            prev = nums[start]\n",
    "            while(True):\n",
    "                next = (curr + k)%len(nums)\n",
    "                print(\"start = {}, curr = {}, next = {}, prev = {}\".format(start, curr, next, prev))\n",
    "                temp = nums[next]\n",
    "                nums[next] = prev\n",
    "                prev = temp\n",
    "                curr = next\n",
    "                count+=1\n",
    "                if(start == curr):\n",
    "                    break\n",
    "            start += 1\n",
    "        return nums\n",
    "    \n",
    "    \n",
    "    def rotateAlt3(self, nums, k):\n",
    "        k = k % len(nums)\n",
    "        start = 0\n",
    "        count = 0\n",
    "        while(count < len(nums)):\n",
    "            curr = start\n",
    "            prev = nums[curr]\n",
    "            while True:\n",
    "                next = (curr + k)%len(nums)\n",
    "                temp = nums[next]\n",
    "                nums[next] = prev\n",
    "                curr = next\n",
    "                prev = temp\n",
    "                count+=1\n",
    "                if(start == curr):\n",
    "                    break\n",
    "            start += 1\n",
    "        return nums\n",
    "                    \n",
    "                \n",
    "            \n",
    "        "
   ]
  },
  {
   "cell_type": "code",
   "execution_count": 45,
   "metadata": {
    "scrolled": false
   },
   "outputs": [
    {
     "name": "stdout",
     "output_type": "stream",
     "text": [
      "[7, 1, 2, 3, 4, 5, 6]\n"
     ]
    }
   ],
   "source": [
    "print Solution().rotateAlt3([1,2,3,4,5,6,7], 8)"
   ]
  },
  {
   "cell_type": "code",
   "execution_count": null,
   "metadata": {},
   "outputs": [],
   "source": []
  },
  {
   "cell_type": "code",
   "execution_count": null,
   "metadata": {},
   "outputs": [],
   "source": [
    "class Solution(object):\n",
    "    def numIslands(self, grid):\n",
    "        \"\"\"\n",
    "        :type grid: List[List[str]]\n",
    "        :rtype: int\n",
    "        \"\"\"\n",
    "        if grid == []:\n",
    "            return 0\n",
    "        row = len(grid)\n",
    "        col = len(grid[0])\n",
    "        count = 0\n",
    "        for i in range(row):\n",
    "            for j in range(col):\n",
    "                if grid[i][j] == '1':\n",
    "                    count += 1\n",
    "                    self.dfs(grid, row, col, i, j)\n",
    "        return count\n",
    "                    \n",
    "        \n",
    "        \n",
    "    def dfs(self, grid, row, col, x, y):\n",
    "        if(grid[x][y] == '0'):\n",
    "            return\n",
    "        \n",
    "        grid[x][y] = '0'\n",
    "        \n",
    "        if x!=0:\n",
    "            self.dfs(grid, row, col, x-1, y)\n",
    "        if y!=0:\n",
    "            self.dfs(grid, row, col, x, y-1)\n",
    "        if x!=row-1:\n",
    "            self.dfs(grid, row, col, x+1, y)\n",
    "        if y!=col-1:\n",
    "            self.dfs(grid, row, col, x, y+1)"
   ]
  },
  {
   "cell_type": "code",
   "execution_count": null,
   "metadata": {},
   "outputs": [],
   "source": [
    "Solution()"
   ]
  },
  {
   "cell_type": "code",
   "execution_count": 26,
   "metadata": {},
   "outputs": [],
   "source": [
    "import math\n",
    "class Solution(object):\n",
    "    def countPrimes(self, n):\n",
    "        \"\"\"\n",
    "        :type n: int\n",
    "        :rtype: int\n",
    "        \"\"\"\n",
    "        if n <= 2:\n",
    "            return 0;\n",
    "        primes = dict()\n",
    "        for i in range(2, n):\n",
    "            primes[i] = True\n",
    "        \n",
    "        for i in range(2, int(math.sqrt(n-1))+1):\n",
    "            if primes[i]:\n",
    "                for j in range(2*i, n, i):\n",
    "                    primes[j] = False\n",
    "        \n",
    "        # print primes\n",
    "        cnt = 0\n",
    "        for i in primes:\n",
    "            if primes[i]:\n",
    "                cnt += 1 \n",
    "        return cnt"
   ]
  },
  {
   "cell_type": "code",
   "execution_count": 27,
   "metadata": {},
   "outputs": [
    {
     "name": "stdout",
     "output_type": "stream",
     "text": [
      "4\n"
     ]
    }
   ],
   "source": [
    "print Solution().countPrimes(10)"
   ]
  },
  {
   "cell_type": "code",
   "execution_count": null,
   "metadata": {},
   "outputs": [],
   "source": []
  },
  {
   "cell_type": "markdown",
   "metadata": {},
   "source": [
    "#### For Iterative\n",
    "\n",
    "1. take `prev` and `curr`\n",
    "2. while is on curr (NOT curr.next)\n",
    "3. 4 step process, first secure curr.next, then play with it, then prepare for next iteration (what's new prev?)\n",
    "    1. Memoization - secure your childs future, then he grows, then you become previous generation\n",
    "4. return prev  ! because story was about you\n",
    "    1. Memoization - you return to God !\n",
    "    \n",
    "#### For recursive\n",
    "\n",
    "1. Assume its already done for a listnode p = nk such that : n1 → … → nk-1 → nk → nk+1 ← … ← nm \n",
    "2. first of all, return on ending condition because its recursion\n",
    "3. nk.next.next = nk\n",
    "4. nk.next = null\n",
    "5. return nk ! because story was about him"
   ]
  },
  {
   "cell_type": "code",
   "execution_count": 59,
   "metadata": {},
   "outputs": [],
   "source": [
    "# Definition for singly-linked list.\n",
    "class ListNode:\n",
    "    def __init__(self, x):\n",
    "        self.val = x\n",
    "        self.next = None\n",
    "        \n",
    "    def printList(self):\n",
    "        x = self\n",
    "        while(x!=None):\n",
    "            print(x.val),\n",
    "            x = x.next\n",
    "        print(\"\")\n",
    "\n",
    "class Solution:\n",
    "    def reverseList(self, head):\n",
    "        \"\"\"\n",
    "        :type head: ListNode\n",
    "        :rtype: ListNode\n",
    "        \"\"\"\n",
    "        prev = None\n",
    "        curr = head\n",
    "        while(curr != None):\n",
    "            temp = curr.next\n",
    "            curr.next = prev\n",
    "            prev = curr\n",
    "            curr = temp\n",
    "            \n",
    "        return prev\n",
    "    \n",
    "    def revlistrecur(self, head):\n",
    "        if(head == None or head.next == None):\n",
    "            return head\n",
    "        p = self.revlistrecur(head.next)\n",
    "        head.next.next = head\n",
    "        head.next = None\n",
    "        return p\n",
    "        \n",
    "        "
   ]
  },
  {
   "cell_type": "code",
   "execution_count": 60,
   "metadata": {},
   "outputs": [
    {
     "name": "stdout",
     "output_type": "stream",
     "text": [
      "1 2 3 4 5 \n",
      "5 4 3 2 1 \n",
      "1 2 3 4 5 \n"
     ]
    }
   ],
   "source": [
    "l1 = ListNode(1)\n",
    "l2 = ListNode(2)\n",
    "l1.next = l2\n",
    "l3 = ListNode(3)\n",
    "l2.next = l3\n",
    "l4 = ListNode(4)\n",
    "l3.next = l4\n",
    "l5 = ListNode(5)\n",
    "l4.next = l5\n",
    "\n",
    "l1.printList()\n",
    "s = Solution()\n",
    "y = s.reverseList(l1)\n",
    "y.printList()\n",
    "\n",
    "z = s.revlistrecur(y)\n",
    "z.printList()"
   ]
  },
  {
   "cell_type": "code",
   "execution_count": null,
   "metadata": {},
   "outputs": [],
   "source": []
  },
  {
   "cell_type": "code",
   "execution_count": null,
   "metadata": {},
   "outputs": [],
   "source": []
  },
  {
   "cell_type": "code",
   "execution_count": 13,
   "metadata": {},
   "outputs": [],
   "source": [
    "# Definition for singly-linked list.\n",
    "class ListNode(object):\n",
    "    def __init__(self, x):\n",
    "        self.val = x\n",
    "        self.next = None\n",
    "    def __repr__(self):\n",
    "        return \"{} -> {}\".format(self.val, self.next)\n",
    "\n",
    "class Solution(object):\n",
    "    def mergeKLists(self, lists):\n",
    "        \"\"\"\n",
    "        :type lists: List[ListNode]\n",
    "        :rtype: ListNode\n",
    "        \"\"\"\n",
    "        if len(lists) == 0:\n",
    "            return []\n",
    "        \n",
    "        \n",
    "        dummy = ListNode(0)\n",
    "        curr_x = []\n",
    "        for listNode in lists:\n",
    "            if(listNode != None): #My 2 cents to leetcode\n",
    "                curr_x.append(listNode)\n",
    "            \n",
    "        prev = dummy\n",
    "        while(len(curr_x) > 0):\n",
    "            smallest = float(\"inf\")\n",
    "            smallest_arg = 0\n",
    "            for ix, x in enumerate(curr_x):\n",
    "                if x!=None and x.val < smallest:\n",
    "                    smallest = x.val\n",
    "                    smallest_arg = ix\n",
    "            prev.next = ListNode(smallest)\n",
    "            prev = prev.next\n",
    "            if(curr_x[smallest_arg].next == None):\n",
    "                del curr_x[smallest_arg]\n",
    "            else:\n",
    "                curr_x[smallest_arg] = curr_x[smallest_arg].next\n",
    "        return(dummy.next)\n",
    "            \n",
    "                \n",
    "                \n",
    "        "
   ]
  },
  {
   "cell_type": "code",
   "execution_count": 20,
   "metadata": {},
   "outputs": [
    {
     "name": "stdout",
     "output_type": "stream",
     "text": [
      "None\n"
     ]
    }
   ],
   "source": [
    "\n",
    "l1 = ListNode(1)\n",
    "l1.next = ListNode(4)\n",
    "l1.next.next = ListNode(5)\n",
    "\n",
    "l2 = ListNode(1)\n",
    "l2.next = ListNode(3)\n",
    "l2.next.next = ListNode(4)\n",
    "\n",
    "l3 = ListNode(2)\n",
    "l3.next = ListNode(6)\n",
    "tlist = [l1,l2,l3]\n",
    "\n",
    "\n",
    "print(Solution().mergeKLists([None, None]))"
   ]
  },
  {
   "cell_type": "code",
   "execution_count": null,
   "metadata": {},
   "outputs": [],
   "source": []
  },
  {
   "cell_type": "code",
   "execution_count": 1,
   "metadata": {},
   "outputs": [],
   "source": [
    "# Definition for a binary tree node.\n",
    "class TreeNode(object):\n",
    "    def __init__(self, x):\n",
    "        self.val = x\n",
    "        self.left = None\n",
    "        self.right = None\n",
    "        \n",
    "class Solution:\n",
    "    def lca(self, root, p, q):\n",
    "        if root == None:\n",
    "            return root\n",
    "        if(p < root.val and q < root.val):\n",
    "            return self.lca(root.left, p, q)\n",
    "        elif(p > root.val and q > root.val):\n",
    "            return self.lca(root.right, p, q)\n",
    "        else:\n",
    "            return root\n",
    "        \n",
    "    def lowestCommonAncestor(self, root, p, q):\n",
    "        \"\"\"\n",
    "        :type root: TreeNode\n",
    "        :type p: TreeNode\n",
    "        :type q: TreeNode\n",
    "        :rtype: TreeNode\n",
    "        \"\"\"\n",
    "        if root == None:\n",
    "            return None\n",
    "        return self.lca(root, p.val, q.val)"
   ]
  },
  {
   "cell_type": "code",
   "execution_count": 5,
   "metadata": {},
   "outputs": [
    {
     "name": "stdout",
     "output_type": "stream",
     "text": [
      "<__main__.TreeNode instance at 0x10c9a1320>\n",
      "6\n"
     ]
    }
   ],
   "source": [
    "# root = [6,2,8,0,4,7,9,Non,null,3,5]\n",
    "t1 = TreeNode(6)\n",
    "t1.left = TreeNode(2)\n",
    "t1.right = TreeNode(8)\n",
    "t1.left.left = TreeNode(0)\n",
    "t1.left.right = TreeNode(4)\n",
    "t1.right.left = TreeNode(7)\n",
    "t1.right.right = TreeNode(9)\n",
    "t1.left.right.left = TreeNode(3)\n",
    "t1.left.right.right = TreeNode(5)\n",
    "\n",
    "print(t1)\n",
    "p = 2\n",
    "q = 8\n",
    "s= Solution()\n",
    "lca = s.lowestCommonAncestor(t1, p, q)\n",
    "print(lca.val)"
   ]
  },
  {
   "cell_type": "code",
   "execution_count": null,
   "metadata": {},
   "outputs": [],
   "source": []
  },
  {
   "cell_type": "code",
   "execution_count": null,
   "metadata": {},
   "outputs": [],
   "source": []
  },
  {
   "cell_type": "code",
   "execution_count": 24,
   "metadata": {},
   "outputs": [],
   "source": [
    "# Definition for a binary tree node.\n",
    "class TreeNode(object):\n",
    "    def __init__(self, x):\n",
    "        self.val = x\n",
    "        self.left = None\n",
    "        self.right = None\n",
    "\n",
    "class Solution(object):\n",
    "    def __init__(self):\n",
    "        self.ans = None\n",
    "        \n",
    "    def lowestCommonAncestor(self, root, p, q):\n",
    "        \"\"\"\n",
    "        :type root: TreeNode\n",
    "        :type p: TreeNode\n",
    "        :type q: TreeNode\n",
    "        :rtype: TreeNode\n",
    "        \"\"\"\n",
    "        def findNodes(root): \n",
    "            if root == None:\n",
    "                return False\n",
    "            \n",
    "            left = findNodes(root.left)\n",
    "            mid = root == p or root == q\n",
    "            right = findNodes(root.right)\n",
    "            if(left + mid + right >= 2):\n",
    "                self.ans = root\n",
    "            return left or mid or right\n",
    "        findNodes(root)\n",
    "        return self.ans\n",
    "        \n",
    "    def lowestCommonAncestorAliter(self, root, p, q):\n",
    "        \"\"\"\n",
    "        :type root: TreeNode\n",
    "        :type p: TreeNode\n",
    "        :type q: TreeNode\n",
    "        :rtype: TreeNode\n",
    "        \"\"\" \n",
    "        parents  = {}\n",
    "        stack = [root]\n",
    "        while p not in parents and q not in parents:\n",
    "            node = stack.pop()\n",
    "            if node.left:\n",
    "                parents[node.left] = node\n",
    "                stack.append(node.left)\n",
    "            if node.right:\n",
    "                parents[node.right] = node\n",
    "                stack.append(node.right)\n",
    "        ancestors = set()\n",
    "        while p:\n",
    "            p = parents[p]\n",
    "            ancestors.add(p)\n",
    "        \n",
    "        while q:\n",
    "            q = parents[q]\n",
    "            if(q in ancestors):\n",
    "                break\n",
    "        return q\n",
    "                \n",
    "            "
   ]
  },
  {
   "cell_type": "code",
   "execution_count": 25,
   "metadata": {},
   "outputs": [
    {
     "name": "stdout",
     "output_type": "stream",
     "text": [
      "<__main__.TreeNode object at 0x10b18f4a8>\n",
      "8\n"
     ]
    },
    {
     "ename": "KeyError",
     "evalue": "<__main__.TreeNode object at 0x10b18f4a8>",
     "output_type": "error",
     "traceback": [
      "\u001b[0;31m---------------------------------------------------------------------------\u001b[0m",
      "\u001b[0;31mKeyError\u001b[0m                                  Traceback (most recent call last)",
      "\u001b[0;32m<ipython-input-25-d33f1e59ff8f>\u001b[0m in \u001b[0;36m<module>\u001b[0;34m()\u001b[0m\n\u001b[1;32m     13\u001b[0m \u001b[0mlca\u001b[0m \u001b[0;34m=\u001b[0m \u001b[0ms\u001b[0m\u001b[0;34m.\u001b[0m\u001b[0mlowestCommonAncestor\u001b[0m\u001b[0;34m(\u001b[0m\u001b[0mt1\u001b[0m\u001b[0;34m,\u001b[0m \u001b[0mt1\u001b[0m\u001b[0;34m.\u001b[0m\u001b[0mright\u001b[0m\u001b[0;34m,\u001b[0m \u001b[0mt1\u001b[0m\u001b[0;34m.\u001b[0m\u001b[0mright\u001b[0m\u001b[0;34m.\u001b[0m\u001b[0mleft\u001b[0m\u001b[0;34m)\u001b[0m\u001b[0;34m\u001b[0m\u001b[0m\n\u001b[1;32m     14\u001b[0m \u001b[0mprint\u001b[0m\u001b[0;34m(\u001b[0m\u001b[0mlca\u001b[0m\u001b[0;34m.\u001b[0m\u001b[0mval\u001b[0m\u001b[0;34m)\u001b[0m\u001b[0;34m\u001b[0m\u001b[0m\n\u001b[0;32m---> 15\u001b[0;31m \u001b[0mlca\u001b[0m \u001b[0;34m=\u001b[0m \u001b[0ms\u001b[0m\u001b[0;34m.\u001b[0m\u001b[0mlowestCommonAncestorAliter\u001b[0m\u001b[0;34m(\u001b[0m\u001b[0mt1\u001b[0m\u001b[0;34m,\u001b[0m \u001b[0mt1\u001b[0m\u001b[0;34m.\u001b[0m\u001b[0mright\u001b[0m\u001b[0;34m,\u001b[0m \u001b[0mt1\u001b[0m\u001b[0;34m.\u001b[0m\u001b[0mright\u001b[0m\u001b[0;34m.\u001b[0m\u001b[0mright\u001b[0m\u001b[0;34m)\u001b[0m\u001b[0;34m\u001b[0m\u001b[0m\n\u001b[0m\u001b[1;32m     16\u001b[0m \u001b[0mprint\u001b[0m\u001b[0;34m(\u001b[0m\u001b[0mlca\u001b[0m\u001b[0;34m.\u001b[0m\u001b[0mval\u001b[0m\u001b[0;34m)\u001b[0m\u001b[0;34m\u001b[0m\u001b[0m\n",
      "\u001b[0;32m<ipython-input-24-ac6c1f0df2cd>\u001b[0m in \u001b[0;36mlowestCommonAncestorAliter\u001b[0;34m(self, root, p, q)\u001b[0m\n\u001b[1;32m     49\u001b[0m         \u001b[0mancestors\u001b[0m \u001b[0;34m=\u001b[0m \u001b[0mset\u001b[0m\u001b[0;34m(\u001b[0m\u001b[0;34m)\u001b[0m\u001b[0;34m\u001b[0m\u001b[0m\n\u001b[1;32m     50\u001b[0m         \u001b[0;32mwhile\u001b[0m \u001b[0mp\u001b[0m\u001b[0;34m:\u001b[0m\u001b[0;34m\u001b[0m\u001b[0m\n\u001b[0;32m---> 51\u001b[0;31m             \u001b[0mp\u001b[0m \u001b[0;34m=\u001b[0m \u001b[0mparents\u001b[0m\u001b[0;34m[\u001b[0m\u001b[0mp\u001b[0m\u001b[0;34m]\u001b[0m\u001b[0;34m\u001b[0m\u001b[0m\n\u001b[0m\u001b[1;32m     52\u001b[0m             \u001b[0mancestors\u001b[0m\u001b[0;34m.\u001b[0m\u001b[0madd\u001b[0m\u001b[0;34m(\u001b[0m\u001b[0mp\u001b[0m\u001b[0;34m)\u001b[0m\u001b[0;34m\u001b[0m\u001b[0m\n\u001b[1;32m     53\u001b[0m \u001b[0;34m\u001b[0m\u001b[0m\n",
      "\u001b[0;31mKeyError\u001b[0m: <__main__.TreeNode object at 0x10b18f4a8>"
     ]
    }
   ],
   "source": [
    "t1 = TreeNode(6)\n",
    "t1.left = TreeNode(2)\n",
    "t1.right = TreeNode(8)\n",
    "t1.left.left = TreeNode(0)\n",
    "t1.left.right = TreeNode(4)\n",
    "t1.right.left = TreeNode(7)\n",
    "t1.right.right = TreeNode(9)\n",
    "t1.left.right.left = TreeNode(3)\n",
    "t1.left.right.right = TreeNode(5)\n",
    "\n",
    "print(t1)\n",
    "s= Solution()\n",
    "lca = s.lowestCommonAncestor(t1, t1.right, t1.right.left)\n",
    "print(lca.val)\n",
    "lca = s.lowestCommonAncestorAliter(t1, t1.right, t1.right.right)\n",
    "print(lca.val)"
   ]
  },
  {
   "cell_type": "code",
   "execution_count": 29,
   "metadata": {},
   "outputs": [],
   "source": [
    "plist = []\n",
    "i =0\n",
    "while(8000 not in plist or 9000 not in plist):\n",
    "    i+= 1\n",
    "    plist.append(i)"
   ]
  },
  {
   "cell_type": "code",
   "execution_count": 30,
   "metadata": {},
   "outputs": [
    {
     "data": {
      "text/plain": [
       "9000"
      ]
     },
     "execution_count": 30,
     "metadata": {},
     "output_type": "execute_result"
    }
   ],
   "source": [
    "plist[-1]"
   ]
  },
  {
   "cell_type": "code",
   "execution_count": null,
   "metadata": {},
   "outputs": [],
   "source": []
  },
  {
   "cell_type": "code",
   "execution_count": 51,
   "metadata": {},
   "outputs": [],
   "source": [
    "import collections\n",
    "class Solution(object):\n",
    "    def maxSlidingWindow(self, nums, k):\n",
    "        \"\"\"\n",
    "        :type nums: List[int]\n",
    "        :type k: int\n",
    "        :rtype: List[int]\n",
    "        \"\"\"\n",
    "        d = collections.deque()\n",
    "        out = []\n",
    "        for i, n in enumerate(nums):\n",
    "            print(\"i = {}, curr element = {}, d = {} and out = {}\".format(i, n, d, out))\n",
    "            while d and nums[d[-1]] < n:\n",
    "                d.pop()\n",
    "                print(\"\\t Popped from d because d has elements and nums[d.top] < curr element\")\n",
    "            d.append(i)\n",
    "            print(\"\\t Added i to d\")\n",
    "            if d[0] == i - k:\n",
    "                d.popleft()\n",
    "                print(\"\\t Popped left from d because it's outside the window's leftmost (i-k)\")\n",
    "            if i>=k-1:\n",
    "                out.append(nums[d[0]])\n",
    "                print(\"\\t Append nums[d[0]] = {} to out\".format(nums[d[0]]))\n",
    "        return out\n"
   ]
  },
  {
   "cell_type": "code",
   "execution_count": 52,
   "metadata": {},
   "outputs": [
    {
     "name": "stdout",
     "output_type": "stream",
     "text": [
      "i = 0, curr element = 8, d = deque([]) and out = []\n",
      "\t Added i to d\n",
      "i = 1, curr element = 3, d = deque([0]) and out = []\n",
      "\t Added i to d\n",
      "i = 2, curr element = -1, d = deque([0, 1]) and out = []\n",
      "\t Added i to d\n",
      "\t Append nums[d[0]] = 8 to out\n",
      "i = 3, curr element = -3, d = deque([0, 1, 2]) and out = [8]\n",
      "\t Added i to d\n",
      "\t Popped left from d because it's outside the window's leftmost (i-k)\n",
      "\t Append nums[d[0]] = 3 to out\n",
      "i = 4, curr element = 5, d = deque([1, 2, 3]) and out = [8, 3]\n",
      "\t Popped from d because d has elements and nums[d.top] < curr element\n",
      "\t Popped from d because d has elements and nums[d.top] < curr element\n",
      "\t Popped from d because d has elements and nums[d.top] < curr element\n",
      "\t Added i to d\n",
      "\t Append nums[d[0]] = 5 to out\n",
      "i = 5, curr element = 3, d = deque([4]) and out = [8, 3, 5]\n",
      "\t Added i to d\n",
      "\t Append nums[d[0]] = 5 to out\n",
      "i = 6, curr element = 6, d = deque([4, 5]) and out = [8, 3, 5, 5]\n",
      "\t Popped from d because d has elements and nums[d.top] < curr element\n",
      "\t Popped from d because d has elements and nums[d.top] < curr element\n",
      "\t Added i to d\n",
      "\t Append nums[d[0]] = 6 to out\n",
      "i = 7, curr element = 7, d = deque([6]) and out = [8, 3, 5, 5, 6]\n",
      "\t Popped from d because d has elements and nums[d.top] < curr element\n",
      "\t Added i to d\n",
      "\t Append nums[d[0]] = 7 to out\n",
      "[8, 3, 5, 5, 6, 7]\n"
     ]
    }
   ],
   "source": [
    "print(Solution().maxSlidingWindow([8,3,-1,-3,5,3,6,7], 3))\n",
    "# Input: nums = [1,3,-1,-3,5,3,6,7], and k = 3\n",
    "# Output: [3,3,5,5,6,7] "
   ]
  },
  {
   "cell_type": "code",
   "execution_count": null,
   "metadata": {},
   "outputs": [],
   "source": []
  },
  {
   "cell_type": "code",
   "execution_count": null,
   "metadata": {},
   "outputs": [],
   "source": []
  },
  {
   "cell_type": "code",
   "execution_count": null,
   "metadata": {},
   "outputs": [],
   "source": [
    "class Solution(object):\n",
    "    def isAnagram(self, s, t):\n",
    "        \"\"\"\n",
    "        :type s: str\n",
    "        :type t: str\n",
    "        :rtype: bool\n",
    "        \"\"\"\n",
    "        if len(s) == len(t) and set(s) == set(t):\n",
    "            return True"
   ]
  },
  {
   "cell_type": "code",
   "execution_count": 17,
   "metadata": {},
   "outputs": [],
   "source": [
    "# Definition for a binary tree node.\n",
    "class TreeNode(object):\n",
    "    def __init__(self, x):\n",
    "        self.val = x\n",
    "        self.left = None\n",
    "        self.right = None\n",
    "\n",
    "class Codec:\n",
    "    def _serializeNode(self, root):\n",
    "        return \"\".format(root.val)\n",
    "        \n",
    "    def serialize(self, root):\n",
    "        \"\"\"Encodes a tree to a single string.\n",
    "        \n",
    "        :type root: TreeNode\n",
    "        :rtype: str\n",
    "        \"\"\"\n",
    "        if(root == None):\n",
    "            return \"None\"\n",
    "        return str(root.val) + \",\" + self.serialize(root.left)  + \",\" +  self.serialize(root.right)\n",
    "        \n",
    "        \n",
    "\n",
    "    def deserialize(self, data):\n",
    "        \"\"\"Decodes your encoded data to tree.\n",
    "        \n",
    "        :type data: str\n",
    "        :rtype: TreeNode\n",
    "        \"\"\"\n",
    "        def _deserialize(data_list):\n",
    "            if data_list[0] == \"None\":\n",
    "                data_list.pop(0)\n",
    "                return None\n",
    "            t1 = TreeNode(data_list.pop(0))\n",
    "            \n",
    "            t1.left = _deserialize(data_list)\n",
    "            t1.right = _deserialize(data_list)\n",
    "            return t1\n",
    "        return _deserialize(data.split(\",\"))\n"
   ]
  },
  {
   "cell_type": "code",
   "execution_count": 18,
   "metadata": {},
   "outputs": [
    {
     "name": "stdout",
     "output_type": "stream",
     "text": [
      "12,2,1,None,None,5,None,None,17,13,None,None,25,None,None\n",
      "<__main__.TreeNode object at 0x105c75be0>\n",
      "12,2,1,None,None,5,None,None,17,13,None,None,25,None,None\n"
     ]
    }
   ],
   "source": [
    "t1 = TreeNode(12)\n",
    "t1.left = TreeNode(2)\n",
    "t1.right = TreeNode(17)\n",
    "t1.left.left = TreeNode(1)\n",
    "t1.left.right = TreeNode(5)\n",
    "t1.right.left = TreeNode(13)\n",
    "t1.right.right = TreeNode(25)\n",
    "\n",
    "# Your Codec object will be instantiated and called as such:\n",
    "codec = Codec()\n",
    "s1 = codec.serialize(t1)\n",
    "print(s1)\n",
    "ds1 = codec.deserialize(s1)\n",
    "print(ds1)\n",
    "sds1 = codec.serialize(ds1)\n",
    "print(sds1)"
   ]
  },
  {
   "cell_type": "code",
   "execution_count": 19,
   "metadata": {},
   "outputs": [],
   "source": [
    "class BFSCodec:\n",
    "    '''       O(n) time and O(n) space, BFS traversal\n",
    "    e.g., 1\n",
    "         / \\\n",
    "        2   5\n",
    "       / \\\n",
    "      3   4  , level order traversal, serialize will be '1,2,5,3,4,None,None,None,None,None,None,'; deserialize \n",
    "      with queue as well, convert back. Time and Space O(n).\n",
    "    '''\n",
    "    def serialize(self, root):\n",
    "        if not root:\n",
    "            return ''\n",
    "        queue = collections.deque()\n",
    "        queue.append(root)\n",
    "        res = ''\n",
    "        while queue:\n",
    "            node = queue.popleft()\n",
    "            if not node:\n",
    "                res += 'None,'\n",
    "                continue\n",
    "            res += str(node.val) + ','\n",
    "            queue.append(node.left)\n",
    "            queue.append(node.right)\n",
    "        return res\n",
    "            \n",
    "    def deserialize(self, data):\n",
    "        if not data:\n",
    "            return None\n",
    "        ls = data.split(',')\n",
    "        root = TreeNode(int(ls[0]))\n",
    "        queue = collections.deque()\n",
    "        queue.append(root)\n",
    "        i = 1\n",
    "        while queue and i < len(ls):\n",
    "            node = queue.popleft()\n",
    "            if ls[i] != 'None':\n",
    "                left = TreeNode(int(ls[i]))\n",
    "                node.left = left\n",
    "                queue.append(left)\n",
    "            i += 1\n",
    "            if ls[i] != 'None':\n",
    "                right = TreeNode(int(ls[i]))\n",
    "                node.right = right\n",
    "                queue.append(right)\n",
    "            i += 1\n",
    "        return root"
   ]
  },
  {
   "cell_type": "code",
   "execution_count": null,
   "metadata": {},
   "outputs": [],
   "source": []
  },
  {
   "cell_type": "code",
   "execution_count": 51,
   "metadata": {},
   "outputs": [],
   "source": [
    "import collections\n",
    "class Solution(object):\n",
    "    def lengthOfLongestSubstring(self, s):\n",
    "        \"\"\"\n",
    "        :type s: str\n",
    "        :rtype: int\n",
    "        \"\"\"\n",
    "        if s==\"\":\n",
    "            return 0\n",
    "        anchor = 0\n",
    "        max_len = collections.defaultdict(int)\n",
    "        \n",
    "        for idx in range(len(s)):\n",
    "            substr = s[idx:]\n",
    "#             print(\"checking from \", s[idx])\n",
    "            seen = {}\n",
    "            for j, c in enumerate(substr):\n",
    "                if c not in seen:\n",
    "                    seen[c] = j\n",
    "                    max_len[idx] += 1\n",
    "#                     print(\"\\t increment max_len[{}] to {}\".format(idx, max_len[idx]))\n",
    "                else:\n",
    "#                     print(\"\\t break as we have seen\", c)\n",
    "                    break\n",
    "        print([s[i:i+max_len[i]] for i in max_len])\n",
    "        return max(max_len.values())\n",
    "        \n",
    "                    \n",
    "                    \n",
    "# public class Solution {\n",
    "#     public int lengthOfLongestSubstring(String s) {\n",
    "#         int n = s.length(), ans = 0;\n",
    "#         Map<Character, Integer> map = new HashMap<>(); // current index of character\n",
    "#         // try to extend the range [i, j]\n",
    "#         for (int j = 0, i = 0; j < n; j++) {\n",
    "#             if (map.containsKey(s.charAt(j))) {\n",
    "#                 i = Math.max(map.get(s.charAt(j)), i);\n",
    "#             }\n",
    "#             ans = Math.max(ans, j - i + 1);\n",
    "#             map.put(s.charAt(j), j + 1);\n",
    "#         }\n",
    "#         return ans;\n",
    "#     }\n",
    "    def lengthOfLongestSubstring2(self, s):\n",
    "        ls = len(s)\n",
    "        if ls == 0:\n",
    "            return 0\n",
    "        ans = 0\n",
    "        i=0\n",
    "        max_len = dict()\n",
    "        for j in range(ls):\n",
    "            print(\"for j = {}, s[j] = {} and i = {}, max_len = {}\".format(j, s[j], i, max_len))\n",
    "            if(s[j] in max_len):\n",
    "                print(\"\\ts[j] is in max_len, setting i to max(max_len[s[j]], i)\")\n",
    "                i = max(max_len[s[j]], i)\n",
    "            else:\n",
    "                print(\"\\ts[j] is not in max_len, skipping updating i\")\n",
    "            \n",
    "            print(\"\\tans = max(ans, j-i+1) = max({}, {}) = {} basically the substr {}\".format(ans, j-i+1, max(ans, j-i+1), s[i:j+1]))\n",
    "            ans = max(ans, j-i+1)\n",
    "            max_len[s[j]] = j+1\n",
    "            print(\"\\tSetting max_len[{}] = {}\\n\\n\".format(s[j], j+1))\n",
    "        return ans\n",
    "        "
   ]
  },
  {
   "cell_type": "code",
   "execution_count": 52,
   "metadata": {},
   "outputs": [
    {
     "name": "stdout",
     "output_type": "stream",
     "text": [
      "for j = 0, s[j] = a and i = 0, max_len = {}\n",
      "\ts[j] is not in max_len, skipping updating i\n",
      "\tans = max(ans, j-i+1) = max(0, 1) = 1 basically the substr a\n",
      "\tSetting max_len[a] = 1\n",
      "\n",
      "\n",
      "for j = 1, s[j] = b and i = 0, max_len = {'a': 1}\n",
      "\ts[j] is not in max_len, skipping updating i\n",
      "\tans = max(ans, j-i+1) = max(1, 2) = 2 basically the substr ab\n",
      "\tSetting max_len[b] = 2\n",
      "\n",
      "\n",
      "for j = 2, s[j] = c and i = 0, max_len = {'a': 1, 'b': 2}\n",
      "\ts[j] is not in max_len, skipping updating i\n",
      "\tans = max(ans, j-i+1) = max(2, 3) = 3 basically the substr abc\n",
      "\tSetting max_len[c] = 3\n",
      "\n",
      "\n",
      "for j = 3, s[j] = a and i = 0, max_len = {'a': 1, 'b': 2, 'c': 3}\n",
      "\ts[j] is in max_len, setting i to max(max_len[s[j]], i)\n",
      "\tans = max(ans, j-i+1) = max(3, 3) = 3 basically the substr bca\n",
      "\tSetting max_len[a] = 4\n",
      "\n",
      "\n",
      "for j = 4, s[j] = b and i = 1, max_len = {'a': 4, 'b': 2, 'c': 3}\n",
      "\ts[j] is in max_len, setting i to max(max_len[s[j]], i)\n",
      "\tans = max(ans, j-i+1) = max(3, 3) = 3 basically the substr cab\n",
      "\tSetting max_len[b] = 5\n",
      "\n",
      "\n",
      "for j = 5, s[j] = d and i = 2, max_len = {'a': 4, 'b': 5, 'c': 3}\n",
      "\ts[j] is not in max_len, skipping updating i\n",
      "\tans = max(ans, j-i+1) = max(3, 4) = 4 basically the substr cabd\n",
      "\tSetting max_len[d] = 6\n",
      "\n",
      "\n",
      "for j = 6, s[j] = e and i = 2, max_len = {'a': 4, 'b': 5, 'c': 3, 'd': 6}\n",
      "\ts[j] is not in max_len, skipping updating i\n",
      "\tans = max(ans, j-i+1) = max(4, 5) = 5 basically the substr cabde\n",
      "\tSetting max_len[e] = 7\n",
      "\n",
      "\n",
      "for j = 7, s[j] = b and i = 2, max_len = {'a': 4, 'b': 5, 'c': 3, 'd': 6, 'e': 7}\n",
      "\ts[j] is in max_len, setting i to max(max_len[s[j]], i)\n",
      "\tans = max(ans, j-i+1) = max(5, 3) = 5 basically the substr deb\n",
      "\tSetting max_len[b] = 8\n",
      "\n",
      "\n",
      "for j = 8, s[j] = c and i = 5, max_len = {'a': 4, 'b': 8, 'c': 3, 'd': 6, 'e': 7}\n",
      "\ts[j] is in max_len, setting i to max(max_len[s[j]], i)\n",
      "\tans = max(ans, j-i+1) = max(5, 4) = 5 basically the substr debc\n",
      "\tSetting max_len[c] = 9\n",
      "\n",
      "\n",
      "5\n"
     ]
    }
   ],
   "source": [
    "print(Solution().lengthOfLongestSubstring2(\"abcabdebc\"))\n",
    "# print(Solution().lengthOfLongestSubstring2(\"abcabcbb\"))\n",
    "# print(Solution().lengthOfLongestSubstring2(\"bbbbb\"))\n",
    "# print(Solution().lengthOfLongestSubstring2(\"pwwkew\"))\n",
    "# print(Solution().lengthOfLongestSubstring2(\"\"))\n"
   ]
  },
  {
   "cell_type": "code",
   "execution_count": null,
   "metadata": {},
   "outputs": [],
   "source": []
  },
  {
   "cell_type": "code",
   "execution_count": 8,
   "metadata": {},
   "outputs": [],
   "source": [
    "import random\n",
    "class RandomizedSet(object):\n",
    "\n",
    "    def __init__(self):\n",
    "        \"\"\"\n",
    "        Initialize your data structure here.\n",
    "        \"\"\"\n",
    "        # BASICALLY IN THIS QUESTION YOU NEED SOMETHING TO \n",
    "        # MAINTAIN INDEX OF VALUES IN THE SET BECAUSE SET FUCKING DOESN'T SUPPORT INDEXES\n",
    "        self.rset = []\n",
    "        self.ldict = {}\n",
    "        \n",
    "\n",
    "    def insert(self, val):\n",
    "        \"\"\"\n",
    "        Inserts a value to the set. Returns true if the set did not already contain the specified element.\n",
    "        :type val: int\n",
    "        :rtype: bool\n",
    "        \"\"\"\n",
    "        if val in self.ldict:\n",
    "            return False\n",
    "        else:\n",
    "            self.rset.append(val)\n",
    "            self.ldict[val] = len(self.rset)-1\n",
    "            return True\n",
    "        \n",
    "\n",
    "    def remove(self, val):\n",
    "        \"\"\"\n",
    "        Removes a value from the set. Returns true if the set contained the specified element.\n",
    "        :type val: int\n",
    "        :rtype: bool\n",
    "        \"\"\"\n",
    "        # we can't just remove an element from list in O(1) avg time but sure \n",
    "        # we can do it if we just had to pop the last element here\n",
    "        if val in self.ldict:\n",
    "            idx = self.ldict[val] # get location of element to be removed \n",
    "            last = self.rset[-1] # get the last element\n",
    "            \n",
    "            self.rset[idx] = last # set first, pop benefits later :-D\n",
    "            self.ldict[last] = idx\n",
    "            \n",
    "            self.ldict.pop(val)\n",
    "            self.rset.pop()\n",
    "            return True\n",
    "        else:\n",
    "            return False\n",
    "        \n",
    "\n",
    "    def getRandom(self):\n",
    "        \"\"\"\n",
    "        Get a random element from the set.\n",
    "        :rtype: int\n",
    "        \"\"\"\n",
    "        return self.rset[random.randint(0, len(self.rset) - 1)]\n",
    "        \n",
    "        \n",
    "\n",
    "\n",
    "# Your RandomizedSet object will be instantiated and called as such:\n",
    "# obj = RandomizedSet()\n",
    "# param_1 = obj.insert(val)\n",
    "# param_2 = obj.remove(val)\n",
    "# param_3 = obj.getRandom()"
   ]
  },
  {
   "cell_type": "code",
   "execution_count": 9,
   "metadata": {},
   "outputs": [
    {
     "name": "stdout",
     "output_type": "stream",
     "text": [
      "True\n",
      "False\n",
      "True\n",
      "1\n",
      "True\n",
      "False\n",
      "2\n"
     ]
    }
   ],
   "source": [
    "randomSet = RandomizedSet()\n",
    "\n",
    "# // Inserts 1 to the set. Returns true as 1 was inserted successfully.\n",
    "print(randomSet.insert(1))\n",
    "\n",
    "# // Returns false as 2 does not exist in the set.\n",
    "print(randomSet.remove(2))\n",
    "\n",
    "# // Inserts 2 to the set, returns true. Set now contains [1,2].\n",
    "print(randomSet.insert(2))\n",
    "\n",
    "# // getRandom should return either 1 or 2 randomly.\n",
    "print(randomSet.getRandom())\n",
    "\n",
    "# // Removes 1 from the set, returns true. Set now contains [2].\n",
    "print(randomSet.remove(1))\n",
    "\n",
    "# // 2 was already in the set, so return false.\n",
    "print(randomSet.insert(2))\n",
    "\n",
    "# // Since 2 is the only number in the set, getRandom always return 2.\n",
    "print(randomSet.getRandom())"
   ]
  },
  {
   "cell_type": "code",
   "execution_count": null,
   "metadata": {},
   "outputs": [],
   "source": []
  },
  {
   "cell_type": "code",
   "execution_count": 8,
   "metadata": {},
   "outputs": [],
   "source": [
    "import collections\n",
    "class Solution:\n",
    "    def firstUniqChar(self, s):\n",
    "        \"\"\"\n",
    "        :type s: str\n",
    "        :rtype: int\n",
    "        \"\"\"\n",
    "        cnts = collections.Counter(s)\n",
    "        for i in range(len(s)):\n",
    "            if cnts[s[i]] == 1:\n",
    "                return i\n",
    "        return -1\n",
    "    \n",
    "            \n",
    "        \n",
    "            "
   ]
  },
  {
   "cell_type": "code",
   "execution_count": 9,
   "metadata": {},
   "outputs": [
    {
     "data": {
      "text/plain": [
       "2"
      ]
     },
     "execution_count": 9,
     "metadata": {},
     "output_type": "execute_result"
    }
   ],
   "source": [
    "s = Solution()\n",
    "s.firstUniqChar(\"loveleetcode\")"
   ]
  },
  {
   "cell_type": "code",
   "execution_count": null,
   "metadata": {},
   "outputs": [],
   "source": []
  },
  {
   "cell_type": "code",
   "execution_count": null,
   "metadata": {},
   "outputs": [],
   "source": []
  },
  {
   "cell_type": "code",
   "execution_count": 1,
   "metadata": {},
   "outputs": [],
   "source": [
    "class Solution(object):\n",
    "    def thirdMax(self, nums):\n",
    "        \"\"\"\n",
    "        :type nums: List[int]\n",
    "        :rtype: int\n",
    "        \"\"\"\n",
    "        l = []\n",
    "        for n in set(nums):\n",
    "            bisect.insort(l, -n)\n",
    "            if len(l)>3:\n",
    "                l.pop()\n",
    "        return -l[2] if len(l)>2 else -l[0]"
   ]
  },
  {
   "cell_type": "code",
   "execution_count": null,
   "metadata": {},
   "outputs": [],
   "source": []
  },
  {
   "cell_type": "markdown",
   "metadata": {},
   "source": [
    "![rainwatertrap](https://assets.leetcode.com/uploads/2018/10/22/rainwatertrap.png)"
   ]
  },
  {
   "cell_type": "code",
   "execution_count": 16,
   "metadata": {},
   "outputs": [],
   "source": [
    "class Solution(object):\n",
    "    def trap(self, height):\n",
    "        \"\"\"\n",
    "        :type height: List[int]\n",
    "        :rtype: int\n",
    "        \"\"\"\n",
    "        import collections\n",
    "        left_max, right_max = [0]*len(height), [0]*len(height)\n",
    "        left_max[0] = height[0]\n",
    "        right_max[len(height)-1] = height[-1]\n",
    "        for i in range(1,len(height)):\n",
    "            left_max[i] = max(left_max[i-1], height[i])\n",
    "        \n",
    "        for i in range(len(height)-2,0,-1):\n",
    "            right_max[i] = max(right_max[i+1], height[i])\n",
    "        \n",
    "        ans = 0\n",
    "        for i in range(len(height)):\n",
    "            ans += (min(right_max[i],left_max[i])-height[i])\n",
    "        return ans"
   ]
  },
  {
   "cell_type": "code",
   "execution_count": 17,
   "metadata": {},
   "outputs": [
    {
     "data": {
      "text/plain": [
       "6"
      ]
     },
     "execution_count": 17,
     "metadata": {},
     "output_type": "execute_result"
    }
   ],
   "source": [
    "Solution().trap([0,1,0,2,1,0,1,3,2,1,2,1])"
   ]
  },
  {
   "cell_type": "code",
   "execution_count": null,
   "metadata": {},
   "outputs": [],
   "source": []
  },
  {
   "cell_type": "markdown",
   "metadata": {},
   "source": [
    "Logic is to have two arrays, one for result and one for checking string (cnts).\n",
    "\n",
    "The cnts array flips to -1 as soon as you cannot get anything out of it. (you squeeze to find similarity!)\n",
    "\n",
    "then you replenish the array\n",
    "\n",
    "1. left always moves with right if there's not a match at current right"
   ]
  },
  {
   "cell_type": "code",
   "execution_count": 58,
   "metadata": {},
   "outputs": [],
   "source": [
    "class Solution:\n",
    "    def findAnagrams(self, s, p):\n",
    "        \"\"\"\n",
    "        :type s: str\n",
    "        :type p: str\n",
    "        :rtype: List[int]\n",
    "        \"\"\"\n",
    "        print(s)\n",
    "        res = []\n",
    "        cnts = [0] * 26\n",
    "        for c in p:\n",
    "            cnts[ord(c) - ord('a')] += 1\n",
    "        left, right = 0, 0\n",
    "        while right < len(s):\n",
    "            cnts[ord(s[right]) - ord('a')] -= 1\n",
    "            print(s[right], cnts[:-20]),\n",
    "            print(\"left\", left, \"right\", right, \"oc\", cnts[ord(s[right]) - ord('a')]),\n",
    "            while left <= right and cnts[ord(s[right]) - ord('a')] < 0:\n",
    "                cnts[ord(s[left]) - ord('a')] += 1\n",
    "                left += 1\n",
    "                print(\"left+=1\"),\n",
    "            if right - left + 1 == len(p):\n",
    "                print(\"left\", left, \"right\", right, s[left:right+1], \"YES\")\n",
    "                \n",
    "                res.append(left)\n",
    "            else:\n",
    "                print(\"left\", left, \"right\", right, s[left:right+1], \"NO\")\n",
    "            right += 1\n",
    "        return res\n",
    "    "
   ]
  },
  {
   "cell_type": "code",
   "execution_count": 59,
   "metadata": {},
   "outputs": [
    {
     "name": "stdout",
     "output_type": "stream",
     "text": [
      "eecbaebabacd\n",
      "('e', [1, 1, 1, 0, -1, 0]) ('left', 0, 'right', 0, 'oc', -1) left+=1 ('left', 1, 'right', 0, '', 'NO')\n",
      "('e', [1, 1, 1, 0, -1, 0]) ('left', 1, 'right', 1, 'oc', -1) left+=1 ('left', 2, 'right', 1, '', 'NO')\n",
      "('c', [1, 1, 0, 0, 0, 0]) ('left', 2, 'right', 2, 'oc', 0) ('left', 2, 'right', 2, 'c', 'NO')\n",
      "('b', [1, 0, 0, 0, 0, 0]) ('left', 2, 'right', 3, 'oc', 0) ('left', 2, 'right', 3, 'cb', 'NO')\n",
      "('a', [0, 0, 0, 0, 0, 0]) ('left', 2, 'right', 4, 'oc', 0) ('left', 2, 'right', 4, 'cba', 'YES')\n",
      "('e', [0, 0, 0, 0, -1, 0]) ('left', 2, 'right', 5, 'oc', -1) left+=1 left+=1 left+=1 left+=1 ('left', 6, 'right', 5, '', 'NO')\n",
      "('b', [1, 0, 1, 0, 0, 0]) ('left', 6, 'right', 6, 'oc', 0) ('left', 6, 'right', 6, 'b', 'NO')\n",
      "('a', [0, 0, 1, 0, 0, 0]) ('left', 6, 'right', 7, 'oc', 0) ('left', 6, 'right', 7, 'ba', 'NO')\n",
      "('b', [0, -1, 1, 0, 0, 0]) ('left', 6, 'right', 8, 'oc', -1) left+=1 ('left', 7, 'right', 8, 'ab', 'NO')\n",
      "('a', [-1, 0, 1, 0, 0, 0]) ('left', 7, 'right', 9, 'oc', -1) left+=1 ('left', 8, 'right', 9, 'ba', 'NO')\n",
      "('c', [0, 0, 0, 0, 0, 0]) ('left', 8, 'right', 10, 'oc', 0) ('left', 8, 'right', 10, 'bac', 'YES')\n",
      "('d', [0, 0, 0, -1, 0, 0]) ('left', 8, 'right', 11, 'oc', -1) left+=1 left+=1 left+=1 left+=1 ('left', 12, 'right', 11, '', 'NO')\n",
      "[2, 8]\n"
     ]
    }
   ],
   "source": [
    "s = Solution()\n",
    "print(s.findAnagrams(\"eecbaebabacd\", \"abc\"))\n"
   ]
  },
  {
   "cell_type": "code",
   "execution_count": null,
   "metadata": {},
   "outputs": [],
   "source": []
  },
  {
   "cell_type": "code",
   "execution_count": null,
   "metadata": {},
   "outputs": [],
   "source": []
  },
  {
   "cell_type": "code",
   "execution_count": 43,
   "metadata": {},
   "outputs": [],
   "source": [
    "class Solution(object):\n",
    "    def repeatedSubstringPattern(self, s):\n",
    "        \"\"\"\n",
    "        :type s: str\n",
    "        :rtype: bool\n",
    "        \"\"\"\n",
    "        longest_ps = 0\n",
    "        pmt = [0]*len(s)\n",
    "        i = 1\n",
    "        while(i < len(s)):\n",
    "            if(s[i] == pmt[longest_ps]):\n",
    "                longest_ps += 1\n",
    "                pmt[i] = longest_ps\n",
    "                i += 1\n",
    "            else:\n",
    "                if(longest_ps == 0):\n",
    "                    pmt[i] = 0\n",
    "                    i += 1\n",
    "                else:\n",
    "                    longest_ps = pmt[longest_ps-1]\n",
    "        if(len(s)%(len(s)-longest_ps) == 0):\n",
    "            return True\n",
    "        else:\n",
    "            return False\n",
    "            \n",
    "                \n",
    "        "
   ]
  },
  {
   "cell_type": "code",
   "execution_count": 44,
   "metadata": {},
   "outputs": [
    {
     "data": {
      "text/plain": [
       "True"
      ]
     },
     "execution_count": 44,
     "metadata": {},
     "output_type": "execute_result"
    }
   ],
   "source": [
    "Solution().repeatedSubstringPattern(\"abcabcsabc\")"
   ]
  },
  {
   "cell_type": "code",
   "execution_count": 5,
   "metadata": {},
   "outputs": [],
   "source": [
    "def computePMT_2(pattern):\n",
    "    longest_ps = 0\n",
    "    pmt = [0]*len(pattern)\n",
    "    i = 1\n",
    "    while(i < len(pattern)):\n",
    "        if(pattern[i] == pmt[longest_ps]):\n",
    "            longest_ps += 1\n",
    "            pmt[i] = longest_ps\n",
    "            i += 1\n",
    "        else:\n",
    "            if(longest_ps == 0):\n",
    "                pmt[i] = 0\n",
    "                i += 1\n",
    "            else:\n",
    "                longest_ps = pmt[longest_ps-1]\n",
    "    return pmt"
   ]
  },
  {
   "cell_type": "code",
   "execution_count": 8,
   "metadata": {
    "code_folding": []
   },
   "outputs": [],
   "source": [
    "def computePMT(pattern):\n",
    "    longest_ps = 0\n",
    "    pmt = [0]*len(pattern)\n",
    "    i = 1\n",
    "    while i < len(pattern):\n",
    "        print \"i= {}\".format(i)\n",
    "        print list(pattern), \"longestps\", longest_ps\n",
    "        print pmt\n",
    "        if pattern[i]== pattern[longest_ps]: \n",
    "            print \"\\tpattern[{}] == pattern[{}] as {} = {}\".format(i, longest_ps, pattern[i], pattern[longest_ps])\n",
    "            longest_ps += 1\n",
    "            pmt[i] = longest_ps\n",
    "            i += 1\n",
    "            print \"\\t\\t increase i and longest_ps\"\n",
    "        else: \n",
    "            print \"\\tpattern[{}] != pattern[{}] as {} != {}\".format(i, longest_ps, pattern[i], pattern[longest_ps])\n",
    "            if longest_ps != 0:\n",
    "                print \"\\t\\t longest_ps = \", longest_ps\n",
    "                print \"\\t\\t longest_ps != 0 ==> set longest_ps to pmt[{}], do not increase i\".format(longest_ps-1)\n",
    "                longest_ps = pmt[longest_ps-1]\n",
    "            else: \n",
    "                pmt[i] = 0\n",
    "                i += 1\n",
    "                print \"\\t\\t longest_ps == 0 ==> set pmt[i] to zero and increment i\"\n",
    "        return pmt"
   ]
  },
  {
   "cell_type": "code",
   "execution_count": 39,
   "metadata": {
    "scrolled": false
   },
   "outputs": [
    {
     "name": "stdout",
     "output_type": "stream",
     "text": [
      "i= 1\n",
      "['a', 'a', 'b', 'a', 'a', 'b'] longestps 0\n",
      "[0, 0, 0, 0, 0, 0]\n",
      "\tpattern[1] == pattern[0] as a = a\n",
      "\t\t increase i and longest_ps\n"
     ]
    },
    {
     "data": {
      "text/plain": [
       "[0, 1, 0, 0, 0, 0]"
      ]
     },
     "execution_count": 39,
     "metadata": {},
     "output_type": "execute_result"
    }
   ],
   "source": [
    "computePMT(\"aabaab\")"
   ]
  },
  {
   "cell_type": "code",
   "execution_count": null,
   "metadata": {},
   "outputs": [],
   "source": []
  },
  {
   "cell_type": "code",
   "execution_count": 28,
   "metadata": {},
   "outputs": [],
   "source": [
    "class Solution(object):\n",
    "    def groupAnagrams(self, strs):\n",
    "        \"\"\"\n",
    "        :type strs: List[str]\n",
    "        :rtype: List[List[str]]\n",
    "        \"\"\"\n",
    "        sorted_strs = []\n",
    "        anagram_groups = {}\n",
    "        for i in range(len(strs)):\n",
    "            print(sorted_strs, anagram_groups)\n",
    "            item = sorted(list(strs[i]), key=lambda k: ord(k)-ord('a'))\n",
    "            if item in sorted_strs:\n",
    "                print(\"found \" + str(item) + \" in sorted_strs - at \" + str(sorted_strs.index(item)))\n",
    "                anagram_groups[sorted_strs.index(item)].append(i)\n",
    "                sorted_strs.append(item)\n",
    "            else:\n",
    "                sorted_strs.append(item)\n",
    "                anagram_groups[i] = [i]\n",
    "        ans = []\n",
    "        for group_index in anagram_groups:\n",
    "            ans.append([strs[x] for x in anagram_groups[group_index]])\n",
    "        print(ans)\n",
    "        \n",
    "    def groupAnagramsAliter(self, strs):\n",
    "        import collections\n",
    "        ans = collections.defaultdict(list)\n",
    "        for s in strs:\n",
    "            ans[tuple(sorted(s))].append(s)\n",
    "        print(ans)"
   ]
  },
  {
   "cell_type": "code",
   "execution_count": 29,
   "metadata": {},
   "outputs": [
    {
     "name": "stdout",
     "output_type": "stream",
     "text": [
      "defaultdict(<class 'list'>, {('a', 'e', 't'): ['eat', 'tea', 'ate'], ('a', 'n', 't'): ['tan', 'nat'], ('a', 'b', 't'): ['bat']})\n"
     ]
    }
   ],
   "source": [
    "# Solution().groupAnagrams([\"eat\", \"tea\", \"tan\", \"ate\", \"nat\", \"bat\"])\n",
    "Solution().groupAnagramsAliter([\"eat\", \"tea\", \"tan\", \"ate\", \"nat\", \"bat\"])"
   ]
  },
  {
   "cell_type": "code",
   "execution_count": null,
   "metadata": {},
   "outputs": [],
   "source": []
  },
  {
   "cell_type": "code",
   "execution_count": 17,
   "metadata": {},
   "outputs": [],
   "source": [
    "class Solution(object):\n",
    "    def findPairs(self, nums, k):\n",
    "        \"\"\"\n",
    "        :type nums: List[int]\n",
    "        :type k: int\n",
    "        :rtype: int\n",
    "        \"\"\"\n",
    "        t_nums = sorted(nums)\n",
    "        kdp = []\n",
    "        for i in range(len(t_nums)):\n",
    "            j = i+1\n",
    "            while(j < len(t_nums) and t_nums[j] - t_nums[i] <= k):\n",
    "#                 print \"Checking out t_nums[{}], {} and t_nums[{}], {}\".format(i, t_nums[i], j, t_nums[j])\n",
    "                if t_nums[j] - t_nums[i] == k and [t_nums[i], t_nums[j]] not in kdp:\n",
    "                    kdp.append([t_nums[i], t_nums[j]])\n",
    "                j += 1\n",
    "        return kdp"
   ]
  },
  {
   "cell_type": "code",
   "execution_count": 18,
   "metadata": {},
   "outputs": [
    {
     "name": "stdout",
     "output_type": "stream",
     "text": [
      "Checking out t_nums[0], 1 and t_nums[1], 1\n",
      "Checking out t_nums[0], 1 and t_nums[2], 3\n",
      "Checking out t_nums[1], 1 and t_nums[2], 3\n",
      "Checking out t_nums[2], 3 and t_nums[3], 4\n",
      "Checking out t_nums[2], 3 and t_nums[4], 5\n",
      "Checking out t_nums[3], 4 and t_nums[4], 5\n",
      "[[1, 3], [3, 5]]\n"
     ]
    }
   ],
   "source": [
    "print Solution().findPairs([3, 1, 4, 1, 5], 2)"
   ]
  },
  {
   "cell_type": "code",
   "execution_count": null,
   "metadata": {},
   "outputs": [],
   "source": []
  },
  {
   "cell_type": "code",
   "execution_count": 27,
   "metadata": {},
   "outputs": [],
   "source": [
    "import collections, random\n",
    "class Codec:\n",
    "    \n",
    "    def __init__(self):\n",
    "        self.allLetters = \"0123456789abcdefghijklmnopqrstuvwxyzABCDEFGHIJKLMNOPQRSTUVWXYZ\"\n",
    "        self.store =  {} #we have a two level hash. First, every 17th letter, and then all urls having 17th as that letter\n",
    "        \n",
    "    def genRandStr(self):\n",
    "        s = \"\"\n",
    "        for i in range(10):\n",
    "            r = random.randint(0,61)\n",
    "            s += self.allLetters[r]\n",
    "        return s\n",
    "        \n",
    "        \n",
    "    def encode(self, longUrl):\n",
    "        \"\"\"Encodes a URL to a shortened URL.\n",
    "        \n",
    "        :type longUrl: str\n",
    "        :rtype: str\n",
    "        \"\"\"\n",
    "        rstr = self.genRandStr()\n",
    "        self.store[rstr] = longUrl\n",
    "        return \"http://tinyurl.com/\" + rstr\n",
    "        \n",
    "    def decode(self, shortUrl):\n",
    "        \"\"\"Decodes a shortened URL to its original URL.\n",
    "        \n",
    "        :type shortUrl: str\n",
    "        :rtype: str\n",
    "        \"\"\"\n",
    "        return(self.store[shortUrl.replace(\"http://tinyurl.com/\", \"\")])\n",
    "        \n"
   ]
  },
  {
   "cell_type": "code",
   "execution_count": 29,
   "metadata": {},
   "outputs": [
    {
     "name": "stdout",
     "output_type": "stream",
     "text": [
      "http://tinyurl.com/KV6UeZbERr\n",
      "https://leetcode.com/problems/design-tinyurl\n"
     ]
    }
   ],
   "source": [
    "c = Codec()\n",
    "tinyurl = c.encode(\"https://leetcode.com/problems/design-tinyurl\")\n",
    "print(tinyurl) #http://tinyurl.com/4e9iAk\n",
    "print(c.decode(tinyurl))"
   ]
  },
  {
   "cell_type": "code",
   "execution_count": null,
   "metadata": {},
   "outputs": [],
   "source": []
  },
  {
   "cell_type": "code",
   "execution_count": 32,
   "metadata": {},
   "outputs": [],
   "source": [
    "# Definition for a binary tree node.\n",
    "class TreeNode(object):\n",
    "    def __init__(self, x):\n",
    "        self.val = x\n",
    "        self.left = None\n",
    "        self.right = None\n",
    "        \n",
    "    def __repr__(self):\n",
    "        if self:\n",
    "            return \"{} -> {} -> {}\".format(self.left, self.val, self.right)\n",
    "\n",
    "class Solution(object):\n",
    "    def __init__(self):\n",
    "        self.total = 0\n",
    "        \n",
    "    def convertBST(self, root):\n",
    "        if root:\n",
    "            self.convertBST(root.right)\n",
    "            self.total += root.val\n",
    "            root.val = self.total\n",
    "            self.convertBST(root.left)\n",
    "        return root"
   ]
  },
  {
   "cell_type": "code",
   "execution_count": 33,
   "metadata": {},
   "outputs": [
    {
     "name": "stdout",
     "output_type": "stream",
     "text": [
      "None -> 1 -> None -> 2 -> None -> 5 -> None -> 12 -> None -> 13 -> None -> 17 -> None -> 25 -> None\n",
      "None -> 75 -> None -> 74 -> None -> 72 -> None -> 67 -> None -> 55 -> None -> 42 -> None -> 25 -> None\n"
     ]
    }
   ],
   "source": [
    "t1 = TreeNode(12)\n",
    "t1.left = TreeNode(2)\n",
    "t1.right = TreeNode(17)\n",
    "t1.left.left = TreeNode(1)\n",
    "t1.left.right = TreeNode(5)\n",
    "t1.right.left = TreeNode(13)\n",
    "t1.right.right = TreeNode(25)\n",
    "\n",
    "print t1\n",
    "print Solution().convertBST(t1)"
   ]
  },
  {
   "cell_type": "code",
   "execution_count": null,
   "metadata": {},
   "outputs": [],
   "source": []
  },
  {
   "cell_type": "markdown",
   "metadata": {},
   "source": [
    "- Beware not to use i>0 and j >0 together\n",
    "- don't use matrix in RHS"
   ]
  },
  {
   "cell_type": "code",
   "execution_count": 25,
   "metadata": {
    "scrolled": false
   },
   "outputs": [
    {
     "name": "stdout",
     "output_type": "stream",
     "text": [
      "[1, 0, 1]\n",
      "[1, 1, 1]\n",
      "[0, 0, 1]\n",
      "\t\t i = 0 | j = 0\n",
      "[inf, inf, inf]\n",
      "[inf, inf, inf]\n",
      "[inf, inf, inf]\n",
      "\t\t i = 0 | j = 1\n",
      "\t\t setting res[0][1] to 0\n",
      "[inf, 0, inf]\n",
      "[inf, inf, inf]\n",
      "[inf, inf, inf]\n",
      "\t\t i = 0 | j = 2\n",
      "\t\t j>0 setting res[0][2] to 1 because matrix[i][j-1]+1 = 1 and matrix[i][j] = 1\n",
      "[inf, 0, 1]\n",
      "[inf, inf, inf]\n",
      "[inf, inf, inf]\n",
      "\t\t i = 1 | j = 0\n",
      "\t\t i>0 setting res[1][0] to inf because matrix[i-1][j]+1 = 2 and matrix[i][j] = 1\n",
      "[inf, 0, 1]\n",
      "[inf, inf, inf]\n",
      "[inf, inf, inf]\n",
      "\t\t i = 1 | j = 1\n",
      "\t\t i>0 setting res[1][1] to 1 because matrix[i-1][j]+1 = 1 and matrix[i][j] = 1\n",
      "\t\t j>0 setting res[1][1] to 1 because matrix[i][j-1]+1 = 2 and matrix[i][j] = 1\n",
      "[inf, 0, 1]\n",
      "[inf, 1, inf]\n",
      "[inf, inf, inf]\n",
      "\t\t i = 1 | j = 2\n",
      "\t\t i>0 setting res[1][2] to 2 because matrix[i-1][j]+1 = 2 and matrix[i][j] = 1\n",
      "\t\t j>0 setting res[1][2] to 2 because matrix[i][j-1]+1 = 2 and matrix[i][j] = 1\n",
      "[inf, 0, 1]\n",
      "[inf, 1, 2]\n",
      "[inf, inf, inf]\n",
      "\t\t i = 2 | j = 0\n",
      "\t\t setting res[2][0] to 0\n",
      "[inf, 0, 1]\n",
      "[inf, 1, 2]\n",
      "[0, inf, inf]\n",
      "\t\t i = 2 | j = 1\n",
      "\t\t setting res[2][1] to 0\n",
      "[inf, 0, 1]\n",
      "[inf, 1, 2]\n",
      "[0, 0, inf]\n",
      "\t\t i = 2 | j = 2\n",
      "\t\t i>0 setting res[2][2] to 3 because matrix[i-1][j]+1 = 2 and matrix[i][j] = 1\n",
      "\t\t j>0 setting res[2][2] to 1 because matrix[i][j-1]+1 = 1 and matrix[i][j] = 1\n",
      "[inf, 0, 1]\n",
      "[inf, 1, 2]\n",
      "[0, 0, 1]\n",
      "----------\n",
      "\t\t i = 2 | j = 2\n",
      "[inf, 0, 1]\n",
      "[inf, 1, 2]\n",
      "[0, 0, 1]\n",
      "\t\t i = 2 | j = 1\n",
      "\t\t setting res[2][1] to 0\n",
      "[inf, 0, 1]\n",
      "[inf, 1, 2]\n",
      "[0, 0, 1]\n",
      "\t\t i = 2 | j = 0\n",
      "\t\t setting res[2][0] to 0\n",
      "[inf, 0, 1]\n",
      "[inf, 1, 2]\n",
      "[0, 0, 1]\n",
      "\t\t i = 1 | j = 2\n",
      "\t\t i < imax-1 setting res[1][2] to 2 because res[i+1][j]+1 = 2 and res[i][j] = 2\n",
      "[inf, 0, 1]\n",
      "[inf, 1, 2]\n",
      "[0, 0, 1]\n",
      "\t\t i = 1 | j = 1\n",
      "\t\t i < imax-1 setting res[1][1] to 1 because res[i+1][j]+1 = 1 and res[i][j] = 1\n",
      "\t\t j < jmax-1 setting res[1][1] to 1 because res[i][j+1]+1 = 3 and res[i][j] = 1\n",
      "[inf, 0, 1]\n",
      "[inf, 1, 2]\n",
      "[0, 0, 1]\n",
      "\t\t i = 1 | j = 0\n",
      "\t\t i < imax-1 setting res[1][0] to 1 because res[i+1][j]+1 = 1 and res[i][j] = 1\n",
      "\t\t j < jmax-1 setting res[1][0] to 1 because res[i][j+1]+1 = 2 and res[i][j] = 1\n",
      "[inf, 0, 1]\n",
      "[1, 1, 2]\n",
      "[0, 0, 1]\n",
      "\t\t i = 0 | j = 2\n",
      "\t\t i < imax-1 setting res[0][2] to 1 because res[i+1][j]+1 = 3 and res[i][j] = 1\n",
      "[inf, 0, 1]\n",
      "[1, 1, 2]\n",
      "[0, 0, 1]\n",
      "\t\t i = 0 | j = 1\n",
      "\t\t setting res[0][1] to 0\n",
      "[inf, 0, 1]\n",
      "[1, 1, 2]\n",
      "[0, 0, 1]\n",
      "\t\t i = 0 | j = 0\n",
      "\t\t i < imax-1 setting res[0][0] to 2 because res[i+1][j]+1 = 2 and res[i][j] = 2\n",
      "\t\t j < jmax-1 setting res[0][0] to 1 because res[i][j+1]+1 = 1 and res[i][j] = 1\n",
      "[1, 0, 1]\n",
      "[1, 1, 2]\n",
      "[0, 0, 1]\n",
      "\n",
      "\n",
      "\n",
      "[1, 0, 1]\n",
      "[1, 1, 1]\n",
      "[0, 0, 1]\n",
      "\n",
      "\n",
      "[1, 0, 1]\n",
      "[1, 1, 2]\n",
      "[0, 0, 1]\n"
     ]
    }
   ],
   "source": [
    "import random\n",
    "\n",
    "def pprint(m):\n",
    "    for _ in m:\n",
    "        print(_)\n",
    "\n",
    "def distZero(matrix):\n",
    "    if len(matrix) == 0:\n",
    "        return matrix\n",
    "    imax = len(matrix)\n",
    "    jmax = len(matrix[0])\n",
    "    res = [[float(\"inf\") for j in range(jmax)] for i in range(imax)]\n",
    "    for i in range(imax):\n",
    "        for j in range(jmax):\n",
    "            print(\"\\t\\t i = \" + str(i) + \" | j = \" + str(j))\n",
    "            if matrix[i][j]==0:\n",
    "                print(\"\\t\\t setting res[\" + str(i) + \"][\" + str(j) + \"] to 0\")\n",
    "                res[i][j] = 0\n",
    "            else:\n",
    "                if i>0:\n",
    "                    res[i][j] = min(res[i-1][j]+1, res[i][j])\n",
    "                    print(\"\\t\\t i>0 setting res[\" + str(i) + \"][\" + str(j) + \"] to \" + str(res[i][j]) + \" because matrix[i-1][j]+1 = \" + str(matrix[i-1][j]+1) + \" and matrix[i][j] = \" + str(matrix[i][j]))\n",
    "                if j>0:\n",
    "                    res[i][j] = min(res[i][j-1]+1, res[i][j])\n",
    "                    print(\"\\t\\t j>0 setting res[\" + str(i) + \"][\" + str(j) + \"] to \" + str(res[i][j]) + \" because matrix[i][j-1]+1 = \" + str(matrix[i][j-1]+1) + \" and matrix[i][j] = \" + str(matrix[i][j]))\n",
    "            pprint(res)\n",
    "        \n",
    "    print(\"----------\")\n",
    "    for i in reversed(range(imax)):\n",
    "        for j in reversed(range(jmax)):\n",
    "            print(\"\\t\\t i = \" + str(i) + \" | j = \" + str(j))\n",
    "            if matrix[i][j]==0:\n",
    "                print(\"\\t\\t setting res[\" + str(i) + \"][\" + str(j) + \"] to 0\")\n",
    "                res[i][j] = 0\n",
    "            else:\n",
    "                if i < imax-1:\n",
    "                    res[i][j] = min(res[i+1][j]+1, res[i][j])\n",
    "                    print(\"\\t\\t i < imax-1 setting res[\" + str(i) + \"][\" + str(j) + \"] to \" + str(res[i][j]) + \" because res[i+1][j]+1 = \" + str(res[i+1][j]+1) + \" and res[i][j] = \" + str(res[i][j]))\n",
    "                if j < jmax-1:\n",
    "                    res[i][j] = min(res[i][j+1]+1, res[i][j])\n",
    "                    print(\"\\t\\t j < jmax-1 setting res[\" + str(i) + \"][\" + str(j) + \"] to \" + str(res[i][j]) + \" because res[i][j+1]+1 = \" + str(res[i][j+1]+1) + \" and res[i][j] = \" + str(res[i][j]))\n",
    "            pprint(res)\n",
    "    print(\"\\n\\n\")\n",
    "    pprint(matrix)\n",
    "    print(\"\\n\")\n",
    "    return res\n",
    "\n",
    "# testmatrix = [[random.randint(0,1) for _ in range(3)] for _ in range(3)]\n",
    "testmatrix = [[1, 0, 1], [1, 1, 1], [0, 0, 1]]\n",
    "pprint(testmatrix)\n",
    "pprint(distZero(testmatrix))\n",
    "            "
   ]
  },
  {
   "cell_type": "code",
   "execution_count": null,
   "metadata": {},
   "outputs": [],
   "source": []
  },
  {
   "cell_type": "code",
   "execution_count": null,
   "metadata": {},
   "outputs": [],
   "source": []
  },
  {
   "cell_type": "code",
   "execution_count": null,
   "metadata": {},
   "outputs": [],
   "source": []
  },
  {
   "cell_type": "code",
   "execution_count": null,
   "metadata": {},
   "outputs": [],
   "source": []
  },
  {
   "cell_type": "code",
   "execution_count": 22,
   "metadata": {},
   "outputs": [],
   "source": [
    "# Definition for a binary tree node.\n",
    "class TreeNode(object):\n",
    "    def __init__(self, x):\n",
    "        self.val = x\n",
    "        self.left = None\n",
    "        self.right = None\n",
    "\n",
    "class Solution(object):\n",
    "        \n",
    "    def tree2str(self, t):\n",
    "        \"\"\"\n",
    "        :type t: TreeNode\n",
    "        :rtype: str\n",
    "        \"\"\"\n",
    "        if not t:\n",
    "            return \"\"\n",
    "        if not t.left and not t.right:\n",
    "            return str(t.val)\n",
    "        if not t.right:\n",
    "            return str(t.val) + \"(\" + self.tree2str(t.left) + \")\" \n",
    "        return str(t.val) + \"(\" + self.tree2str(t.left) + \")\" + \"(\" + self.tree2str(t.right) + \")\"\n",
    "        \n",
    "        "
   ]
  },
  {
   "cell_type": "code",
   "execution_count": 23,
   "metadata": {},
   "outputs": [
    {
     "name": "stdout",
     "output_type": "stream",
     "text": [
      "1(2(4))(3)\n"
     ]
    }
   ],
   "source": [
    "t1 = TreeNode(1)\n",
    "t1.left = TreeNode(2)\n",
    "t1.right = TreeNode(3)\n",
    "t1.left.left = TreeNode(4)\n",
    "\n",
    "print Solution().tree2str(t1)"
   ]
  },
  {
   "cell_type": "code",
   "execution_count": null,
   "metadata": {},
   "outputs": [],
   "source": []
  },
  {
   "cell_type": "code",
   "execution_count": 6,
   "metadata": {},
   "outputs": [],
   "source": [
    "# Definition for a binary tree node.\n",
    "class TreeNode(object):\n",
    "    def __init__(self, x):\n",
    "        self.val = x\n",
    "        self.left = None\n",
    "        self.right = None\n",
    "\n",
    "class Solution(object):\n",
    "    def mergeTrees(self, t1, t2):\n",
    "        \"\"\"\n",
    "        :type t1: TreeNode\n",
    "        :type t2: TreeNode\n",
    "        :rtype: TreeNode\n",
    "        \"\"\"\n",
    "        if(t1 == None):\n",
    "            return t2\n",
    "        elif(t2 == None):\n",
    "            return t1\n",
    "        t1.val += t2.val\n",
    "        t1.left = self.mergeTrees(t1.left, t2.left)\n",
    "        t1.right = self.mergeTrees(t1.right, t2.right)\n",
    "        return t1\n",
    "        "
   ]
  },
  {
   "cell_type": "code",
   "execution_count": 7,
   "metadata": {},
   "outputs": [
    {
     "name": "stdout",
     "output_type": "stream",
     "text": [
      "<__main__.TreeNode object at 0x106febe10>\n",
      "<__main__.TreeNode object at 0x106febe10>\n"
     ]
    }
   ],
   "source": [
    "t1 = TreeNode(1)\n",
    "t1.left = TreeNode(3)\n",
    "t1.right = TreeNode(2)\n",
    "t1.left.left = TreeNode(5)\n",
    "\n",
    "t2 = TreeNode(2)\n",
    "t1.left = TreeNode(1)\n",
    "t1.right = TreeNode(3)\n",
    "t1.left.right = TreeNode(4)\n",
    "t1.right.right = TreeNode(7)\n",
    "\n",
    "print t1\n",
    "print Solution().mergeTrees(t1, t2)"
   ]
  },
  {
   "cell_type": "code",
   "execution_count": null,
   "metadata": {},
   "outputs": [],
   "source": []
  },
  {
   "cell_type": "code",
   "execution_count": null,
   "metadata": {},
   "outputs": [],
   "source": [
    "class Solution(object):\n",
    "    def findErrorNums(self, nums):\n",
    "        \"\"\"\n",
    "        :type nums: List[int]\n",
    "        :rtype: List[int]\n",
    "        \"\"\"\n",
    "        nums.sort()\n",
    "        for i in range(1,len(nums)):\n",
    "            if nums[i]== nums[i-1]:\n",
    "                return [nums[i-1], nums[i-1]+1]"
   ]
  },
  {
   "cell_type": "markdown",
   "metadata": {},
   "source": [
    "## Discussion on why this code doesn't work as expected?\n",
    "\n",
    "Notice the first statement :\n",
    "\n",
    "`S = [[0]*len(M[0])]*len(M)`\n",
    "\n",
    "You're essentially assigning an array `[0, 0, 0, 0 ..]` - call it \"A\" and then multiplying it `len(M)` times - thus you have `len(M)` references of `A` in `S`. Thus, whenever you modify any instance of `A`, all instances get modified."
   ]
  },
  {
   "cell_type": "code",
   "execution_count": 66,
   "metadata": {},
   "outputs": [],
   "source": [
    "class Solution(object):\n",
    "    def imageSmoother(self, M):\n",
    "        \"\"\"\n",
    "        :type M: List[List[int]]\n",
    "        :rtype: List[List[int]]\n",
    "        \"\"\"\n",
    "        S = [[0]*len(M[0])]*len(M)\n",
    "        ssum = 0\n",
    "        for i in range(0,len(M)):\n",
    "            for j in range(0,len(M[0])):\n",
    "                ssum = M[i][j]\n",
    "                cnt = 1\n",
    "                if i > 0:\n",
    "                    ssum += M[i-1][j]\n",
    "                    cnt += 1\n",
    "                if i < len(M)-1:\n",
    "                    ssum += M[i+1][j]\n",
    "                    cnt += 1\n",
    "                if j > 0:\n",
    "                    ssum += M[i][j-1]\n",
    "                    cnt += 1\n",
    "                if j < len(M[0])-1:\n",
    "                    ssum += M[i][j+1]\n",
    "                    cnt += 1\n",
    "                if i > 0 and j > 0:\n",
    "                    ssum += M[i-1][j-1]\n",
    "                    cnt += 1\n",
    "                if i > 0 and j < len(M[0])-1:\n",
    "                    ssum += M[i-1][j+1]\n",
    "                    cnt += 1\n",
    "                if i < len(M)-1 and j > 0:\n",
    "                    ssum += M[i+1][j-1]\n",
    "                    cnt += 1\n",
    "                if i < len(M)-1 and j < len(M[0])-1:\n",
    "                    ssum += M[i+1][j+1]\n",
    "                    cnt += 1\n",
    "                S[i][j] = int(ssum/cnt)\n",
    "                print(\"Accessing {}, {}\".format(i,j)),\n",
    "                print \"S[{}][{}] = {}/{} = {}, {}\".format(i,j,ssum,cnt, S[i][j], S)\n",
    "        print(S)\n",
    "        return S\n",
    "    "
   ]
  },
  {
   "cell_type": "code",
   "execution_count": 67,
   "metadata": {},
   "outputs": [
    {
     "name": "stdout",
     "output_type": "stream",
     "text": [
      "Accessing 0, 0 S[0][0] = 16/4 = 4, [[4, 0, 0], [4, 0, 0], [4, 0, 0], [4, 0, 0], [4, 0, 0]]\n",
      "Accessing 0, 1 S[0][1] = 27/6 = 4, [[4, 4, 0], [4, 4, 0], [4, 4, 0], [4, 4, 0], [4, 4, 0]]\n",
      "Accessing 0, 2 S[0][2] = 20/4 = 5, [[4, 4, 5], [4, 4, 5], [4, 4, 5], [4, 4, 5], [4, 4, 5]]\n",
      "Accessing 1, 0 S[1][0] = 33/6 = 5, [[5, 4, 5], [5, 4, 5], [5, 4, 5], [5, 4, 5], [5, 4, 5]]\n",
      "Accessing 1, 1 S[1][1] = 54/9 = 6, [[5, 6, 5], [5, 6, 5], [5, 6, 5], [5, 6, 5], [5, 6, 5]]\n",
      "Accessing 1, 2 S[1][2] = 39/6 = 6, [[5, 6, 6], [5, 6, 6], [5, 6, 6], [5, 6, 6], [5, 6, 6]]\n",
      "Accessing 2, 0 S[2][0] = 51/6 = 8, [[8, 6, 6], [8, 6, 6], [8, 6, 6], [8, 6, 6], [8, 6, 6]]\n",
      "Accessing 2, 1 S[2][1] = 81/9 = 9, [[8, 9, 6], [8, 9, 6], [8, 9, 6], [8, 9, 6], [8, 9, 6]]\n",
      "Accessing 2, 2 S[2][2] = 57/6 = 9, [[8, 9, 9], [8, 9, 9], [8, 9, 9], [8, 9, 9], [8, 9, 9]]\n",
      "Accessing 3, 0 S[3][0] = 69/6 = 11, [[11, 9, 9], [11, 9, 9], [11, 9, 9], [11, 9, 9], [11, 9, 9]]\n",
      "Accessing 3, 1 S[3][1] = 108/9 = 12, [[11, 12, 9], [11, 12, 9], [11, 12, 9], [11, 12, 9], [11, 12, 9]]\n",
      "Accessing 3, 2 S[3][2] = 75/6 = 12, [[11, 12, 12], [11, 12, 12], [11, 12, 12], [11, 12, 12], [11, 12, 12]]\n",
      "Accessing 4, 0 S[4][0] = 52/4 = 13, [[13, 12, 12], [13, 12, 12], [13, 12, 12], [13, 12, 12], [13, 12, 12]]\n",
      "Accessing 4, 1 S[4][1] = 81/6 = 13, [[13, 13, 12], [13, 13, 12], [13, 13, 12], [13, 13, 12], [13, 13, 12]]\n",
      "Accessing 4, 2 S[4][2] = 56/4 = 14, [[13, 13, 14], [13, 13, 14], [13, 13, 14], [13, 13, 14], [13, 13, 14]]\n",
      "[[13, 13, 14], [13, 13, 14], [13, 13, 14], [13, 13, 14], [13, 13, 14]]\n"
     ]
    },
    {
     "data": {
      "text/plain": [
       "[[13, 13, 14], [13, 13, 14], [13, 13, 14], [13, 13, 14], [13, 13, 14]]"
      ]
     },
     "execution_count": 67,
     "metadata": {},
     "output_type": "execute_result"
    }
   ],
   "source": [
    "Solution().imageSmoother([[2,3,4],[5,6,7],[8,9,10],[11,12,13],[14,15,16]])"
   ]
  },
  {
   "cell_type": "code",
   "execution_count": 70,
   "metadata": {},
   "outputs": [],
   "source": [
    "class Solution(object):\n",
    "    def imageSmootherCorrected(self, M):\n",
    "        \"\"\"\n",
    "        :type M: List[List[int]]\n",
    "        :rtype: List[List[int]]\n",
    "        \"\"\"\n",
    "        S = []\n",
    "        for i in range(0,len(M)):\n",
    "            row = []\n",
    "            for j in range(0,len(M[0])):\n",
    "                ssum = M[i][j]\n",
    "                cnt = 1\n",
    "                if i > 0:\n",
    "                    ssum += M[i-1][j]\n",
    "                    cnt += 1\n",
    "                if i < len(M)-1:\n",
    "                    ssum += M[i+1][j]\n",
    "                    cnt += 1\n",
    "                if j > 0:\n",
    "                    ssum += M[i][j-1]\n",
    "                    cnt += 1\n",
    "                if j < len(M[0])-1:\n",
    "                    ssum += M[i][j+1]\n",
    "                    cnt += 1\n",
    "                if i > 0 and j > 0:\n",
    "                    ssum += M[i-1][j-1]\n",
    "                    cnt += 1\n",
    "                if i > 0 and j < len(M[0])-1:\n",
    "                    ssum += M[i-1][j+1]\n",
    "                    cnt += 1\n",
    "                if i < len(M)-1 and j > 0:\n",
    "                    ssum += M[i+1][j-1]\n",
    "                    cnt += 1\n",
    "                if i < len(M)-1 and j < len(M[0])-1:\n",
    "                    ssum += M[i+1][j+1]\n",
    "                    cnt += 1\n",
    "                row.append(int(ssum/cnt))\n",
    "            S.append(row)\n",
    "        return S"
   ]
  },
  {
   "cell_type": "code",
   "execution_count": 72,
   "metadata": {},
   "outputs": [
    {
     "data": {
      "text/plain": [
       "[[4, 4, 5], [5, 6, 6], [8, 9, 9], [11, 12, 12], [13, 13, 14]]"
      ]
     },
     "execution_count": 72,
     "metadata": {},
     "output_type": "execute_result"
    }
   ],
   "source": [
    "Solution().imageSmootherCorrected([[2,3,4],[5,6,7],[8,9,10],[11,12,13],[14,15,16]])"
   ]
  },
  {
   "cell_type": "code",
   "execution_count": null,
   "metadata": {},
   "outputs": [],
   "source": []
  },
  {
   "cell_type": "code",
   "execution_count": 12,
   "metadata": {},
   "outputs": [],
   "source": [
    "class Solution:\n",
    "    def calPoints(self, ops):\n",
    "        \"\"\"\n",
    "        :type ops: List[str]\n",
    "        :rtype: int\n",
    "        \"\"\"\n",
    "        real_pts = []\n",
    "        valid_rounds = []\n",
    "        for i in range(len(ops)):\n",
    "            op = ops[i]\n",
    "            print(real_pts, valid_rounds, op)\n",
    "            if op.isdigit() or (op.startswith('-') and op[1:].isdigit()):\n",
    "                real_pts.append(int(op))\n",
    "                valid_rounds.append(i)\n",
    "            elif op == \"C\":\n",
    "                real_pts[valid_rounds[-1]] = 0\n",
    "                real_pts.append(0)\n",
    "                del valid_rounds[-1]\n",
    "            elif op == \"D\":\n",
    "                real_pts.append(2*real_pts[valid_rounds[-1]])\n",
    "                valid_rounds.append(i)\n",
    "            else:\n",
    "                real_pts.append(real_pts[valid_rounds[-1]] + real_pts[valid_rounds[-2]])\n",
    "                valid_rounds.append(i)\n",
    "        return sum(real_pts)\n",
    "                \n",
    "                "
   ]
  },
  {
   "cell_type": "code",
   "execution_count": 13,
   "metadata": {},
   "outputs": [
    {
     "name": "stdout",
     "output_type": "stream",
     "text": [
      "([], [], '5')\n",
      "([5], [0], '-2')\n",
      "([5, -2], [0, 1], '4')\n",
      "([5, -2, 4], [0, 1, 2], 'C')\n",
      "([5, -2, 0, 0], [0, 1], 'D')\n",
      "([5, -2, 0, 0, -4], [0, 1, 4], '9')\n",
      "([5, -2, 0, 0, -4, 9], [0, 1, 4, 5], '+')\n",
      "([5, -2, 0, 0, -4, 9, 5], [0, 1, 4, 5, 6], '+')\n",
      "27\n"
     ]
    }
   ],
   "source": [
    "s = Solution()\n",
    "print(s.calPoints([\"5\",\"-2\",\"4\",\"C\",\"D\",\"9\",\"+\",\"+\"]))"
   ]
  },
  {
   "cell_type": "code",
   "execution_count": null,
   "metadata": {},
   "outputs": [],
   "source": []
  },
  {
   "cell_type": "code",
   "execution_count": 26,
   "metadata": {},
   "outputs": [],
   "source": [
    "class Solution(object):\n",
    "    def letterCombinations(self, digits):\n",
    "        \"\"\"\n",
    "        :type digits: str\n",
    "        :rtype: List[str]\n",
    "        \"\"\"\n",
    "        import itertools\n",
    "        char_map = {1: \"\", 2: \"abc\", 3: \"def\", 4: \"ghi\", 5: \"jkl\", 6: \"mno\", 7: \"pqrs\", 8: \"tuv\", 9: \"wxyz\"}\n",
    "        possibleCombs = []\n",
    "        for digit in digits:\n",
    "            possibleCombs.append(list(char_map[int(digit)]))\n",
    "        print(possibleCombs)\n",
    "        allCombs = list(itertools.product(*possibleCombs))\n",
    "        return [\"\".join(x) for x in allCombs]\n",
    "    \n",
    "    def letterCombinationsAliter(self, digits):\n",
    "        phone = {'2': ['a', 'b', 'c'],\n",
    "         '3': ['d', 'e', 'f'],\n",
    "         '4': ['g', 'h', 'i'],\n",
    "         '5': ['j', 'k', 'l'],\n",
    "         '6': ['m', 'n', 'o'],\n",
    "         '7': ['p', 'q', 'r', 's'],\n",
    "         '8': ['t', 'u', 'v'],\n",
    "         '9': ['w', 'x', 'y', 'z']}\n",
    "        def backtrack(combs, next_digits):\n",
    "            if len(next_digits) == 0:\n",
    "                result.append(combs)\n",
    "            else:\n",
    "                for letter in phone[next_digits[0]]:\n",
    "                    backtrack(combs + letter, next_digits[1:])\n",
    "        result = []\n",
    "        backtrack(\"\", digits)\n",
    "        return result\n",
    "                "
   ]
  },
  {
   "cell_type": "code",
   "execution_count": 28,
   "metadata": {},
   "outputs": [
    {
     "name": "stdout",
     "output_type": "stream",
     "text": [
      "[['a', 'b', 'c'], ['d', 'e', 'f']]\n",
      "['ad', 'ae', 'af', 'bd', 'be', 'bf', 'cd', 'ce', 'cf']\n",
      "['ad', 'ae', 'af', 'bd', 'be', 'bf', 'cd', 'ce', 'cf']\n"
     ]
    }
   ],
   "source": [
    "print(Solution().letterCombinations(\"23\"))\n",
    "print(Solution().letterCombinationsAliter(\"23\"))"
   ]
  },
  {
   "cell_type": "code",
   "execution_count": null,
   "metadata": {},
   "outputs": [],
   "source": []
  },
  {
   "cell_type": "code",
   "execution_count": 42,
   "metadata": {},
   "outputs": [],
   "source": [
    "class Solution(object):\n",
    "    def setZeroes(self, matrix):\n",
    "        \"\"\"\n",
    "        :type matrix: List[List[int]]\n",
    "        :rtype: void Do not return anything, modify matrix in-place instead.\n",
    "        \"\"\"\n",
    "        for i in matrix:\n",
    "            print (i)\n",
    "        print(\"\\n\")\n",
    "        \n",
    "        isFCZero = False\n",
    "        \n",
    "        for i in range(len(matrix)):\n",
    "            if matrix[i][0] == 0:\n",
    "#                     print(\"Setting isFCZero = True because matrix[{}][0] == 0\".format(i))\n",
    "                isFCZero = True\n",
    "            for j in range(1,len(matrix[0])):\n",
    "#                 print(i,j)\n",
    "                if matrix[i][j] == 0:\n",
    "                    matrix[i][0] = 0\n",
    "                    matrix[0][j] = 0\n",
    "                    \n",
    "        for i in matrix:\n",
    "            print (i)\n",
    "        print(\"\\n\")\n",
    "        \n",
    "        for i in range(1,len(matrix)):\n",
    "            for j in range(1,len(matrix[0])):\n",
    "                if matrix[i][0] == 0 or matrix[0][j] == 0:\n",
    "                    matrix[i][j] = 0\n",
    "        \n",
    "\n",
    "        for i in matrix:\n",
    "            print (i)\n",
    "        \n",
    "        if matrix[0][0] == 0:\n",
    "            for i in range(len(matrix[0])):\n",
    "                matrix[0][i] = 0\n",
    "                \n",
    "        print(\"\\n\")\n",
    "        if isFCZero:\n",
    "            for i in range(len(matrix)):\n",
    "                matrix[i][0] = 0\n",
    "                \n",
    "\n",
    "\n",
    "        for i in matrix:\n",
    "            print (i)\n",
    "            "
   ]
  },
  {
   "cell_type": "code",
   "execution_count": 43,
   "metadata": {},
   "outputs": [
    {
     "name": "stdout",
     "output_type": "stream",
     "text": [
      "[1, 0, 2, 10]\n",
      "[3, 1, 5, 2]\n",
      "[1, 3, 1, 5]\n",
      "\n",
      "\n",
      "[0, 0, 2, 10]\n",
      "[3, 1, 5, 2]\n",
      "[1, 3, 1, 5]\n",
      "\n",
      "\n",
      "[0, 0, 2, 10]\n",
      "[3, 0, 5, 2]\n",
      "[1, 0, 1, 5]\n",
      "\n",
      "\n",
      "[0, 0, 0, 0]\n",
      "[3, 0, 5, 2]\n",
      "[1, 0, 1, 5]\n"
     ]
    }
   ],
   "source": [
    "Solution().setZeroes([[1,0,2,10],[3,1,5,2],[1,3,1,5]])"
   ]
  },
  {
   "cell_type": "code",
   "execution_count": null,
   "metadata": {},
   "outputs": [],
   "source": []
  },
  {
   "cell_type": "code",
   "execution_count": 9,
   "metadata": {},
   "outputs": [],
   "source": [
    "class Solution(object):\n",
    "    def countPrimeSetBits(self, L, R):\n",
    "        \"\"\"\n",
    "        :type L: int\n",
    "        :type R: int\n",
    "        :rtype: int\n",
    "        \"\"\"\n",
    "        cntr = 0\n",
    "        primes = [2, 3, 5, 7, 11, 13, 17, 19]\n",
    "        for i in range(L, R+1):\n",
    "            if(bin(i).count('1') in primes):\n",
    "                cntr += 1\n",
    "        return cntr\n",
    "            "
   ]
  },
  {
   "cell_type": "code",
   "execution_count": 10,
   "metadata": {},
   "outputs": [
    {
     "data": {
      "text/plain": [
       "5"
      ]
     },
     "execution_count": 10,
     "metadata": {},
     "output_type": "execute_result"
    }
   ],
   "source": [
    "Solution().countPrimeSetBits(5, 10)"
   ]
  },
  {
   "cell_type": "code",
   "execution_count": null,
   "metadata": {},
   "outputs": [],
   "source": []
  },
  {
   "cell_type": "code",
   "execution_count": 19,
   "metadata": {},
   "outputs": [],
   "source": [
    "\n",
    "class Solution(object):\n",
    "    def partitionLabels(self, S):\n",
    "        \"\"\"\n",
    "        :type S: str\n",
    "        :rtype: List[int]\n",
    "        \"\"\"\n",
    "        lastOccurence = {}\n",
    "        for idx, c in enumerate(S):\n",
    "            lastOccurence[c] = idx\n",
    "        \n",
    "        ans = []\n",
    "        anchor = 0\n",
    "        maybe_break_here = 0\n",
    "        print(lastOccurence)\n",
    "        \n",
    "        for this_index, c in enumerate(S):\n",
    "            maybe_break_here = max(maybe_break_here, lastOccurence[c])\n",
    "            if maybe_break_here == this_index:\n",
    "                ans.append(this_index-anchor+1)\n",
    "                anchor = this_index + 1\n",
    "            print(\"maybe_break_here is now \"+str(maybe_break_here))\n",
    "        print(ans)"
   ]
  },
  {
   "cell_type": "code",
   "execution_count": 20,
   "metadata": {},
   "outputs": [
    {
     "name": "stdout",
     "output_type": "stream",
     "text": [
      "{'a': 8, 'b': 5, 'c': 7, 'd': 14, 'e': 15, 'f': 11, 'g': 13, 'h': 19, 'i': 22, 'j': 23, 'k': 20, 'l': 21}\n",
      "maybe_break_here is now 8\n",
      "maybe_break_here is now 8\n",
      "maybe_break_here is now 8\n",
      "maybe_break_here is now 8\n",
      "maybe_break_here is now 8\n",
      "maybe_break_here is now 8\n",
      "maybe_break_here is now 8\n",
      "maybe_break_here is now 8\n",
      "maybe_break_here is now 8\n",
      "maybe_break_here is now 14\n",
      "maybe_break_here is now 15\n",
      "maybe_break_here is now 15\n",
      "maybe_break_here is now 15\n",
      "maybe_break_here is now 15\n",
      "maybe_break_here is now 15\n",
      "maybe_break_here is now 15\n",
      "maybe_break_here is now 19\n",
      "maybe_break_here is now 22\n",
      "maybe_break_here is now 23\n",
      "maybe_break_here is now 23\n",
      "maybe_break_here is now 23\n",
      "maybe_break_here is now 23\n",
      "maybe_break_here is now 23\n",
      "maybe_break_here is now 23\n",
      "[9, 7, 8]\n"
     ]
    }
   ],
   "source": [
    "Solution().partitionLabels(\"ababcbacadefegdehijhklij\")"
   ]
  },
  {
   "cell_type": "code",
   "execution_count": null,
   "metadata": {},
   "outputs": [],
   "source": []
  },
  {
   "cell_type": "code",
   "execution_count": null,
   "metadata": {},
   "outputs": [],
   "source": []
  },
  {
   "cell_type": "code",
   "execution_count": 1,
   "metadata": {},
   "outputs": [],
   "source": [
    "class Solution(object):\n",
    "    def numJewelsInStones(self, J, S):\n",
    "        \"\"\"\n",
    "        :type J: str\n",
    "        :type S: str\n",
    "        :rtype: int\n",
    "        \"\"\"\n",
    "        import collections\n",
    "        stones_c = collections.Counter(S)\n",
    "        cnt = 0\n",
    "        for stone in stones_c:\n",
    "            if(stone in J):\n",
    "                cnt += stones_c[stone]\n",
    "        return cnt\n",
    "        "
   ]
  },
  {
   "cell_type": "code",
   "execution_count": 2,
   "metadata": {},
   "outputs": [
    {
     "data": {
      "text/plain": [
       "3"
      ]
     },
     "execution_count": 2,
     "metadata": {},
     "output_type": "execute_result"
    }
   ],
   "source": [
    "Solution().numJewelsInStones(\"aA\", \"aAAbbbb\")"
   ]
  },
  {
   "cell_type": "code",
   "execution_count": null,
   "metadata": {},
   "outputs": [],
   "source": []
  },
  {
   "cell_type": "code",
   "execution_count": 29,
   "metadata": {},
   "outputs": [],
   "source": [
    "class Solution(object):\n",
    "    def powerset(s):\n",
    "        x = len(s)\n",
    "        masks = [1 << i for i in range(x)]\n",
    "        for i in range(1 << x):\n",
    "            for mask, ss in zp(masks, s):\n",
    "                if i& mask:\n",
    "                    yield ss\n",
    "            yield [ss for mask, ss in zip(masks, s) if i & mask]\n",
    "        \n",
    "    def subsets(self, nums):\n",
    "        \"\"\"\n",
    "        :type nums: List[int]\n",
    "        :rtype: List[List[int]]\n",
    "        \"\"\"\n",
    "        lnums = len(nums)\n",
    "        bigger = [i for i in range(1 << lnums)]\n",
    "        smaller = [1<<i for i in range(lnums)]\n",
    "        powerset = []\n",
    "        for i in bigger:\n",
    "            set = []\n",
    "            for j, element in zip(smaller, nums):\n",
    "                if i&j:\n",
    "                    set.append(element)\n",
    "            powerset.append(set)\n",
    "        print(powerset)\n",
    "            "
   ]
  },
  {
   "cell_type": "code",
   "execution_count": 30,
   "metadata": {},
   "outputs": [
    {
     "name": "stdout",
     "output_type": "stream",
     "text": [
      "[[], [3], [5], [3, 5], [8], [3, 8], [5, 8], [3, 5, 8], [-3], [3, -3], [5, -3], [3, 5, -3], [8, -3], [3, 8, -3], [5, 8, -3], [3, 5, 8, -3], [4], [3, 4], [5, 4], [3, 5, 4], [8, 4], [3, 8, 4], [5, 8, 4], [3, 5, 8, 4], [-3, 4], [3, -3, 4], [5, -3, 4], [3, 5, -3, 4], [8, -3, 4], [3, 8, -3, 4], [5, 8, -3, 4], [3, 5, 8, -3, 4]]\n"
     ]
    }
   ],
   "source": [
    "Solution().subsets([3,5,8,-3,4])"
   ]
  },
  {
   "cell_type": "code",
   "execution_count": null,
   "metadata": {},
   "outputs": [],
   "source": []
  },
  {
   "cell_type": "code",
   "execution_count": null,
   "metadata": {},
   "outputs": [],
   "source": []
  },
  {
   "cell_type": "markdown",
   "metadata": {},
   "source": [
    "### Welcome to the most Disliked Question on LC !\n",
    "\n",
    "To memorize:\n",
    "   # `str = re.findall('(^[\\+\\-0]*\\d+)\\D*', str)`"
   ]
  },
  {
   "cell_type": "code",
   "execution_count": 12,
   "metadata": {},
   "outputs": [],
   "source": [
    "import re\n",
    "class Solution(object):\n",
    "    def myAtoi(self, strv):\n",
    "        \"\"\"\n",
    "        :type str: str\n",
    "        :rtype: int\n",
    "        \"\"\"\n",
    "        strv = strv.strip()\n",
    "        strv = re.findall('(^[\\+\\-0]*\\d+)\\D*', strv)\n",
    "        try:\n",
    "            result = int(''.join(strv))\n",
    "            MAX_INT = 2147483647\n",
    "            MIN_INT = -2147483648\n",
    "            if result > MAX_INT > 0:\n",
    "                return MAX_INT\n",
    "            elif result < MIN_INT < 0:\n",
    "                return MIN_INT\n",
    "            else:\n",
    "                return result\n",
    "        except:\n",
    "            return 0\n",
    "        \n",
    "        \n",
    "                    \n",
    "                    \n",
    "                "
   ]
  },
  {
   "cell_type": "code",
   "execution_count": 13,
   "metadata": {},
   "outputs": [
    {
     "data": {
      "text/plain": [
       "2"
      ]
     },
     "execution_count": 13,
     "metadata": {},
     "output_type": "execute_result"
    }
   ],
   "source": [
    "Solution().myAtoi(\"2 in words\")"
   ]
  },
  {
   "cell_type": "code",
   "execution_count": null,
   "metadata": {},
   "outputs": [],
   "source": []
  },
  {
   "cell_type": "code",
   "execution_count": null,
   "metadata": {},
   "outputs": [],
   "source": []
  },
  {
   "cell_type": "code",
   "execution_count": 33,
   "metadata": {},
   "outputs": [],
   "source": [
    "class Solution(object):\n",
    "    def grayCodeDoesntWork(self, n):\n",
    "        \"\"\"\n",
    "        :type n: int\n",
    "        :rtype: List[int]\n",
    "        \"\"\"\n",
    "        codes = {}\n",
    "        maxLen = 0\n",
    "        for i in range(1<<n):\n",
    "            code = bin(i)[2:]\n",
    "            maxLen = max(maxLen, len(code))\n",
    "            codes[i] = code\n",
    "            \n",
    "        for code in codes:\n",
    "            if(len(codes[code]) < maxLen):\n",
    "                padded_zeros = \"0\"*(maxLen-len(codes[code]))\n",
    "                codes[code] = padded_zeros + codes[code]\n",
    "        \n",
    "    def grayCode(self, n):\n",
    "        ans = []\n",
    "        for i in range(1<<n):\n",
    "            ans.append(i^(i>>1))\n",
    "        return ans"
   ]
  },
  {
   "cell_type": "code",
   "execution_count": 34,
   "metadata": {},
   "outputs": [
    {
     "data": {
      "text/plain": [
       "[0,\n",
       " 1,\n",
       " 3,\n",
       " 2,\n",
       " 6,\n",
       " 7,\n",
       " 5,\n",
       " 4,\n",
       " 12,\n",
       " 13,\n",
       " 15,\n",
       " 14,\n",
       " 10,\n",
       " 11,\n",
       " 9,\n",
       " 8,\n",
       " 24,\n",
       " 25,\n",
       " 27,\n",
       " 26,\n",
       " 30,\n",
       " 31,\n",
       " 29,\n",
       " 28,\n",
       " 20,\n",
       " 21,\n",
       " 23,\n",
       " 22,\n",
       " 18,\n",
       " 19,\n",
       " 17,\n",
       " 16]"
      ]
     },
     "execution_count": 34,
     "metadata": {},
     "output_type": "execute_result"
    }
   ],
   "source": [
    "Solution().grayCode(5)"
   ]
  },
  {
   "cell_type": "code",
   "execution_count": 32,
   "metadata": {},
   "outputs": [
    {
     "name": "stdout",
     "output_type": "stream",
     "text": [
      "1 OR 0  ==>  1\n",
      "10 OR 1  ==>  11\n",
      "10 OR 0  ==>  10\n",
      "100 OR 10  ==>  110\n",
      "100 OR 11  ==>  111\n",
      "100 OR 1  ==>  101\n",
      "100 OR 0  ==>  100\n",
      "1000 OR 100  ==>  1100\n",
      "1000 OR 101  ==>  1101\n",
      "1000 OR 111  ==>  1111\n",
      "1000 OR 110  ==>  1110\n",
      "1000 OR 10  ==>  1010\n",
      "1000 OR 11  ==>  1011\n",
      "1000 OR 1  ==>  1001\n",
      "1000 OR 0  ==>  1000\n",
      "10000 OR 1000  ==>  11000\n",
      "10000 OR 1001  ==>  11001\n",
      "10000 OR 1011  ==>  11011\n",
      "10000 OR 1010  ==>  11010\n",
      "10000 OR 1110  ==>  11110\n",
      "10000 OR 1111  ==>  11111\n",
      "10000 OR 1101  ==>  11101\n",
      "10000 OR 1100  ==>  11100\n",
      "10000 OR 100  ==>  10100\n",
      "10000 OR 101  ==>  10101\n",
      "10000 OR 111  ==>  10111\n",
      "10000 OR 110  ==>  10110\n",
      "10000 OR 10  ==>  10010\n",
      "10000 OR 11  ==>  10011\n",
      "10000 OR 1  ==>  10001\n",
      "10000 OR 0  ==>  10000\n"
     ]
    }
   ],
   "source": [
    "    n= 5\n",
    "    ans = [0]\n",
    "    for i in range(n):\n",
    "        for j in range(len(ans) - 1, -1, -1):\n",
    "            print(bin(1 << i )[2:], \"OR\", bin(ans[j])[2:], \" ==> \", bin(1 << i | ans[j])[2:])\n",
    "            ans.append(1 << i | ans[j])\n",
    "#     return ans"
   ]
  },
  {
   "cell_type": "code",
   "execution_count": null,
   "metadata": {},
   "outputs": [],
   "source": []
  },
  {
   "cell_type": "code",
   "execution_count": null,
   "metadata": {},
   "outputs": [],
   "source": []
  }
 ],
 "metadata": {
  "kernelspec": {
   "display_name": "Python 2",
   "language": "python",
   "name": "python2"
  },
  "language_info": {
   "codemirror_mode": {
    "name": "ipython",
    "version": 2
   },
   "file_extension": ".py",
   "mimetype": "text/x-python",
   "name": "python",
   "nbconvert_exporter": "python",
   "pygments_lexer": "ipython2",
   "version": "2.7.14"
  }
 },
 "nbformat": 4,
 "nbformat_minor": 2
}
