{
 "cells": [
  {
   "cell_type": "code",
   "execution_count": null,
   "metadata": {},
   "outputs": [],
   "source": [
    "class Solution(object):\n",
    "    def snakesAndLadders(self, board):\n",
    "        \"\"\"\n",
    "        :type board: List[List[int]]\n",
    "        :rtype: int\n",
    "        \"\"\"\n",
    "        def get(i, N):\n",
    "            quot, rem = divmod(i-1, N)\n",
    "            row = N - 1 - quot\n",
    "            col = rem if row%2 != N%2 else N - 1 - rem\n",
    "            return row, col\n",
    "        \n",
    "            \n",
    "        \n",
    "        dist = dict()\n",
    "        dist[1] = 0\n",
    "        N = len(board)\n",
    "        \n",
    "        q = collections.deque([1])\n",
    "        while q:\n",
    "            curr_cell = q.popleft()\n",
    "            if curr_cell = N*N:\n",
    "                return dist[curr_cell]\n",
    "            for next_cell in range(curr_cell+1, min(curr_cell+7, N*N)):\n",
    "                r, c = get(next_cell, N)\n",
    "                if board[r][c] != -1:\n",
    "                    \n",
    "                \n",
    "            \n",
    "            \n",
    "            \n",
    "        "
   ]
  },
  {
   "cell_type": "code",
   "execution_count": 5,
   "metadata": {},
   "outputs": [
    {
     "data": {
      "text/plain": [
       "7"
      ]
     },
     "execution_count": 5,
     "metadata": {},
     "output_type": "execute_result"
    }
   ],
   "source": [
    "8 - 1 - (8-1)//8"
   ]
  },
  {
   "cell_type": "code",
   "execution_count": 6,
   "metadata": {},
   "outputs": [],
   "source": [
    "N = 8\n",
    "i = 22\n"
   ]
  },
  {
   "cell_type": "code",
   "execution_count": 13,
   "metadata": {
    "scrolled": false
   },
   "outputs": [
    {
     "name": "stdout",
     "output_type": "stream",
     "text": [
      "0 7 0\n",
      "1 7 1\n",
      "2 7 2\n",
      "3 7 3\n",
      "4 7 4\n",
      "5 7 5\n",
      "6 7 6\n",
      "7 7 7\n",
      "8 6 0\n",
      "9 6 1\n",
      "10 6 2\n",
      "11 6 3\n",
      "12 6 4\n",
      "13 6 5\n",
      "14 6 6\n",
      "15 6 7\n",
      "16 5 0\n",
      "17 5 1\n",
      "18 5 2\n",
      "19 5 3\n",
      "20 5 4\n",
      "21 5 5\n",
      "22 5 6\n",
      "23 5 7\n",
      "24 4 0\n",
      "25 4 1\n",
      "26 4 2\n",
      "27 4 3\n",
      "28 4 4\n",
      "29 4 5\n",
      "30 4 6\n",
      "31 4 7\n",
      "32 3 0\n",
      "33 3 1\n",
      "34 3 2\n",
      "35 3 3\n",
      "36 3 4\n",
      "37 3 5\n",
      "38 3 6\n",
      "39 3 7\n",
      "40 2 0\n",
      "41 2 1\n",
      "42 2 2\n",
      "43 2 3\n",
      "44 2 4\n",
      "45 2 5\n",
      "46 2 6\n",
      "47 2 7\n",
      "48 1 0\n",
      "49 1 1\n",
      "50 1 2\n",
      "51 1 3\n",
      "52 1 4\n",
      "53 1 5\n",
      "54 1 6\n",
      "55 1 7\n",
      "56 0 0\n",
      "57 0 1\n",
      "58 0 2\n",
      "59 0 3\n",
      "60 0 4\n",
      "61 0 5\n",
      "62 0 6\n",
      "63 0 7\n"
     ]
    }
   ],
   "source": [
    "for i in range(1,65):\n",
    "    quot, rem = divmod(i-1, N)\n",
    "    row = N - 1 - quot\n",
    "    col =  rem\n",
    "    print(i-1, row, col)"
   ]
  },
  {
   "cell_type": "code",
   "execution_count": 7,
   "metadata": {},
   "outputs": [
    {
     "data": {
      "text/plain": [
       "6"
      ]
     },
     "execution_count": 7,
     "metadata": {},
     "output_type": "execute_result"
    }
   ],
   "source": [
    "22%8"
   ]
  },
  {
   "cell_type": "code",
   "execution_count": null,
   "metadata": {},
   "outputs": [],
   "source": []
  }
 ],
 "metadata": {
  "kernelspec": {
   "display_name": "Python 3",
   "language": "python",
   "name": "python3"
  },
  "language_info": {
   "codemirror_mode": {
    "name": "ipython",
    "version": 3
   },
   "file_extension": ".py",
   "mimetype": "text/x-python",
   "name": "python",
   "nbconvert_exporter": "python",
   "pygments_lexer": "ipython3",
   "version": "3.6.5"
  }
 },
 "nbformat": 4,
 "nbformat_minor": 2
}
