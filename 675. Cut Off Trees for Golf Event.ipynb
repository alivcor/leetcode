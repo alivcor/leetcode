{
 "cells": [
  {
   "cell_type": "code",
   "execution_count": 9,
   "metadata": {},
   "outputs": [],
   "source": [
    "import collections\n",
    "class Solution(object):\n",
    "    def cutOffTree(self, forest):\n",
    "        trees = sorted((v, r, c) for r, row in enumerate(forest)\n",
    "                       for c, v in enumerate(row) if v > 1)\n",
    "        print(trees)\n",
    "        sr = sc = ans = 0\n",
    "        for _, tr, tc in trees:\n",
    "            d = self.dist(forest, sr, sc, tr, tc)\n",
    "            if d < 0: return -1\n",
    "            ans += d\n",
    "            sr, sc = tr, tc\n",
    "        return ans\n",
    "    \n",
    "    \n",
    "    def dist(self, forest, sr, sc, tr, tc):\n",
    "        mr, mc = len(forest), len(forest[0])\n",
    "        q = collections.deque()\n",
    "        q.append((sr, sc, 0))\n",
    "        seen = {(sr, sc)}\n",
    "        \n",
    "        while q:\n",
    "            r, c, d = q.popleft()\n",
    "            if r == tr and c == tc:\n",
    "                return d\n",
    "            seen.add((r, c))\n",
    "            for nr, nc in [(r-1, c), (r, c-1), (r+1, c), (r, c+1)]:\n",
    "                if (nr, nc) not in seen and nr >= 0 and nc >= 0 and nr < mr and nc < mc and forest[nr][nc]:\n",
    "                    q.append((nr, nc, d+1))\n",
    "        return -1\n",
    "            "
   ]
  },
  {
   "cell_type": "code",
   "execution_count": null,
   "metadata": {},
   "outputs": [],
   "source": []
  },
  {
   "cell_type": "code",
   "execution_count": 10,
   "metadata": {},
   "outputs": [
    {
     "name": "stdout",
     "output_type": "stream",
     "text": [
      "[(2, 0, 1), (3, 0, 2), (4, 1, 2), (5, 2, 2), (6, 2, 1), (7, 2, 0)]\n"
     ]
    },
    {
     "data": {
      "text/plain": [
       "6"
      ]
     },
     "execution_count": 10,
     "metadata": {},
     "output_type": "execute_result"
    }
   ],
   "source": [
    "s = Solution()\n",
    "fst = [[1,2,3],[0,0,4],[7,6,5]]\n",
    "s.cutOffTree(fst)"
   ]
  },
  {
   "cell_type": "code",
   "execution_count": null,
   "metadata": {},
   "outputs": [],
   "source": []
  }
 ],
 "metadata": {
  "kernelspec": {
   "display_name": "Python 3",
   "language": "python",
   "name": "python3"
  },
  "language_info": {
   "codemirror_mode": {
    "name": "ipython",
    "version": 3
   },
   "file_extension": ".py",
   "mimetype": "text/x-python",
   "name": "python",
   "nbconvert_exporter": "python",
   "pygments_lexer": "ipython3",
   "version": "3.6.5"
  }
 },
 "nbformat": 4,
 "nbformat_minor": 2
}
