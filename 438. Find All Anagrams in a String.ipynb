{
 "cells": [
  {
   "cell_type": "markdown",
   "metadata": {},
   "source": [
    "Logic is to have two arrays, one for result and one for checking string (cnts).\n",
    "\n",
    "The cnts array flips to -1 as soon as you cannot get anything out of it. (you squeeze to find similarity!)\n",
    "\n",
    "then you replenish the array\n",
    "\n",
    "1. left always moves with right if there's not a match at current right"
   ]
  },
  {
   "cell_type": "code",
   "execution_count": 58,
   "metadata": {},
   "outputs": [],
   "source": [
    "class Solution:\n",
    "    def findAnagrams(self, s, p):\n",
    "        \"\"\"\n",
    "        :type s: str\n",
    "        :type p: str\n",
    "        :rtype: List[int]\n",
    "        \"\"\"\n",
    "        print(s)\n",
    "        res = []\n",
    "        cnts = [0] * 26\n",
    "        for c in p:\n",
    "            cnts[ord(c) - ord('a')] += 1\n",
    "        left, right = 0, 0\n",
    "        while right < len(s):\n",
    "            cnts[ord(s[right]) - ord('a')] -= 1\n",
    "            print(s[right], cnts[:-20]),\n",
    "            print(\"left\", left, \"right\", right, \"oc\", cnts[ord(s[right]) - ord('a')]),\n",
    "            while left <= right and cnts[ord(s[right]) - ord('a')] < 0:\n",
    "                cnts[ord(s[left]) - ord('a')] += 1\n",
    "                left += 1\n",
    "                print(\"left+=1\"),\n",
    "            if right - left + 1 == len(p):\n",
    "                print(\"left\", left, \"right\", right, s[left:right+1], \"YES\")\n",
    "                \n",
    "                res.append(left)\n",
    "            else:\n",
    "                print(\"left\", left, \"right\", right, s[left:right+1], \"NO\")\n",
    "            right += 1\n",
    "        return res\n",
    "    "
   ]
  },
  {
   "cell_type": "code",
   "execution_count": 59,
   "metadata": {},
   "outputs": [
    {
     "name": "stdout",
     "output_type": "stream",
     "text": [
      "eecbaebabacd\n",
      "('e', [1, 1, 1, 0, -1, 0]) ('left', 0, 'right', 0, 'oc', -1) left+=1 ('left', 1, 'right', 0, '', 'NO')\n",
      "('e', [1, 1, 1, 0, -1, 0]) ('left', 1, 'right', 1, 'oc', -1) left+=1 ('left', 2, 'right', 1, '', 'NO')\n",
      "('c', [1, 1, 0, 0, 0, 0]) ('left', 2, 'right', 2, 'oc', 0) ('left', 2, 'right', 2, 'c', 'NO')\n",
      "('b', [1, 0, 0, 0, 0, 0]) ('left', 2, 'right', 3, 'oc', 0) ('left', 2, 'right', 3, 'cb', 'NO')\n",
      "('a', [0, 0, 0, 0, 0, 0]) ('left', 2, 'right', 4, 'oc', 0) ('left', 2, 'right', 4, 'cba', 'YES')\n",
      "('e', [0, 0, 0, 0, -1, 0]) ('left', 2, 'right', 5, 'oc', -1) left+=1 left+=1 left+=1 left+=1 ('left', 6, 'right', 5, '', 'NO')\n",
      "('b', [1, 0, 1, 0, 0, 0]) ('left', 6, 'right', 6, 'oc', 0) ('left', 6, 'right', 6, 'b', 'NO')\n",
      "('a', [0, 0, 1, 0, 0, 0]) ('left', 6, 'right', 7, 'oc', 0) ('left', 6, 'right', 7, 'ba', 'NO')\n",
      "('b', [0, -1, 1, 0, 0, 0]) ('left', 6, 'right', 8, 'oc', -1) left+=1 ('left', 7, 'right', 8, 'ab', 'NO')\n",
      "('a', [-1, 0, 1, 0, 0, 0]) ('left', 7, 'right', 9, 'oc', -1) left+=1 ('left', 8, 'right', 9, 'ba', 'NO')\n",
      "('c', [0, 0, 0, 0, 0, 0]) ('left', 8, 'right', 10, 'oc', 0) ('left', 8, 'right', 10, 'bac', 'YES')\n",
      "('d', [0, 0, 0, -1, 0, 0]) ('left', 8, 'right', 11, 'oc', -1) left+=1 left+=1 left+=1 left+=1 ('left', 12, 'right', 11, '', 'NO')\n",
      "[2, 8]\n"
     ]
    }
   ],
   "source": [
    "s = Solution()\n",
    "print(s.findAnagrams(\"eecbaebabacd\", \"abc\"))\n"
   ]
  },
  {
   "cell_type": "code",
   "execution_count": null,
   "metadata": {},
   "outputs": [],
   "source": []
  },
  {
   "cell_type": "code",
   "execution_count": null,
   "metadata": {},
   "outputs": [],
   "source": []
  }
 ],
 "metadata": {
  "kernelspec": {
   "display_name": "Python 2",
   "language": "python",
   "name": "python2"
  },
  "language_info": {
   "codemirror_mode": {
    "name": "ipython",
    "version": 2
   },
   "file_extension": ".py",
   "mimetype": "text/x-python",
   "name": "python",
   "nbconvert_exporter": "python",
   "pygments_lexer": "ipython2",
   "version": "2.7.14"
  }
 },
 "nbformat": 4,
 "nbformat_minor": 2
}
