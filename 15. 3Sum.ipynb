{
 "cells": [
  {
   "cell_type": "code",
   "execution_count": 36,
   "metadata": {},
   "outputs": [],
   "source": [
    "class Solution(object):\n",
    "    def threeSum(self, nums):\n",
    "        \"\"\"\n",
    "        :type nums: List[int]\n",
    "        :rtype: List[List[int]]\n",
    "        \"\"\"\n",
    "        nums.sort()\n",
    "        res = []\n",
    "        for i in range(len(nums)):\n",
    "            left = i+1\n",
    "            right = len(nums)-1\n",
    "            while(left < right):\n",
    "                if nums[left] + nums[right] + nums[i] > 0:\n",
    "                    right -= 1\n",
    "                elif nums[left] + nums[right] + nums[i] < 0:\n",
    "                    left += 1\n",
    "                else:\n",
    "                    triplet = [nums[left], nums[i], nums[right]]\n",
    "                    if triplet not in res:\n",
    "                        res.append(triplet) \n",
    "                    left+=1\n",
    "                    right-=1\n",
    "        return res"
   ]
  },
  {
   "cell_type": "code",
   "execution_count": 38,
   "metadata": {
    "scrolled": false
   },
   "outputs": [
    {
     "data": {
      "text/plain": [
       "[[0, -2, 2], [1, -2, 1]]"
      ]
     },
     "execution_count": 38,
     "metadata": {},
     "output_type": "execute_result"
    }
   ],
   "source": [
    "nums=[-2,0,1,1,2]\n",
    "Solution().threeSum([-2,0,1,1,2])\n",
    "# for i,v in enumerate(nums):\n",
    "#     print(i,v)"
   ]
  },
  {
   "cell_type": "code",
   "execution_count": null,
   "metadata": {},
   "outputs": [],
   "source": []
  }
 ],
 "metadata": {
  "kernelspec": {
   "display_name": "Python 3",
   "language": "python",
   "name": "python3"
  },
  "language_info": {
   "codemirror_mode": {
    "name": "ipython",
    "version": 3
   },
   "file_extension": ".py",
   "mimetype": "text/x-python",
   "name": "python",
   "nbconvert_exporter": "python",
   "pygments_lexer": "ipython3",
   "version": "3.6.5"
  }
 },
 "nbformat": 4,
 "nbformat_minor": 2
}
