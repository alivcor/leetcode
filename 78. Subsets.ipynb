{
 "cells": [
  {
   "cell_type": "code",
   "execution_count": 29,
   "metadata": {},
   "outputs": [],
   "source": [
    "class Solution(object):\n",
    "    def powerset(s):\n",
    "        x = len(s)\n",
    "        masks = [1 << i for i in range(x)]\n",
    "        for i in range(1 << x):\n",
    "            for mask, ss in zp(masks, s):\n",
    "                if i& mask:\n",
    "                    yield ss\n",
    "            yield [ss for mask, ss in zip(masks, s) if i & mask]\n",
    "        \n",
    "    def subsets(self, nums):\n",
    "        \"\"\"\n",
    "        :type nums: List[int]\n",
    "        :rtype: List[List[int]]\n",
    "        \"\"\"\n",
    "        lnums = len(nums)\n",
    "        bigger = [i for i in range(1 << lnums)]\n",
    "        smaller = [1<<i for i in range(lnums)]\n",
    "        powerset = []\n",
    "        for i in bigger:\n",
    "            set = []\n",
    "            for j, element in zip(smaller, nums):\n",
    "                if i&j:\n",
    "                    set.append(element)\n",
    "            powerset.append(set)\n",
    "        print(powerset)\n",
    "            "
   ]
  },
  {
   "cell_type": "code",
   "execution_count": 30,
   "metadata": {},
   "outputs": [
    {
     "name": "stdout",
     "output_type": "stream",
     "text": [
      "[[], [3], [5], [3, 5], [8], [3, 8], [5, 8], [3, 5, 8], [-3], [3, -3], [5, -3], [3, 5, -3], [8, -3], [3, 8, -3], [5, 8, -3], [3, 5, 8, -3], [4], [3, 4], [5, 4], [3, 5, 4], [8, 4], [3, 8, 4], [5, 8, 4], [3, 5, 8, 4], [-3, 4], [3, -3, 4], [5, -3, 4], [3, 5, -3, 4], [8, -3, 4], [3, 8, -3, 4], [5, 8, -3, 4], [3, 5, 8, -3, 4]]\n"
     ]
    }
   ],
   "source": [
    "Solution().subsets([3,5,8,-3,4])"
   ]
  },
  {
   "cell_type": "code",
   "execution_count": 3,
   "metadata": {},
   "outputs": [
    {
     "name": "stdout",
     "output_type": "stream",
     "text": [
      "[6, 5, 4] [1, 2, 3, 4, 5, 6]\n"
     ]
    }
   ],
   "source": [
    "import heapq\n",
    "nums = [3,2,1,5,6,4]\n",
    "print(heapq.nlargest(3, nums), list(sorted(nums)))"
   ]
  },
  {
   "cell_type": "code",
   "execution_count": null,
   "metadata": {},
   "outputs": [],
   "source": []
  }
 ],
 "metadata": {
  "kernelspec": {
   "display_name": "Python 3",
   "language": "python",
   "name": "python3"
  },
  "language_info": {
   "codemirror_mode": {
    "name": "ipython",
    "version": 3
   },
   "file_extension": ".py",
   "mimetype": "text/x-python",
   "name": "python",
   "nbconvert_exporter": "python",
   "pygments_lexer": "ipython3",
   "version": "3.6.5"
  }
 },
 "nbformat": 4,
 "nbformat_minor": 2
}
