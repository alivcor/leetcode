{
 "cells": [
  {
   "cell_type": "markdown",
   "metadata": {},
   "source": [
    "### Welcome to the most Disliked Question on LC !\n",
    "\n",
    "To memorize:\n",
    "   # `str = re.findall('(^[\\+\\-0]*\\d+)\\D*', str)`"
   ]
  },
  {
   "cell_type": "code",
   "execution_count": 12,
   "metadata": {},
   "outputs": [],
   "source": [
    "import re\n",
    "class Solution(object):\n",
    "    def myAtoi(self, strv):\n",
    "        \"\"\"\n",
    "        :type str: str\n",
    "        :rtype: int\n",
    "        \"\"\"\n",
    "        strv = strv.strip()\n",
    "        strv = re.findall('(^[\\+\\-0]*\\d+)\\D*', strv)\n",
    "        try:\n",
    "            result = int(''.join(strv))\n",
    "            MAX_INT = 2147483647\n",
    "            MIN_INT = -2147483648\n",
    "            if result > MAX_INT > 0:\n",
    "                return MAX_INT\n",
    "            elif result < MIN_INT < 0:\n",
    "                return MIN_INT\n",
    "            else:\n",
    "                return result\n",
    "        except:\n",
    "            return 0\n",
    "        \n",
    "        \n",
    "                    \n",
    "                    \n",
    "                "
   ]
  },
  {
   "cell_type": "code",
   "execution_count": 13,
   "metadata": {},
   "outputs": [
    {
     "data": {
      "text/plain": [
       "2"
      ]
     },
     "execution_count": 13,
     "metadata": {},
     "output_type": "execute_result"
    }
   ],
   "source": [
    "Solution().myAtoi(\"2 in words\")"
   ]
  },
  {
   "cell_type": "code",
   "execution_count": null,
   "metadata": {},
   "outputs": [],
   "source": []
  },
  {
   "cell_type": "code",
   "execution_count": null,
   "metadata": {},
   "outputs": [],
   "source": []
  }
 ],
 "metadata": {
  "kernelspec": {
   "display_name": "Python 3",
   "language": "python",
   "name": "python3"
  },
  "language_info": {
   "codemirror_mode": {
    "name": "ipython",
    "version": 3
   },
   "file_extension": ".py",
   "mimetype": "text/x-python",
   "name": "python",
   "nbconvert_exporter": "python",
   "pygments_lexer": "ipython3",
   "version": "3.6.5"
  }
 },
 "nbformat": 4,
 "nbformat_minor": 2
}
