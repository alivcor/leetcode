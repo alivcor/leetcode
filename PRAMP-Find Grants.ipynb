{
 "cells": [
  {
   "cell_type": "code",
   "execution_count": 30,
   "metadata": {},
   "outputs": [],
   "source": [
    "\n",
    "def find_grants_cap(grantsArray, newBudget):\n",
    "    numGrants = len(grantsArray)\n",
    "    cap = newBudget*1.0/numGrants*1.0\n",
    "    min_impact = float(\"inf\")\n",
    "    #while (impacted < min_impact):\n",
    "    impacted = 0\n",
    "    deficit, avail = 0, 0\n",
    "    new_grantsArray = [min(cap, grant) for grant in grantsArray]\n",
    "#     last_cap\n",
    "    while(sum(new_grantsArray) <= newBudget):\n",
    "        new_grantsArray = [min(cap, grant) for grant in grantsArray]\n",
    "        print(grantsArray, new_grantsArray, cap)\n",
    "        cap += 1\n",
    "    return cap-2\n",
    "    "
   ]
  },
  {
   "cell_type": "code",
   "execution_count": 31,
   "metadata": {},
   "outputs": [
    {
     "name": "stdout",
     "output_type": "stream",
     "text": [
      "[2, 4] [1.5, 1.5] 1.5\n",
      "[2, 4] [2, 2.5] 2.5\n"
     ]
    },
    {
     "data": {
      "text/plain": [
       "1.5"
      ]
     },
     "execution_count": 31,
     "metadata": {},
     "output_type": "execute_result"
    }
   ],
   "source": [
    "find_grants_cap([2, 4], 3)"
   ]
  },
  {
   "cell_type": "code",
   "execution_count": 32,
   "metadata": {},
   "outputs": [
    {
     "data": {
      "text/plain": [
       "531"
      ]
     },
     "execution_count": 32,
     "metadata": {},
     "output_type": "execute_result"
    }
   ],
   "source": [
    "130+120+110+100+50+21"
   ]
  },
  {
   "cell_type": "code",
   "execution_count": 129,
   "metadata": {},
   "outputs": [],
   "source": [
    "\n",
    "def find_grants_cap(grantsArray, newBudget):\n",
    "    n = len(grantsArray)\n",
    "    grantsArray.sort(reverse=True)\n",
    "    print(grantsArray)\n",
    "    grantsArray.append(0)\n",
    "    surplus = sum(grantsArray) - newBudget\n",
    "    if (surplus <= 0):\n",
    "        return grantsArray[0]\n",
    "    for i in range(n):\n",
    "        print(\"i = \", i, \"surplus = \", surplus, \"left sum = \", sum(grantsArray[:i]), \"replaced_sum = \", (i+1)*grantsArray[i])\n",
    "        print(grantsArray[:i], grantsArray[i])\n",
    "        new_surplus = newBudget - sum(grantsArray[:i]) + (i+1)*grantsArray[i]\n",
    "        print(\"     new_surplus = \", new_surplus)\n",
    "        if new_surplus <= 0:\n",
    "            break\n",
    "        #23.8\n",
    "    print(grantsArray, i, grantsArray[i+1], new_surplus)\n",
    "    return grantsArray[i+1] + (-new_surplus / float(i+1))\n",
    "#     for i in range(n-1):\n",
    "#         surplus -= (i+1) * (grantsArray[i] - grantsArray[i+1])\n",
    "#         print(i, surplus)\n",
    "#         if (surplus <= 0):\n",
    "#             break\n",
    "\n",
    "#     # since grantsArray[i+1] is a lower bound\n",
    "#     # to our cap, i.e. grantsArray[i+1] <= cap,\n",
    "#     # we  need to add to grantsArray[i+1] the\n",
    "#     # difference: (-total / float(i+1), so the\n",
    "#     # returned value equals exactly to cap.\n",
    "#     print(i, surplus)\n",
    "#     return grantsArray[i+1] + (-surplus / float(i+1))"
   ]
  },
  {
   "cell_type": "code",
   "execution_count": 130,
   "metadata": {},
   "outputs": [
    {
     "name": "stdout",
     "output_type": "stream",
     "text": [
      "[130, 120, 110, 100, 50, 21]\n",
      "i =  0 surplus =  391 left sum =  0 replaced_sum =  130\n",
      "[] 130\n",
      "     new_surplus =  270\n",
      "i =  1 surplus =  391 left sum =  130 replaced_sum =  240\n",
      "[130] 120\n",
      "     new_surplus =  250\n",
      "i =  2 surplus =  391 left sum =  250 replaced_sum =  330\n",
      "[130, 120] 110\n",
      "     new_surplus =  220\n",
      "i =  3 surplus =  391 left sum =  360 replaced_sum =  400\n",
      "[130, 120, 110] 100\n",
      "     new_surplus =  180\n",
      "i =  4 surplus =  391 left sum =  460 replaced_sum =  250\n",
      "[130, 120, 110, 100] 50\n",
      "     new_surplus =  -70\n",
      "[130, 120, 110, 100, 50, 21, 0] 4 21 -70\n"
     ]
    },
    {
     "data": {
      "text/plain": [
       "35.0"
      ]
     },
     "execution_count": 130,
     "metadata": {},
     "output_type": "execute_result"
    }
   ],
   "source": [
    "find_grants_cap([21,100,50,120,130,110], 140)\n",
    "# find_grants_cap([2, 4], 3)"
   ]
  },
  {
   "cell_type": "code",
   "execution_count": null,
   "metadata": {},
   "outputs": [],
   "source": [
    "0 381\n",
    "1 361\n",
    "2 331\n",
    "3 131\n",
    "4 -14\n",
    "4 -14"
   ]
  },
  {
   "cell_type": "code",
   "execution_count": null,
   "metadata": {},
   "outputs": [],
   "source": [
    "import java.io.*;\n",
    "import java.util.*;\n",
    "\n",
    "class Solution {\n",
    "  \n",
    "  static double findGrantsCap(double[] grantsArray, double newBudget) {\n",
    "    // your code goes here\n",
    "    int n=grantsArray.length;\n",
    "    Arrays.sort(grantsArray);//[2,50,100,120,1000] left=>[0,2,52,152,272]\n",
    "    double [] left=new double[n];\n",
    "    left[0]=0;\n",
    "    for(int i=1;i<n;i++){\n",
    "      left[i]=left[i-1]+grantsArray[i];\n",
    "    }\n",
    "    //left =[0,2,52,152,272]   \n",
    "    int i=n-1,id=0;//[2,50,100,120,167] 400 \n",
    "    double excess=-1; \n",
    "    while(i>=0){ \n",
    "      if(grantsArray[i]>newBudget) i--;\n",
    "      else{\n",
    "        double sum=(n-i)*grantsArray[i]+left[i];\n",
    "        double sup=sum-newBudget;\n",
    "        if(sup>excess){\n",
    "          excess=sup;\n",
    "          id=i;\n",
    "        }\n",
    "        else break;\n",
    "        i--;\n",
    "      }\n",
    "      \n",
    "    }\n",
    "    double d=grantsArray[id];\n",
    "    double diff=(newBudget-((n-id)*grantsArray[id]+left[id]))/(n-id); \n",
    "    return d+diff;\n",
    "    \n",
    "    \n",
    "  }\n",
    "\n",
    "  public static void main(String[] args) {\n",
    "   \n",
    "  }\n",
    "\n",
    "}"
   ]
  }
 ],
 "metadata": {
  "kernelspec": {
   "display_name": "Python 3",
   "language": "python",
   "name": "python3"
  },
  "language_info": {
   "codemirror_mode": {
    "name": "ipython",
    "version": 3
   },
   "file_extension": ".py",
   "mimetype": "text/x-python",
   "name": "python",
   "nbconvert_exporter": "python",
   "pygments_lexer": "ipython3",
   "version": "3.6.5"
  }
 },
 "nbformat": 4,
 "nbformat_minor": 2
}
