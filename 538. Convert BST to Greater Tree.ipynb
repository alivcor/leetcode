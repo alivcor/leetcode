{
 "cells": [
  {
   "cell_type": "code",
   "execution_count": 32,
   "metadata": {},
   "outputs": [],
   "source": [
    "# Definition for a binary tree node.\n",
    "class TreeNode(object):\n",
    "    def __init__(self, x):\n",
    "        self.val = x\n",
    "        self.left = None\n",
    "        self.right = None\n",
    "        \n",
    "    def __repr__(self):\n",
    "        if self:\n",
    "            return \"{} -> {} -> {}\".format(self.left, self.val, self.right)\n",
    "\n",
    "class Solution(object):\n",
    "    def __init__(self):\n",
    "        self.total = 0\n",
    "        \n",
    "    def convertBST(self, root):\n",
    "        if root:\n",
    "            self.convertBST(root.right)\n",
    "            self.total += root.val\n",
    "            root.val = self.total\n",
    "            self.convertBST(root.left)\n",
    "        return root"
   ]
  },
  {
   "cell_type": "code",
   "execution_count": 33,
   "metadata": {},
   "outputs": [
    {
     "name": "stdout",
     "output_type": "stream",
     "text": [
      "None -> 1 -> None -> 2 -> None -> 5 -> None -> 12 -> None -> 13 -> None -> 17 -> None -> 25 -> None\n",
      "None -> 75 -> None -> 74 -> None -> 72 -> None -> 67 -> None -> 55 -> None -> 42 -> None -> 25 -> None\n"
     ]
    }
   ],
   "source": [
    "t1 = TreeNode(12)\n",
    "t1.left = TreeNode(2)\n",
    "t1.right = TreeNode(17)\n",
    "t1.left.left = TreeNode(1)\n",
    "t1.left.right = TreeNode(5)\n",
    "t1.right.left = TreeNode(13)\n",
    "t1.right.right = TreeNode(25)\n",
    "\n",
    "print t1\n",
    "print Solution().convertBST(t1)"
   ]
  },
  {
   "cell_type": "code",
   "execution_count": null,
   "metadata": {},
   "outputs": [],
   "source": []
  }
 ],
 "metadata": {
  "kernelspec": {
   "display_name": "Python 2",
   "language": "python",
   "name": "python2"
  },
  "language_info": {
   "codemirror_mode": {
    "name": "ipython",
    "version": 2
   },
   "file_extension": ".py",
   "mimetype": "text/x-python",
   "name": "python",
   "nbconvert_exporter": "python",
   "pygments_lexer": "ipython2",
   "version": "2.7.14"
  }
 },
 "nbformat": 4,
 "nbformat_minor": 2
}
