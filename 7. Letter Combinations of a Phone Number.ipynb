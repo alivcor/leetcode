{
 "cells": [
  {
   "cell_type": "code",
   "execution_count": 26,
   "metadata": {},
   "outputs": [],
   "source": [
    "class Solution(object):\n",
    "    def letterCombinations(self, digits):\n",
    "        \"\"\"\n",
    "        :type digits: str\n",
    "        :rtype: List[str]\n",
    "        \"\"\"\n",
    "        import itertools\n",
    "        char_map = {1: \"\", 2: \"abc\", 3: \"def\", 4: \"ghi\", 5: \"jkl\", 6: \"mno\", 7: \"pqrs\", 8: \"tuv\", 9: \"wxyz\"}\n",
    "        possibleCombs = []\n",
    "        for digit in digits:\n",
    "            possibleCombs.append(list(char_map[int(digit)]))\n",
    "        print(possibleCombs)\n",
    "        allCombs = list(itertools.product(*possibleCombs))\n",
    "        return [\"\".join(x) for x in allCombs]\n",
    "    \n",
    "    def letterCombinationsAliter(self, digits):\n",
    "        phone = {'2': ['a', 'b', 'c'],\n",
    "         '3': ['d', 'e', 'f'],\n",
    "         '4': ['g', 'h', 'i'],\n",
    "         '5': ['j', 'k', 'l'],\n",
    "         '6': ['m', 'n', 'o'],\n",
    "         '7': ['p', 'q', 'r', 's'],\n",
    "         '8': ['t', 'u', 'v'],\n",
    "         '9': ['w', 'x', 'y', 'z']}\n",
    "        def backtrack(combs, next_digits):\n",
    "            if len(next_digits) == 0:\n",
    "                result.append(combs)\n",
    "            else:\n",
    "                for letter in phone[next_digits[0]]:\n",
    "                    backtrack(combs + letter, next_digits[1:])\n",
    "        result = []\n",
    "        backtrack(\"\", digits)\n",
    "        return result\n",
    "                "
   ]
  },
  {
   "cell_type": "code",
   "execution_count": 28,
   "metadata": {},
   "outputs": [
    {
     "name": "stdout",
     "output_type": "stream",
     "text": [
      "[['a', 'b', 'c'], ['d', 'e', 'f']]\n",
      "['ad', 'ae', 'af', 'bd', 'be', 'bf', 'cd', 'ce', 'cf']\n",
      "['ad', 'ae', 'af', 'bd', 'be', 'bf', 'cd', 'ce', 'cf']\n"
     ]
    }
   ],
   "source": [
    "print(Solution().letterCombinations(\"23\"))\n",
    "print(Solution().letterCombinationsAliter(\"23\"))"
   ]
  },
  {
   "cell_type": "code",
   "execution_count": null,
   "metadata": {},
   "outputs": [],
   "source": []
  }
 ],
 "metadata": {
  "kernelspec": {
   "display_name": "Python 3",
   "language": "python",
   "name": "python3"
  },
  "language_info": {
   "codemirror_mode": {
    "name": "ipython",
    "version": 3
   },
   "file_extension": ".py",
   "mimetype": "text/x-python",
   "name": "python",
   "nbconvert_exporter": "python",
   "pygments_lexer": "ipython3",
   "version": "3.6.5"
  }
 },
 "nbformat": 4,
 "nbformat_minor": 2
}
