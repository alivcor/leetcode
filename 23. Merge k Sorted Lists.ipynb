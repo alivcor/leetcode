{
 "cells": [
  {
   "cell_type": "code",
   "execution_count": 13,
   "metadata": {},
   "outputs": [],
   "source": [
    "# Definition for singly-linked list.\n",
    "class ListNode(object):\n",
    "    def __init__(self, x):\n",
    "        self.val = x\n",
    "        self.next = None\n",
    "    def __repr__(self):\n",
    "        return \"{} -> {}\".format(self.val, self.next)\n",
    "\n",
    "class Solution(object):\n",
    "    def mergeKLists(self, lists):\n",
    "        \"\"\"\n",
    "        :type lists: List[ListNode]\n",
    "        :rtype: ListNode\n",
    "        \"\"\"\n",
    "        if len(lists) == 0:\n",
    "            return []\n",
    "        \n",
    "        \n",
    "        dummy = ListNode(0)\n",
    "        curr_x = []\n",
    "        for listNode in lists:\n",
    "            if(listNode != None): #My 2 cents to leetcode\n",
    "                curr_x.append(listNode)\n",
    "            \n",
    "        prev = dummy\n",
    "        while(len(curr_x) > 0):\n",
    "            smallest = float(\"inf\")\n",
    "            smallest_arg = 0\n",
    "            for ix, x in enumerate(curr_x):\n",
    "                if x!=None and x.val < smallest:\n",
    "                    smallest = x.val\n",
    "                    smallest_arg = ix\n",
    "            prev.next = ListNode(smallest)\n",
    "            prev = prev.next\n",
    "            if(curr_x[smallest_arg].next == None):\n",
    "                del curr_x[smallest_arg]\n",
    "            else:\n",
    "                curr_x[smallest_arg] = curr_x[smallest_arg].next\n",
    "        return(dummy.next)\n",
    "            \n",
    "                \n",
    "                \n",
    "        "
   ]
  },
  {
   "cell_type": "code",
   "execution_count": 20,
   "metadata": {},
   "outputs": [
    {
     "name": "stdout",
     "output_type": "stream",
     "text": [
      "None\n"
     ]
    }
   ],
   "source": [
    "\n",
    "l1 = ListNode(1)\n",
    "l1.next = ListNode(4)\n",
    "l1.next.next = ListNode(5)\n",
    "\n",
    "l2 = ListNode(1)\n",
    "l2.next = ListNode(3)\n",
    "l2.next.next = ListNode(4)\n",
    "\n",
    "l3 = ListNode(2)\n",
    "l3.next = ListNode(6)\n",
    "tlist = [l1,l2,l3]\n",
    "\n",
    "\n",
    "print(Solution().mergeKLists([None, None]))"
   ]
  },
  {
   "cell_type": "code",
   "execution_count": null,
   "metadata": {},
   "outputs": [],
   "source": []
  }
 ],
 "metadata": {
  "kernelspec": {
   "display_name": "Python 3",
   "language": "python",
   "name": "python3"
  },
  "language_info": {
   "codemirror_mode": {
    "name": "ipython",
    "version": 3
   },
   "file_extension": ".py",
   "mimetype": "text/x-python",
   "name": "python",
   "nbconvert_exporter": "python",
   "pygments_lexer": "ipython3",
   "version": "3.6.5"
  }
 },
 "nbformat": 4,
 "nbformat_minor": 2
}
