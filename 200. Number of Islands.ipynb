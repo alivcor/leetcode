{
 "cells": [
  {
   "cell_type": "code",
   "execution_count": null,
   "metadata": {},
   "outputs": [],
   "source": [
    "class Solution(object):\n",
    "    def numIslands(self, grid):\n",
    "        \"\"\"\n",
    "        :type grid: List[List[str]]\n",
    "        :rtype: int\n",
    "        \"\"\"\n",
    "        if grid == []:\n",
    "            return 0\n",
    "        row = len(grid)\n",
    "        col = len(grid[0])\n",
    "        count = 0\n",
    "        for i in range(row):\n",
    "            for j in range(col):\n",
    "                if grid[i][j] == '1':\n",
    "                    count += 1\n",
    "                    self.dfs(grid, row, col, i, j)\n",
    "        return count\n",
    "                    \n",
    "        \n",
    "        \n",
    "    def dfs(self, grid, row, col, x, y):\n",
    "        if(grid[x][y] == '0'):\n",
    "            return\n",
    "        \n",
    "        grid[x][y] = '0'\n",
    "        \n",
    "        if x!=0:\n",
    "            self.dfs(grid, row, col, x-1, y)\n",
    "        if y!=0:\n",
    "            self.dfs(grid, row, col, x, y-1)\n",
    "        if x!=row-1:\n",
    "            self.dfs(grid, row, col, x+1, y)\n",
    "        if y!=col-1:\n",
    "            self.dfs(grid, row, col, x, y+1)"
   ]
  },
  {
   "cell_type": "code",
   "execution_count": null,
   "metadata": {},
   "outputs": [],
   "source": [
    "Solution()"
   ]
  }
 ],
 "metadata": {
  "kernelspec": {
   "display_name": "Python 3",
   "language": "python",
   "name": "python3"
  },
  "language_info": {
   "codemirror_mode": {
    "name": "ipython",
    "version": 3
   },
   "file_extension": ".py",
   "mimetype": "text/x-python",
   "name": "python",
   "nbconvert_exporter": "python",
   "pygments_lexer": "ipython3",
   "version": "3.6.5"
  }
 },
 "nbformat": 4,
 "nbformat_minor": 2
}
