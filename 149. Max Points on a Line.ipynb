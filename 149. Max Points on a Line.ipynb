{
 "cells": [
  {
   "cell_type": "code",
   "execution_count": 45,
   "metadata": {},
   "outputs": [],
   "source": [
    "import collections\n",
    "class Solution(object):\n",
    "    def gcd(self, a, b):\n",
    "        while b:\n",
    "            a, b = b, a % b\n",
    "        return a\n",
    "\n",
    "    def maxPoints(self, points):\n",
    "        if not points:\n",
    "            return 0\n",
    "\n",
    "#         points = map(lambda p: (p.x, p.y), points)\n",
    "\n",
    "        counter, points, lines = (\n",
    "            collections.Counter(points), list(set(points)),\n",
    "            collections.defaultdict(set))\n",
    "\n",
    "        for i in range(len(points)):\n",
    "            for j in range(i + 1, len(points)):\n",
    "                (x1, y1), (x2, y2) = points[i], points[j]\n",
    "\n",
    "                a, b, c = x1 - x2, y2 - y1, x2 * y1 - x1 * y2\n",
    "                \n",
    "                gcd = self.gcd(self.gcd(abs(a), abs(b)), abs(c))\n",
    "                lines[(a / gcd, b / gcd, c / gcd)] |= {points[i], points[j]}\n",
    "        \n",
    "        print(lines.values(), counter.values())\n",
    "        print([sum([counter[p] for p in ps]) for ps in lines.values()])\n",
    "        return max([sum([counter[p] for p in ps]) for ps in lines.values()])\n"
   ]
  },
  {
   "cell_type": "code",
   "execution_count": 46,
   "metadata": {},
   "outputs": [
    {
     "name": "stdout",
     "output_type": "stream",
     "text": [
      "dict_values([{(1, 1), (3, 3), (2, 2)}, {(1, 1), (2, 2)}]) dict_values([1, 1, 1])\n",
      "[3, 2]\n"
     ]
    },
    {
     "data": {
      "text/plain": [
       "3"
      ]
     },
     "execution_count": 46,
     "metadata": {},
     "output_type": "execute_result"
    }
   ],
   "source": [
    "s = Solution()\n",
    "s.maxPoints([(1,1),(2,2),(3,3)])"
   ]
  },
  {
   "cell_type": "code",
   "execution_count": null,
   "metadata": {},
   "outputs": [],
   "source": []
  },
  {
   "cell_type": "code",
   "execution_count": null,
   "metadata": {},
   "outputs": [],
   "source": []
  }
 ],
 "metadata": {
  "kernelspec": {
   "display_name": "Python 3",
   "language": "python",
   "name": "python3"
  },
  "language_info": {
   "codemirror_mode": {
    "name": "ipython",
    "version": 3
   },
   "file_extension": ".py",
   "mimetype": "text/x-python",
   "name": "python",
   "nbconvert_exporter": "python",
   "pygments_lexer": "ipython3",
   "version": "3.6.5"
  }
 },
 "nbformat": 4,
 "nbformat_minor": 2
}
