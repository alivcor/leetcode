{
 "cells": [
  {
   "cell_type": "code",
   "execution_count": 21,
   "metadata": {},
   "outputs": [],
   "source": [
    "import collections\n",
    "class TicTacToe(object):\n",
    "\n",
    "    def __init__(self, n):\n",
    "        \"\"\"\n",
    "        Initialize your data structure here.\n",
    "        :type n: int\n",
    "        \"\"\"\n",
    "        self.N = n\n",
    "        self.board = collections.defaultdict(int)\n",
    "    \n",
    "    def getCell(self, row, col):\n",
    "        return(row*self.N + col)\n",
    "        \n",
    "        \n",
    "    def move(self, row, col, player):\n",
    "        \"\"\"\n",
    "        Player {player} makes a move at ({row}, {col}).\n",
    "        @param row The row of the board.\n",
    "        @param col The column of the board.\n",
    "        @param player The player, can be either 1 or 2.\n",
    "        @return The current winning condition, can be either:\n",
    "                0: No one wins.\n",
    "                1: Player 1 wins.\n",
    "                2: Player 2 wins.\n",
    "        :type row: int\n",
    "        :type col: int\n",
    "        :type player: int\n",
    "        :rtype: int\n",
    "        \"\"\"\n",
    "        cell_idx = self.getCell(row, col)\n",
    "        self.board[cell_idx] = player\n",
    "        for idx in range(0,self.N**2,self.N):\n",
    "            first = self.board[idx]\n",
    "            if first != 0:\n",
    "                j = 0\n",
    "                isWin = True\n",
    "                while(j < self.N):\n",
    "                    if self.board[idx + j] != first:\n",
    "                        isWin = False\n",
    "                        break\n",
    "                    j+=1\n",
    "                if(isWin):\n",
    "                    return (True, first)\n",
    "            else:\n",
    "                return (False, 0)\n",
    "            \n",
    "                \n",
    "        \n",
    "        \n",
    "\n",
    "\n",
    "# Your TicTacToe object will be instantiated and called as such:\n",
    "# obj = TicTacToe(n)\n",
    "# param_1 = obj.move(row,col,player)"
   ]
  },
  {
   "cell_type": "code",
   "execution_count": 27,
   "metadata": {},
   "outputs": [
    {
     "data": {
      "text/plain": [
       "(True, 1)"
      ]
     },
     "execution_count": 27,
     "metadata": {},
     "output_type": "execute_result"
    }
   ],
   "source": [
    "t = TicTacToe(3)\n",
    "t.move(0,0,1)\n",
    "t.move(0,1,1)\n",
    "t.move(0,2,2)\n",
    "t.move(1,0,1)\n",
    "t.move(1,1,1)\n",
    "t.move(1,2,1)\n",
    "# t.move(2,0,1)\n",
    "# t.move(2,1,1)\n",
    "# t.move(2,2,1)"
   ]
  },
  {
   "cell_type": "code",
   "execution_count": 9,
   "metadata": {},
   "outputs": [
    {
     "ename": "SyntaxError",
     "evalue": "invalid syntax (<ipython-input-9-2d7c34e9f6f1>, line 1)",
     "output_type": "error",
     "traceback": [
      "\u001b[0;36m  File \u001b[0;32m\"<ipython-input-9-2d7c34e9f6f1>\"\u001b[0;36m, line \u001b[0;32m1\u001b[0m\n\u001b[0;31m    0 0 0\u001b[0m\n\u001b[0m      ^\u001b[0m\n\u001b[0;31mSyntaxError\u001b[0m\u001b[0;31m:\u001b[0m invalid syntax\n"
     ]
    }
   ],
   "source": [
    "0 0 0\n",
    "0 0 0\n",
    "0"
   ]
  },
  {
   "cell_type": "code",
   "execution_count": 5,
   "metadata": {},
   "outputs": [
    {
     "data": {
      "text/plain": [
       "Counter({'a': 1, 'b': 1, 'c': 1, 'd': 1})"
      ]
     },
     "execution_count": 5,
     "metadata": {},
     "output_type": "execute_result"
    }
   ],
   "source": [
    "a = \"abcd\"\n",
    "import collections\n",
    "collections.Counter(a)"
   ]
  },
  {
   "cell_type": "code",
   "execution_count": null,
   "metadata": {},
   "outputs": [],
   "source": []
  }
 ],
 "metadata": {
  "kernelspec": {
   "display_name": "Python 3",
   "language": "python",
   "name": "python3"
  },
  "language_info": {
   "codemirror_mode": {
    "name": "ipython",
    "version": 3
   },
   "file_extension": ".py",
   "mimetype": "text/x-python",
   "name": "python",
   "nbconvert_exporter": "python",
   "pygments_lexer": "ipython3",
   "version": "3.6.5"
  }
 },
 "nbformat": 4,
 "nbformat_minor": 2
}
