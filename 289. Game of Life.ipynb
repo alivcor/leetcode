{
 "cells": [
  {
   "cell_type": "code",
   "execution_count": 21,
   "metadata": {},
   "outputs": [],
   "source": [
    "class Solution(object):\n",
    "    def gameOfLife(self, board):\n",
    "        \"\"\"\n",
    "        :type board: List[List[int]]\n",
    "        :rtype: None Do not return anything, modify board in-place instead.\n",
    "        \"\"\"\n",
    "        # Any live cell with fewer than two live neighbors dies, as if caused by under-population.\n",
    "        # Any live cell with two or three live neighbors lives on to the next generation.\n",
    "        # Any live cell with more than three live neighbors dies, as if by over-population..\n",
    "        # Any dead cell with exactly three live neighbors becomes a live cell, as if by reproduction.\n",
    "        dirs = [[0, -1], [-1, 0], [0, 1], [1, 0], [-1, -1], [-1, 1], [1, -1], [1, 1]]\n",
    "        mr, mc = len(board), len(board[0])\n",
    "        # 0 or 2 = dead, dead -> alive\n",
    "        # 1 or 3 = alive, alive -> dead\n",
    "        for r in range(mr):\n",
    "            for c in range(mc):\n",
    "                alive, dead = 0, 0\n",
    "                for _dir in dirs:\n",
    "                    nr, nc = r + _dir[0], c + _dir[1]\n",
    "                    if nr >=0 and nc >= 0 and nr < mr and nc < mc:\n",
    "                        if board[nr][nc]%2:\n",
    "                            alive+=1\n",
    "                        else:\n",
    "                            dead += 1\n",
    "                curr = board[r][c]%2\n",
    "                if (curr and alive < 2) or (curr and alive > 3):\n",
    "                    board[r][c] = 2\n",
    "                elif curr == 0 and alive == 3:\n",
    "                    board[r][c] = 3\n",
    "                print(\"r,c = ({}, {}), curr = {}, alive = {}, dead = {}, board = {}\".format(r,c, curr, alive, dead, board))\n",
    "                \n",
    "#                 print(new_board, board)\n",
    "        # return(board)\n",
    "                    \n",
    "                    \n",
    "                    \n",
    "                \n",
    "        "
   ]
  },
  {
   "cell_type": "code",
   "execution_count": 22,
   "metadata": {},
   "outputs": [
    {
     "name": "stdout",
     "output_type": "stream",
     "text": [
      "r,c = (0, 0), curr = 0, alive = 1, dead = 2, board = [[0, 1, 0], [0, 0, 1], [1, 1, 1], [0, 0, 0]]\n",
      "r,c = (0, 1), curr = 1, alive = 1, dead = 4, board = [[0, 2, 0], [0, 0, 1], [1, 1, 1], [0, 0, 0]]\n",
      "r,c = (0, 2), curr = 0, alive = 1, dead = 2, board = [[0, 2, 0], [0, 0, 1], [1, 1, 1], [0, 0, 0]]\n",
      "r,c = (1, 0), curr = 0, alive = 2, dead = 3, board = [[0, 2, 0], [0, 0, 1], [1, 1, 1], [0, 0, 0]]\n",
      "r,c = (1, 1), curr = 0, alive = 4, dead = 4, board = [[0, 2, 0], [0, 0, 1], [1, 1, 1], [0, 0, 0]]\n",
      "r,c = (1, 2), curr = 1, alive = 2, dead = 3, board = [[0, 2, 0], [0, 0, 1], [1, 1, 1], [0, 0, 0]]\n",
      "r,c = (2, 0), curr = 1, alive = 1, dead = 4, board = [[0, 2, 0], [0, 0, 1], [2, 1, 1], [0, 0, 0]]\n",
      "r,c = (2, 1), curr = 1, alive = 2, dead = 6, board = [[0, 2, 0], [0, 0, 1], [2, 1, 1], [0, 0, 0]]\n",
      "r,c = (2, 2), curr = 1, alive = 2, dead = 3, board = [[0, 2, 0], [0, 0, 1], [2, 1, 1], [0, 0, 0]]\n",
      "r,c = (3, 0), curr = 0, alive = 1, dead = 2, board = [[0, 2, 0], [0, 0, 1], [2, 1, 1], [0, 0, 0]]\n",
      "r,c = (3, 1), curr = 0, alive = 2, dead = 3, board = [[0, 2, 0], [0, 0, 1], [2, 1, 1], [0, 0, 0]]\n",
      "r,c = (3, 2), curr = 0, alive = 2, dead = 1, board = [[0, 2, 0], [0, 0, 1], [2, 1, 1], [0, 0, 0]]\n"
     ]
    }
   ],
   "source": [
    "Solution().gameOfLife([[0,1,0],[0,0,1],[1,1,1],[0,0,0]])"
   ]
  },
  {
   "cell_type": "code",
   "execution_count": null,
   "metadata": {},
   "outputs": [],
   "source": []
  }
 ],
 "metadata": {
  "kernelspec": {
   "display_name": "Python 3",
   "language": "python",
   "name": "python3"
  },
  "language_info": {
   "codemirror_mode": {
    "name": "ipython",
    "version": 3
   },
   "file_extension": ".py",
   "mimetype": "text/x-python",
   "name": "python",
   "nbconvert_exporter": "python",
   "pygments_lexer": "ipython3",
   "version": "3.6.5"
  }
 },
 "nbformat": 4,
 "nbformat_minor": 2
}
