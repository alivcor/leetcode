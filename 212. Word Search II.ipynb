{
 "cells": [
  {
   "cell_type": "code",
   "execution_count": 1,
   "metadata": {},
   "outputs": [],
   "source": [
    "class TrieNode(object):\n",
    "    def __init__(self):\n",
    "        self.children = dict()\n",
    "        self.word = \"\"\n",
    "        self.rank = 0\n",
    "\n",
    "class Trie(object):\n",
    "    def __init__(self):\n",
    "        \"\"\"\n",
    "        Initialize your data structure here.\n",
    "        \"\"\"\n",
    "        self.root = TrieNode()\n",
    "\n",
    "    def insert(self, word):\n",
    "        \"\"\"\n",
    "        Inserts a word into the trie.\n",
    "        :type word: str\n",
    "        :rtype: None\n",
    "        \"\"\"\n",
    "        node = self.root\n",
    "        for w in word:\n",
    "            if w not in node.children:\n",
    "                node.children[w] = TrieNode()\n",
    "            node = node.children[w]\n",
    "        node.word = word\n",
    "        \n",
    "\n",
    "    def search(self, word):\n",
    "        \"\"\"\n",
    "        Returns if the word is in the trie.\n",
    "        :type word: str\n",
    "        :rtype: bool\n",
    "        \"\"\"\n",
    "        node = self.root\n",
    "        for w in word: \n",
    "            if w not in node.children:\n",
    "                return False\n",
    "            node = node.children[w]\n",
    "        if node.word == word:\n",
    "            return True\n",
    "        return False\n",
    "        \n",
    "\n",
    "    def startsWith(self, prefix):\n",
    "        \"\"\"\n",
    "        Returns if there is any word in the trie that starts with the given prefix.\n",
    "        :type prefix: str\n",
    "        :rtype: bool\n",
    "        \"\"\"\n",
    "        node = self.root\n",
    "        for w in prefix:\n",
    "            if w not in node.children:\n",
    "                return False\n",
    "            node = node.children[w]\n",
    "        return True\n",
    "        \n",
    "\n",
    "\n",
    "# Your Trie object will be instantiated and called as such:\n",
    "# obj = Trie()\n",
    "# obj.insert(word)\n",
    "# param_2 = obj.search(word)\n",
    "# param_3 = obj.startsWith(prefix)"
   ]
  },
  {
   "cell_type": "code",
   "execution_count": 35,
   "metadata": {},
   "outputs": [],
   "source": [
    "\n",
    "class Solution(object):\n",
    "    def findWords(self, board, words):\n",
    "        \"\"\"\n",
    "        :type board: List[List[str]]\n",
    "        :type words: List[str]\n",
    "        :rtype: List[str]\n",
    "        \"\"\"\n",
    "        def dfs(board, node, seen, r, c, mr, mc):\n",
    "            if node.word != \"\" and node.word not in self.seen:\n",
    "                self.res.append(node.word)\n",
    "                self.seen.add(node.word)\n",
    "            if r < 0 or c < 0 or r >= mr or c >= mc:\n",
    "                return\n",
    "            \n",
    "            tmp = board[r][c]\n",
    "            if tmp not in node.children:\n",
    "                return\n",
    "            node = node.children[tmp]\n",
    "            \n",
    "            board[r][c] = '#'\n",
    "            dfs(board, node, seen, r+1, c, mr, mc)\n",
    "            dfs(board, node, seen, r-1, c, mr, mc)\n",
    "            dfs(board, node, seen, r, c-1, mr, mc)\n",
    "            dfs(board, node, seen, r, c+1, mr, mc)\n",
    "            board[r][c] = tmp\n",
    "                \n",
    "        trie = Trie()\n",
    "        root = trie.root\n",
    "        for word in words:\n",
    "            trie.insert(word)\n",
    "        \n",
    "        \n",
    "#         print(root.children['o'].children['a'].children['t'].children['h'].word)\n",
    "        self.res  = []\n",
    "        self.seen = set()\n",
    "        mr, mc = len(board), len(board[0])\n",
    "        for r in range(len(board)):\n",
    "            for c in range(len(board[0])):\n",
    "                print(r,c, board, self.res)\n",
    "                dfs(board, root, self.seen, r, c, mr, mc)\n",
    "        return self.res\n",
    "        \n",
    "        "
   ]
  },
  {
   "cell_type": "code",
   "execution_count": 36,
   "metadata": {},
   "outputs": [
    {
     "name": "stdout",
     "output_type": "stream",
     "text": [
      "0 0 [['a', 'a']] []\n",
      "0 1 [['a', 'a']] ['a']\n"
     ]
    },
    {
     "data": {
      "text/plain": [
       "['a']"
      ]
     },
     "execution_count": 36,
     "metadata": {},
     "output_type": "execute_result"
    }
   ],
   "source": [
    "s = Solution()\n",
    "# s.findWords([[\"o\",\"a\",\"a\",\"n\"],[\"e\",\"t\",\"a\",\"e\"],[\"i\",\"h\",\"k\",\"r\"],[\"i\",\"f\",\"l\",\"v\"]], [\"oath\",\"pea\",\"eat\",\"rain\"])\n",
    "s.findWords([[\"a\",\"a\"]], [\"a\"])\n"
   ]
  },
  {
   "cell_type": "code",
   "execution_count": null,
   "metadata": {},
   "outputs": [],
   "source": []
  }
 ],
 "metadata": {
  "kernelspec": {
   "display_name": "Python 3",
   "language": "python",
   "name": "python3"
  },
  "language_info": {
   "codemirror_mode": {
    "name": "ipython",
    "version": 3
   },
   "file_extension": ".py",
   "mimetype": "text/x-python",
   "name": "python",
   "nbconvert_exporter": "python",
   "pygments_lexer": "ipython3",
   "version": "3.6.5"
  }
 },
 "nbformat": 4,
 "nbformat_minor": 2
}
