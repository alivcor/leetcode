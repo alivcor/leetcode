{
 "cells": [
  {
   "cell_type": "code",
   "execution_count": 21,
   "metadata": {},
   "outputs": [],
   "source": [
    "# Definition for singly-linked list with a random pointer.\n",
    "class RandomListNode(object):\n",
    "    def __init__(self, x):\n",
    "        self.label = x\n",
    "        self.next = None\n",
    "        self.random = None\n",
    "    def __repr__(self):\n",
    "        if(self.random != None):\n",
    "            return \"{} ({}) -> {}\".format(self.label, self.random.label, self.next)\n",
    "        else:\n",
    "            return \"{} ({}) -> {}\".format(self.label, \"None\", self.next)\n",
    "    \n",
    "class Solution(object):\n",
    "    def copyRandomList(self, head):\n",
    "        \"\"\"\n",
    "        :type head: RandomListNode\n",
    "        :rtype: RandomListNode\n",
    "        \"\"\"\n",
    "        x = head\n",
    "        dummy = RandomListNode(0)\n",
    "        prev = dummy\n",
    "        idx = 0\n",
    "        seen = []\n",
    "        while(x):\n",
    "            if x not in seen:\n",
    "                newNode = RandomListNode(x.label)\n",
    "                prev.next = newNode\n",
    "                prev = newNode\n",
    "                seen.append(newNode)\n",
    "            else:\n",
    "                existingNode = seen[seen.index(x)]\n",
    "                prev.next = existingNode\n",
    "                prev = existingNode\n",
    "            if(x.random == None):\n",
    "                prev.random = None\n",
    "            else:\n",
    "                if(x.random not in seen):\n",
    "                    newRandomNode = RandomListNode(x.random.label)\n",
    "                    prev.random = newRandomNode\n",
    "            x = x.next\n",
    "            idx += 1\n",
    "        return(dummy.next)\n",
    "            "
   ]
  },
  {
   "cell_type": "code",
   "execution_count": 22,
   "metadata": {},
   "outputs": [],
   "source": [
    "a = RandomListNode('a')\n",
    "b = RandomListNode('b')\n",
    "c = RandomListNode('c')\n",
    "d = RandomListNode('d')\n",
    "e = RandomListNode('e')\n",
    "\n",
    "c.random = b\n",
    "a.next = b\n",
    "a.random = c\n",
    "c.next = d\n",
    "e.random = c\n",
    "d.next = e\n",
    "b.next = c\n",
    "b.random = e"
   ]
  },
  {
   "cell_type": "code",
   "execution_count": 23,
   "metadata": {},
   "outputs": [
    {
     "name": "stdout",
     "output_type": "stream",
     "text": [
      "a (c) -> b (e) -> c (b) -> d (None) -> e (c) -> None\n",
      "a (c) -> b (e) -> c (b) -> d (None) -> e (c) -> None\n"
     ]
    }
   ],
   "source": [
    "print(a)\n",
    "print(Solution().copyRandomList(a))"
   ]
  },
  {
   "cell_type": "code",
   "execution_count": null,
   "metadata": {},
   "outputs": [],
   "source": []
  },
  {
   "cell_type": "code",
   "execution_count": null,
   "metadata": {},
   "outputs": [],
   "source": []
  }
 ],
 "metadata": {
  "kernelspec": {
   "display_name": "Python 3",
   "language": "python",
   "name": "python3"
  },
  "language_info": {
   "codemirror_mode": {
    "name": "ipython",
    "version": 3
   },
   "file_extension": ".py",
   "mimetype": "text/x-python",
   "name": "python",
   "nbconvert_exporter": "python",
   "pygments_lexer": "ipython3",
   "version": "3.6.5"
  }
 },
 "nbformat": 4,
 "nbformat_minor": 2
}
