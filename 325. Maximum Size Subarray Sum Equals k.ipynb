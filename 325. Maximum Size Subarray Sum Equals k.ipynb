{
 "cells": [
  {
   "cell_type": "code",
   "execution_count": 36,
   "metadata": {},
   "outputs": [],
   "source": [
    "def maxSubArrayLen(nums, k):\n",
    "    \"\"\"\n",
    "    :type nums: List[int]\n",
    "    :type k: int\n",
    "    :rtype: int\n",
    "    \"\"\"\n",
    "    sum2pos = {0:0}\n",
    "    ans = float(\"-inf\")\n",
    "    tsum = 0\n",
    "    for i in range(len(nums)):\n",
    "        tsum += nums[i]\n",
    "        wanted = tsum - k\n",
    "        print(\"\\n nums[i] = {}, sum2pos = {} total_sum = {}, wanted = {}\".format(nums[i], sum2pos, tsum, wanted))\n",
    "        if wanted in sum2pos:\n",
    "            length = i - sum2pos[wanted] + 1\n",
    "            print(\"\\t {} is in sum2pos, length using this is {}\".format(wanted, length))\n",
    "            if length > ans:\n",
    "                print(\"\\t\\t updating ans\")\n",
    "                ans = length\n",
    "            else:\n",
    "                print(\"\\t\\t skipping, ans is already larger\")\n",
    "        if tsum not in sum2pos:\n",
    "            print(\"\\t {} is not in sum2pos, setting sum2pos(total_sum,{}) = i+1 = {}\".format(wanted, tsum, i+1))\n",
    "            sum2pos[tsum] = i + 1\n",
    "            \n",
    "    return ans or 0\n"
   ]
  },
  {
   "cell_type": "code",
   "execution_count": 37,
   "metadata": {},
   "outputs": [
    {
     "name": "stdout",
     "output_type": "stream",
     "text": [
      "\n",
      " nums[i] = 0, sum2pos = {0: 0} total_sum = 0, wanted = -3\n",
      "\n",
      " nums[i] = 2, sum2pos = {0: 0} total_sum = 2, wanted = -1\n",
      "\t -1 is not in sum2pos, setting sum2pos(total_sum,2) = i+1 = 2\n",
      "\n",
      " nums[i] = -1, sum2pos = {0: 0, 2: 2} total_sum = 1, wanted = -2\n",
      "\t -2 is not in sum2pos, setting sum2pos(total_sum,1) = i+1 = 3\n",
      "\n",
      " nums[i] = 5, sum2pos = {0: 0, 2: 2, 1: 3} total_sum = 6, wanted = 3\n",
      "\t 3 is not in sum2pos, setting sum2pos(total_sum,6) = i+1 = 4\n",
      "\n",
      " nums[i] = -2, sum2pos = {0: 0, 2: 2, 1: 3, 6: 4} total_sum = 4, wanted = 1\n",
      "\t 1 is in sum2pos, length using this is 2\n",
      "\t\t updating ans\n",
      "\t 1 is not in sum2pos, setting sum2pos(total_sum,4) = i+1 = 5\n",
      "\n",
      " nums[i] = 3, sum2pos = {0: 0, 2: 2, 1: 3, 6: 4, 4: 5} total_sum = 7, wanted = 4\n",
      "\t 4 is in sum2pos, length using this is 1\n",
      "\t\t skipping, ans is already larger\n",
      "\t 4 is not in sum2pos, setting sum2pos(total_sum,7) = i+1 = 6\n"
     ]
    },
    {
     "data": {
      "text/plain": [
       "2"
      ]
     },
     "execution_count": 37,
     "metadata": {},
     "output_type": "execute_result"
    }
   ],
   "source": [
    "maxSubArrayLen([0, 2, -1, 5, -2, 3], 3)"
   ]
  },
  {
   "cell_type": "code",
   "execution_count": 38,
   "metadata": {},
   "outputs": [
    {
     "data": {
      "text/plain": [
       "32"
      ]
     },
     "execution_count": 38,
     "metadata": {},
     "output_type": "execute_result"
    }
   ],
   "source": [
    "1 << 5"
   ]
  },
  {
   "cell_type": "code",
   "execution_count": 41,
   "metadata": {},
   "outputs": [
    {
     "data": {
      "text/plain": [
       "[1, 2, 4, 8, 16]"
      ]
     },
     "execution_count": 41,
     "metadata": {},
     "output_type": "execute_result"
    }
   ],
   "source": [
    "[1 << i for i in range(5)]"
   ]
  },
  {
   "cell_type": "code",
   "execution_count": 44,
   "metadata": {},
   "outputs": [
    {
     "name": "stdout",
     "output_type": "stream",
     "text": [
      "[1, 1, 2, 6] [24, 12, 4, 1]\n",
      "[24, 12, 8, 6]\n"
     ]
    }
   ],
   "source": [
    "nums = [1, 2, 3, 4]\n",
    "lp = [1]*len(nums)\n",
    "rp = [1]*len(nums)\n",
    "\n",
    "for i in range(1, len(nums)):\n",
    "    lp[i] = lp[i-1]*nums[i-1]\n",
    "for i in range(len(nums)-2, -1, -1):\n",
    "    rp[i] = rp[i+1]*nums[i+1]\n",
    "    \n",
    "print(lp, rp)\n",
    "for i in range(len(rp)):\n",
    "    rp[i] = lp[i]*rp[i]\n",
    "print(rp)"
   ]
  },
  {
   "cell_type": "code",
   "execution_count": 45,
   "metadata": {},
   "outputs": [
    {
     "data": {
      "text/plain": [
       "' abc'"
      ]
     },
     "execution_count": 45,
     "metadata": {},
     "output_type": "execute_result"
    }
   ],
   "source": [
    "\"abc\" and ' ' + \"abc\""
   ]
  },
  {
   "cell_type": "code",
   "execution_count": 46,
   "metadata": {},
   "outputs": [
    {
     "data": {
      "text/plain": [
       "''"
      ]
     },
     "execution_count": 46,
     "metadata": {},
     "output_type": "execute_result"
    }
   ],
   "source": [
    "\"\" and ' ' + \"\""
   ]
  },
  {
   "cell_type": "code",
   "execution_count": 50,
   "metadata": {},
   "outputs": [
    {
     "data": {
      "text/plain": [
       "'ab'"
      ]
     },
     "execution_count": 50,
     "metadata": {},
     "output_type": "execute_result"
    }
   ],
   "source": [
    "\"a\" and \"ab\""
   ]
  },
  {
   "cell_type": "code",
   "execution_count": null,
   "metadata": {},
   "outputs": [],
   "source": []
  }
 ],
 "metadata": {
  "kernelspec": {
   "display_name": "Python 3",
   "language": "python",
   "name": "python3"
  },
  "language_info": {
   "codemirror_mode": {
    "name": "ipython",
    "version": 3
   },
   "file_extension": ".py",
   "mimetype": "text/x-python",
   "name": "python",
   "nbconvert_exporter": "python",
   "pygments_lexer": "ipython3",
   "version": "3.6.5"
  }
 },
 "nbformat": 4,
 "nbformat_minor": 2
}
