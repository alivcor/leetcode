{
 "cells": [
  {
   "cell_type": "code",
   "execution_count": 50,
   "metadata": {},
   "outputs": [],
   "source": [
    "class Node(object):\n",
    "    def __init__(self):\n",
    "        self.children = {}\n",
    "        \n",
    "    def setdefault(self, token):\n",
    "        return self.children.setdefault(token, Node())\n",
    "        \n",
    "    def get(self, token):\n",
    "        return self.children.get(token, None)\n",
    "    \n",
    "    def __repr__(self):\n",
    "        return str(self.children)\n",
    "                          \n",
    "class FileSystem(object):\n",
    "    def __init__(self):\n",
    "        self.root = Node()\n",
    "        self.fileinfo = collections.defaultdict(str)\n",
    "        \n",
    "    def ls(self, path):\n",
    "        if path in self.fileinfo:\n",
    "            return path.split('/')[-1:]\n",
    "    \n",
    "        cur = self.root\n",
    "        for token in path.split('/'):\n",
    "            if cur and token:\n",
    "                cur = cur.get(token)\n",
    "\n",
    "        return sorted(cur.children.keys()) if cur else []\n",
    "\n",
    "    def mkdir(self, path):\n",
    "        cur = self.root\n",
    "        for token in path.split('/'):\n",
    "            if token: cur = cur.setdefault(token)\n",
    "                \n",
    "    def addContentToFile(self, filePath, content):\n",
    "        self.mkdir(filePath)\n",
    "        self.fileinfo[filePath] += content\n",
    "\n",
    "    def readContentFromFile(self, filePath):\n",
    "        return self.fileinfo[filePath]\n",
    "    \n",
    "    def printDetails(self):\n",
    "        print(self.fileinfo, self.root)"
   ]
  },
  {
   "cell_type": "code",
   "execution_count": 53,
   "metadata": {},
   "outputs": [
    {
     "name": "stdout",
     "output_type": "stream",
     "text": [
      "defaultdict(<class 'str'>, {'/home/a.txt': 'hello world'}) {'home': {'abc': {}, 'a.txt': {}}}\n"
     ]
    }
   ],
   "source": [
    "f = FileSystem()\n",
    "f.ls(\"/home/abc\")\n",
    "f.mkdir(\"/home/abc\")\n",
    "f.ls(\"/home/\")\n",
    "f.addContentToFile(\"/home/a.txt\", \"hello world\")\n",
    "f.printDetails()"
   ]
  },
  {
   "cell_type": "code",
   "execution_count": null,
   "metadata": {},
   "outputs": [],
   "source": []
  }
 ],
 "metadata": {
  "kernelspec": {
   "display_name": "Python 3",
   "language": "python",
   "name": "python3"
  },
  "language_info": {
   "codemirror_mode": {
    "name": "ipython",
    "version": 3
   },
   "file_extension": ".py",
   "mimetype": "text/x-python",
   "name": "python",
   "nbconvert_exporter": "python",
   "pygments_lexer": "ipython3",
   "version": "3.6.5"
  }
 },
 "nbformat": 4,
 "nbformat_minor": 2
}
